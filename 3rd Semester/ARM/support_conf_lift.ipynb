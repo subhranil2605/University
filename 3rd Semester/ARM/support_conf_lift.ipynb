{
 "cells": [
  {
   "cell_type": "code",
   "execution_count": 7,
   "id": "c346e893-c6ec-4506-9892-a260f977c1ef",
   "metadata": {},
   "outputs": [],
   "source": [
    "from itertools import chain\n",
    "import pandas as pd"
   ]
  },
  {
   "cell_type": "code",
   "execution_count": 1,
   "id": "7497d26e-0ec0-4d55-ae12-33ef5c798542",
   "metadata": {},
   "outputs": [],
   "source": [
    "transcations = {\n",
    "    \"Tid\": [10, 20, 30, 40, 50],\n",
    "    \"Items\": [\n",
    "        [\"Beer\", \"Nuts\", \"Diaper\"],\n",
    "        [\"Beer\", \"Coffee\", \"Diaper\"],\n",
    "        [\"Beer\", \"Diaper\", \"Eggs\"],\n",
    "        [\"Nuts\", \"Eggs\", \"Milk\"],\n",
    "        [\"Nuts\", \"Coffee\", \"Diaper\", \"Eggs\", \"Beer\"],\n",
    "    ]\n",
    "}"
   ]
  },
  {
   "cell_type": "code",
   "execution_count": 3,
   "id": "0ce0ff8f-bdd0-4987-9add-bd8c36b8ac1d",
   "metadata": {},
   "outputs": [
    {
     "data": {
      "text/html": [
       "<div>\n",
       "<style scoped>\n",
       "    .dataframe tbody tr th:only-of-type {\n",
       "        vertical-align: middle;\n",
       "    }\n",
       "\n",
       "    .dataframe tbody tr th {\n",
       "        vertical-align: top;\n",
       "    }\n",
       "\n",
       "    .dataframe thead th {\n",
       "        text-align: right;\n",
       "    }\n",
       "</style>\n",
       "<table border=\"1\" class=\"dataframe\">\n",
       "  <thead>\n",
       "    <tr style=\"text-align: right;\">\n",
       "      <th></th>\n",
       "      <th>Tid</th>\n",
       "      <th>Items</th>\n",
       "    </tr>\n",
       "  </thead>\n",
       "  <tbody>\n",
       "    <tr>\n",
       "      <th>0</th>\n",
       "      <td>10</td>\n",
       "      <td>[Beer, Nuts, Diaper]</td>\n",
       "    </tr>\n",
       "    <tr>\n",
       "      <th>1</th>\n",
       "      <td>20</td>\n",
       "      <td>[Beer, Coffee, Diaper]</td>\n",
       "    </tr>\n",
       "    <tr>\n",
       "      <th>2</th>\n",
       "      <td>30</td>\n",
       "      <td>[Beer, Diaper, Eggs]</td>\n",
       "    </tr>\n",
       "    <tr>\n",
       "      <th>3</th>\n",
       "      <td>40</td>\n",
       "      <td>[Nuts, Eggs, Milk]</td>\n",
       "    </tr>\n",
       "    <tr>\n",
       "      <th>4</th>\n",
       "      <td>50</td>\n",
       "      <td>[Nuts, Coffee, Diaper, Eggs, Beer]</td>\n",
       "    </tr>\n",
       "  </tbody>\n",
       "</table>\n",
       "</div>"
      ],
      "text/plain": [
       "   Tid                               Items\n",
       "0   10                [Beer, Nuts, Diaper]\n",
       "1   20              [Beer, Coffee, Diaper]\n",
       "2   30                [Beer, Diaper, Eggs]\n",
       "3   40                  [Nuts, Eggs, Milk]\n",
       "4   50  [Nuts, Coffee, Diaper, Eggs, Beer]"
      ]
     },
     "execution_count": 3,
     "metadata": {},
     "output_type": "execute_result"
    }
   ],
   "source": [
    "df = pd.DataFrame(transcations)\n",
    "df"
   ]
  },
  {
   "cell_type": "markdown",
   "id": "09c4079a-4119-41bb-8750-9c789e24281d",
   "metadata": {},
   "source": [
    "### Association rule\n",
    "{Beer, Diaper} $\\rightarrow$ Coffee"
   ]
  },
  {
   "cell_type": "code",
   "execution_count": 16,
   "id": "d325fcf4-5de4-486b-a84b-a02be28cb62f",
   "metadata": {},
   "outputs": [
    {
     "data": {
      "text/plain": [
       "{('Beer', 'Diaper'): ('Coffee',)}"
      ]
     },
     "execution_count": 16,
     "metadata": {},
     "output_type": "execute_result"
    }
   ],
   "source": [
    "association_rule = {(\"Beer\", \"Diaper\"): (\"Coffee\",)}\n",
    "association_rule"
   ]
  },
  {
   "cell_type": "markdown",
   "id": "4686d3e2-5985-4088-a375-67a01eb12faa",
   "metadata": {},
   "source": [
    "---\n",
    "## Support"
   ]
  },
  {
   "cell_type": "code",
   "execution_count": 69,
   "id": "6661ad97-fb36-475b-839e-82712fa188d1",
   "metadata": {},
   "outputs": [
    {
     "data": {
      "text/plain": [
       "2"
      ]
     },
     "execution_count": 69,
     "metadata": {},
     "output_type": "execute_result"
    }
   ],
   "source": [
    "def abs_support(ds, assc_rule):\n",
    "    c = 0\n",
    "    for i in ds.Items.values:\n",
    "        a = list(chain(*chain(*assc_rule.items())))\n",
    "        if all(elem in i for elem in a):\n",
    "            c += 1\n",
    "    return c\n",
    "        \n",
    "abs_support(df, association_rule)"
   ]
  },
  {
   "cell_type": "code",
   "execution_count": 70,
   "id": "1da6e778-b192-405b-a2c5-2a14f3d26bfb",
   "metadata": {},
   "outputs": [],
   "source": [
    "def normalized_support(ds, assc_rule):\n",
    "    return abs_support(ds, assc_rule) / len(ds)"
   ]
  },
  {
   "cell_type": "code",
   "execution_count": 66,
   "id": "6a437f05-b7c6-4ffa-95c3-19f0fedfb0fe",
   "metadata": {},
   "outputs": [
    {
     "data": {
      "text/plain": [
       "0.4"
      ]
     },
     "execution_count": 66,
     "metadata": {},
     "output_type": "execute_result"
    }
   ],
   "source": [
    "normalized_support(df, association_rule)"
   ]
  },
  {
   "cell_type": "markdown",
   "id": "4fea6185-df53-4a0c-b47c-10d406764aab",
   "metadata": {},
   "source": [
    "---\n",
    "## Confidence"
   ]
  },
  {
   "cell_type": "code",
   "execution_count": 77,
   "id": "9012f5c7-c623-42b1-98fd-94cdf0911588",
   "metadata": {},
   "outputs": [],
   "source": [
    "def confidence(ds, assc_rule):\n",
    "    c = 0\n",
    "    for i in ds.Items.values:\n",
    "        a = list(chain(*assc_rule.keys()))\n",
    "        if all(elem in i for elem in a):\n",
    "            c += 1\n",
    "    return abs_support(ds, assc_rule) / c "
   ]
  },
  {
   "cell_type": "code",
   "execution_count": 78,
   "id": "fba1efae-e8e3-4074-8f11-02a15a4b681b",
   "metadata": {},
   "outputs": [
    {
     "data": {
      "text/plain": [
       "0.5"
      ]
     },
     "execution_count": 78,
     "metadata": {},
     "output_type": "execute_result"
    }
   ],
   "source": [
    "confidence(df, association_rule)"
   ]
  },
  {
   "cell_type": "markdown",
   "id": "d875c8bf-3a7e-42fd-bf98-528e0b7cc166",
   "metadata": {},
   "source": [
    "---\n",
    "## Lift"
   ]
  },
  {
   "cell_type": "code",
   "execution_count": 79,
   "id": "15953a0d-c438-4317-8cce-532113d48982",
   "metadata": {},
   "outputs": [],
   "source": [
    "def lift(ds, assc_rule):\n",
    "    c = 0\n",
    "    for i in ds.Items.values:\n",
    "        a = list(chain(*assc_rule.values()))\n",
    "        if all(elem in i for elem in a):\n",
    "            c += 1\n",
    "    return (len(ds) * confidence(ds, assc_rule)) / c"
   ]
  },
  {
   "cell_type": "code",
   "execution_count": 80,
   "id": "2a4ee5e2-77ab-4d26-b33a-51f6d2aa833e",
   "metadata": {},
   "outputs": [
    {
     "data": {
      "text/plain": [
       "1.25"
      ]
     },
     "execution_count": 80,
     "metadata": {},
     "output_type": "execute_result"
    }
   ],
   "source": [
    "lift(df, association_rule)"
   ]
  },
  {
   "cell_type": "code",
   "execution_count": null,
   "id": "86345e53-b8f7-4689-8ed9-b29477437585",
   "metadata": {},
   "outputs": [],
   "source": []
  }
 ],
 "metadata": {
  "kernelspec": {
   "display_name": "Python 3 (ipykernel)",
   "language": "python",
   "name": "python3"
  },
  "language_info": {
   "codemirror_mode": {
    "name": "ipython",
    "version": 3
   },
   "file_extension": ".py",
   "mimetype": "text/x-python",
   "name": "python",
   "nbconvert_exporter": "python",
   "pygments_lexer": "ipython3",
   "version": "3.10.8"
  }
 },
 "nbformat": 4,
 "nbformat_minor": 5
}
