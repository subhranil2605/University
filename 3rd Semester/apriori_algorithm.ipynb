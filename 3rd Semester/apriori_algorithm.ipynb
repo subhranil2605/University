{
 "cells": [
  {
   "cell_type": "code",
   "execution_count": 5,
   "id": "65c776a5-a3bc-4513-bb41-8c1b650ed1d9",
   "metadata": {},
   "outputs": [],
   "source": [
    "import pandas as pd\n",
    "import numpy as np\n",
    "from itertools import chain"
   ]
  },
  {
   "cell_type": "code",
   "execution_count": 6,
   "id": "e953b7eb-4d48-4a83-a85e-36a2678f76dd",
   "metadata": {},
   "outputs": [],
   "source": [
    "dataset = [\n",
    "    [1, 3, 4],\n",
    "    [2, 3, 5],\n",
    "    [1, 2, 3, 5],\n",
    "    [2, 5]\n",
    "]\n",
    "\n",
    "min_sup = 0.5"
   ]
  },
  {
   "cell_type": "code",
   "execution_count": 7,
   "id": "472b08ca-2e22-4dce-ac21-0839bcf307f8",
   "metadata": {},
   "outputs": [
    {
     "data": {
      "text/plain": [
       "2"
      ]
     },
     "execution_count": 7,
     "metadata": {},
     "output_type": "execute_result"
    }
   ],
   "source": [
    "abs_min_sup = int(len(dataset) * min_sup)\n",
    "abs_min_sup"
   ]
  },
  {
   "cell_type": "code",
   "execution_count": 8,
   "id": "12b9c8d9-98ad-4807-9051-06c605eebdc2",
   "metadata": {},
   "outputs": [],
   "source": [
    "# find support of each item in the transaction dataset\n",
    "def find_support_item(dataset):\n",
    "    return {i: list(chain(*dataset)).count(i) for i in sorted(set(chain(*dataset)))}"
   ]
  },
  {
   "cell_type": "code",
   "execution_count": 9,
   "id": "6611f99a-e95d-43f5-b061-832a04019ad9",
   "metadata": {},
   "outputs": [],
   "source": [
    "def find_frequent_1_itemsets(dataset):\n",
    "    supports = find_support_item(dataset)\n",
    "    return {key:val for key, val in supports.items() if val >= abs_min_sup}"
   ]
  },
  {
   "cell_type": "code",
   "execution_count": null,
   "id": "f502b4cc-8aac-46e6-8003-2620755d9b8e",
   "metadata": {},
   "outputs": [],
   "source": [
    "def has_infrequent_subset()"
   ]
  },
  {
   "cell_type": "code",
   "execution_count": 47,
   "id": "09846781-f2a1-4897-a858-8210c42d9847",
   "metadata": {},
   "outputs": [],
   "source": [
    "def apriori_gen(f):\n",
    "    C_k = set()\n",
    "    if isinstance(f)\n",
    "    for i in list(f):\n",
    "        for j in list(f):\n",
    "            if (i[-1] < j[-1]):\n",
    "                c = set(i).union(set(j))\n",
    "                print(c)\n",
    "\n",
    "    return C_k"
   ]
  },
  {
   "cell_type": "code",
   "execution_count": 48,
   "id": "3bdf1759-4db8-418f-bdf6-ed32841cd367",
   "metadata": {},
   "outputs": [
    {
     "ename": "TypeError",
     "evalue": "'int' object is not subscriptable",
     "output_type": "error",
     "traceback": [
      "\u001b[1;31m---------------------------------------------------------------------------\u001b[0m",
      "\u001b[1;31mTypeError\u001b[0m                                 Traceback (most recent call last)",
      "Cell \u001b[1;32mIn [48], line 1\u001b[0m\n\u001b[1;32m----> 1\u001b[0m b \u001b[38;5;241m=\u001b[39m \u001b[43mapriori_gen\u001b[49m\u001b[43m(\u001b[49m\u001b[38;5;28;43mlist\u001b[39;49m\u001b[43m(\u001b[49m\u001b[43mf_1\u001b[49m\u001b[38;5;241;43m.\u001b[39;49m\u001b[43mkeys\u001b[49m\u001b[43m(\u001b[49m\u001b[43m)\u001b[49m\u001b[43m)\u001b[49m\u001b[43m)\u001b[49m\n\u001b[0;32m      2\u001b[0m b\n",
      "Cell \u001b[1;32mIn [47], line 5\u001b[0m, in \u001b[0;36mapriori_gen\u001b[1;34m(f)\u001b[0m\n\u001b[0;32m      3\u001b[0m \u001b[38;5;28;01mfor\u001b[39;00m i \u001b[38;5;129;01min\u001b[39;00m \u001b[38;5;28mlist\u001b[39m(f):\n\u001b[0;32m      4\u001b[0m     \u001b[38;5;28;01mfor\u001b[39;00m j \u001b[38;5;129;01min\u001b[39;00m \u001b[38;5;28mlist\u001b[39m(f):\n\u001b[1;32m----> 5\u001b[0m         \u001b[38;5;28;01mif\u001b[39;00m (\u001b[43mi\u001b[49m\u001b[43m[\u001b[49m\u001b[38;5;241;43m-\u001b[39;49m\u001b[38;5;241;43m1\u001b[39;49m\u001b[43m]\u001b[49m \u001b[38;5;241m<\u001b[39m j[\u001b[38;5;241m-\u001b[39m\u001b[38;5;241m1\u001b[39m]):\n\u001b[0;32m      6\u001b[0m             c \u001b[38;5;241m=\u001b[39m \u001b[38;5;28mset\u001b[39m(i)\u001b[38;5;241m.\u001b[39munion(\u001b[38;5;28mset\u001b[39m(j))\n\u001b[0;32m      7\u001b[0m             \u001b[38;5;28mprint\u001b[39m(c)\n",
      "\u001b[1;31mTypeError\u001b[0m: 'int' object is not subscriptable"
     ]
    }
   ],
   "source": [
    "b = apriori_gen(list(f_1.keys()))\n",
    "b"
   ]
  },
  {
   "cell_type": "code",
   "execution_count": 39,
   "id": "2f5a084a-1ae8-4cdb-97fd-083edb042220",
   "metadata": {},
   "outputs": [],
   "source": [
    "import itertools\n",
    "\n",
    "def generate_subsets(s):\n",
    "    subsets = []\n",
    "    for k in range(len(s) + 1):\n",
    "        for subset in itertools.combinations(s, k):\n",
    "            subsets.append(set(subset))\n",
    "    return subsets"
   ]
  },
  {
   "cell_type": "code",
   "execution_count": 36,
   "id": "9492e538-0fd1-4ebd-8a7f-a97b10ee87fb",
   "metadata": {},
   "outputs": [],
   "source": [
    "b"
   ]
  },
  {
   "cell_type": "code",
   "execution_count": 41,
   "id": "15ee6800-e7ff-46d1-be67-bab18a46123e",
   "metadata": {},
   "outputs": [
    {
     "data": {
      "text/plain": [
       "{(1, 2), (1, 3), (1, 5), (2, 3), (2, 5), (3, 5)}"
      ]
     },
     "execution_count": 41,
     "metadata": {},
     "output_type": "execute_result"
    }
   ],
   "source": [
    "apriori_gen([(1, 3), (2, 3), (2, 5), (3, 5)])"
   ]
  },
  {
   "cell_type": "code",
   "execution_count": 44,
   "id": "9c4c5ff9-99ba-4b6c-bee6-58105d6d4d42",
   "metadata": {},
   "outputs": [
    {
     "name": "stdout",
     "output_type": "stream",
     "text": [
      "{1, 2, 3, 5}\n",
      "{1, 3, 5}\n",
      "{2, 3, 5}\n",
      "{2, 3, 5}\n"
     ]
    }
   ],
   "source": [
    "for i in [(1, 3), (2, 3), (2, 5), (3, 5)]:\n",
    "    for j in [(1, 3), (2, 3), (2, 5), (3, 5)]:\n",
    "        if (i[-1] < j[-1]):\n",
    "            c = set(i).union(set(j))\n",
    "            print(c)"
   ]
  },
  {
   "cell_type": "code",
   "execution_count": null,
   "id": "83f46fb1-4a35-4da3-af0b-b9ea5342d281",
   "metadata": {},
   "outputs": [],
   "source": [
    "isinstance(5) ==int"
   ]
  }
 ],
 "metadata": {
  "kernelspec": {
   "display_name": "Python 3 (ipykernel)",
   "language": "python",
   "name": "python3"
  },
  "language_info": {
   "codemirror_mode": {
    "name": "ipython",
    "version": 3
   },
   "file_extension": ".py",
   "mimetype": "text/x-python",
   "name": "python",
   "nbconvert_exporter": "python",
   "pygments_lexer": "ipython3",
   "version": "3.10.8"
  }
 },
 "nbformat": 4,
 "nbformat_minor": 5
}
