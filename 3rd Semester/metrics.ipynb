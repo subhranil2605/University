{
 "cells": [
  {
   "cell_type": "code",
   "execution_count": 37,
   "id": "a55d5cb2-56f8-411b-88cb-fed7b897271d",
   "metadata": {},
   "outputs": [],
   "source": [
    "import numpy as np\n",
    "from sklearn.metrics import confusion_matrix"
   ]
  },
  {
   "cell_type": "code",
   "execution_count": 23,
   "id": "96eff4ed-68c6-4d69-ad2a-ec43183b5531",
   "metadata": {},
   "outputs": [],
   "source": [
    "predicted_values = np.random.randint(2, size=100)\n",
    "actual_values = np.random.randint(2, size=100)"
   ]
  },
  {
   "cell_type": "markdown",
   "id": "b3b91579-ea98-4e1e-8572-cd3660e6fcac",
   "metadata": {},
   "source": [
    "## Confusion matrix"
   ]
  },
  {
   "cell_type": "code",
   "execution_count": 34,
   "id": "4a850e27-ca41-4cac-9c98-24b8edc49520",
   "metadata": {},
   "outputs": [],
   "source": [
    "def get_confusion_matrix(actual, predicted):\n",
    "    TP, FP = 0, 0\n",
    "    FN, TN = 0, 0\n",
    "    for i, j in zip(actual, predicted):\n",
    "        if i == 1 and j == 1:\n",
    "            TP += 1\n",
    "        elif i == 1 and j == 0:\n",
    "            FP += 1\n",
    "        elif i == 0 and j == 1:\n",
    "            FN += 1\n",
    "        elif i == 0 and j == 0:\n",
    "            TN += 1\n",
    "            \n",
    "    return np.array([\n",
    "        [TP, FP],\n",
    "        [FN, TN]\n",
    "    ])"
   ]
  },
  {
   "cell_type": "code",
   "execution_count": 39,
   "id": "4217db02-2c29-48f8-8c9c-a5f33e3c2095",
   "metadata": {},
   "outputs": [
    {
     "data": {
      "text/plain": [
       "array([[28, 21],\n",
       "       [27, 24]])"
      ]
     },
     "execution_count": 39,
     "metadata": {},
     "output_type": "execute_result"
    }
   ],
   "source": [
    "cnf_matrix = get_confusion_matrix(actual_values, predicted_values)\n",
    "cnf_matrix"
   ]
  },
  {
   "cell_type": "markdown",
   "id": "d4e6f729-d3d1-44de-90e6-b217263f78dc",
   "metadata": {},
   "source": [
    "---\n",
    "## Specificity (TNR)\n",
    "$$\n",
    "    SP = \\frac{TN}{TN + FP}\n",
    "$$"
   ]
  },
  {
   "cell_type": "code",
   "execution_count": 44,
   "id": "38072b74-1af9-48b1-8639-607c3512b972",
   "metadata": {},
   "outputs": [],
   "source": [
    "def specificity(cnf_matrix):\n",
    "    tp, fp, fn, tn = cnf_matrix.flatten()\n",
    "    return tn / (tn + fp)"
   ]
  },
  {
   "cell_type": "code",
   "execution_count": 45,
   "id": "1dc637d0-79bc-451d-afc7-0de3155f8c0c",
   "metadata": {},
   "outputs": [
    {
     "data": {
      "text/plain": [
       "0.5333333333333333"
      ]
     },
     "execution_count": 45,
     "metadata": {},
     "output_type": "execute_result"
    }
   ],
   "source": [
    "specificity(cnf_matrix)"
   ]
  },
  {
   "cell_type": "markdown",
   "id": "e0737d43-ba21-490a-b52d-7431d418e9e0",
   "metadata": {},
   "source": [
    "---\n",
    "## Sensitivity (Recall or TPR)\n",
    "$$\n",
    "    SN = \\frac{TP}{TP + FN}\n",
    "$$"
   ]
  },
  {
   "cell_type": "code",
   "execution_count": 46,
   "id": "bb9d7e75-6af6-4997-a01f-e56237547de6",
   "metadata": {},
   "outputs": [],
   "source": [
    "def sensitivity(cnf_matrix):\n",
    "    tp, fp, fn, tn = cnf_matrix.flatten()\n",
    "    return tp / (tp + fn)"
   ]
  },
  {
   "cell_type": "code",
   "execution_count": 47,
   "id": "1dcdf91e-a5f2-43ba-bf05-f44bdf136fd5",
   "metadata": {},
   "outputs": [
    {
     "data": {
      "text/plain": [
       "0.509090909090909"
      ]
     },
     "execution_count": 47,
     "metadata": {},
     "output_type": "execute_result"
    }
   ],
   "source": [
    "sensitivity(cnf_matrix)"
   ]
  },
  {
   "cell_type": "markdown",
   "id": "26b49a4b-3074-4330-83a1-cbe35bda3131",
   "metadata": {},
   "source": [
    "---\n",
    "## Precision\n",
    "$$\n",
    "    PREC = \\frac{TP}{TP + FP}\n",
    "$$"
   ]
  },
  {
   "cell_type": "code",
   "execution_count": 48,
   "id": "99a6a2e9-d6af-4d30-891a-001e783a7353",
   "metadata": {},
   "outputs": [],
   "source": [
    "def precision(cnf_matrix):\n",
    "    tp, fp, fn, tn = cnf_matrix.flatten()\n",
    "    return tp / (tp + fp)"
   ]
  },
  {
   "cell_type": "code",
   "execution_count": 49,
   "id": "a5628856-3d51-4edf-ba45-4ec439dae8d2",
   "metadata": {},
   "outputs": [
    {
     "data": {
      "text/plain": [
       "0.5714285714285714"
      ]
     },
     "execution_count": 49,
     "metadata": {},
     "output_type": "execute_result"
    }
   ],
   "source": [
    "precision(cnf_matrix)"
   ]
  },
  {
   "cell_type": "markdown",
   "id": "889ba284-1856-47cc-af1d-585495b1333e",
   "metadata": {},
   "source": [
    "---\n",
    "## FPR\n",
    "$$\n",
    "    FPR = \\frac{FP}{TN + FP}\n",
    "$$"
   ]
  },
  {
   "cell_type": "code",
   "execution_count": 50,
   "id": "5bb6773f-9414-49e3-9da4-6467843fdf21",
   "metadata": {},
   "outputs": [],
   "source": [
    "def FPR(cnf_matrix):\n",
    "    tp, fp, fn, tn = cnf_matrix.flatten()\n",
    "    return fp / (tn + fp)"
   ]
  },
  {
   "cell_type": "code",
   "execution_count": 51,
   "id": "c833d129-2568-4fd3-af34-74447d3610de",
   "metadata": {},
   "outputs": [
    {
     "data": {
      "text/plain": [
       "0.4666666666666667"
      ]
     },
     "execution_count": 51,
     "metadata": {},
     "output_type": "execute_result"
    }
   ],
   "source": [
    "FPR(cnf_matrix)"
   ]
  },
  {
   "cell_type": "markdown",
   "id": "57603ae8-e9a2-4e4d-82a7-71e06499418c",
   "metadata": {},
   "source": [
    "---\n",
    "## F-Score\n",
    "$$\n",
    "    FPR = \\frac{(1 + \\beta^2)(PREC\\cdot REC)}{\\beta^2\\cdot PREC + REC}\n",
    "$$"
   ]
  },
  {
   "cell_type": "code",
   "execution_count": 52,
   "id": "562d3e4d-46a8-4d8f-a85a-66ea6c4966e4",
   "metadata": {},
   "outputs": [],
   "source": [
    "def F_score(b, cnf_matrix):\n",
    "    n = (1 + np.power(b, 2)) * precision(cnf_matrix) * sensitivity(cnf_matrix)\n",
    "    d = np.power(b, 2) * precision(cnf_matrix) + sensitivity(cnf_matrix)\n",
    "    return n / d"
   ]
  },
  {
   "cell_type": "code",
   "execution_count": 53,
   "id": "49305cc1-8685-496e-b15d-b97dbbe8e300",
   "metadata": {},
   "outputs": [
    {
     "data": {
      "text/plain": [
       "[0.5577689243027888, 0.5384615384615383, 0.520446096654275]"
      ]
     },
     "execution_count": 53,
     "metadata": {},
     "output_type": "execute_result"
    }
   ],
   "source": [
    "b_values = [0.5, 1, 2]\n",
    "f_scores = [F_score(i, cnf_matrix) for i in b_values]\n",
    "f_scores"
   ]
  },
  {
   "cell_type": "code",
   "execution_count": null,
   "id": "9e36f485-8166-4b76-a373-9e3c63e23899",
   "metadata": {},
   "outputs": [],
   "source": []
  }
 ],
 "metadata": {
  "kernelspec": {
   "display_name": "Python 3 (ipykernel)",
   "language": "python",
   "name": "python3"
  },
  "language_info": {
   "codemirror_mode": {
    "name": "ipython",
    "version": 3
   },
   "file_extension": ".py",
   "mimetype": "text/x-python",
   "name": "python",
   "nbconvert_exporter": "python",
   "pygments_lexer": "ipython3",
   "version": "3.10.8"
  }
 },
 "nbformat": 4,
 "nbformat_minor": 5
}
