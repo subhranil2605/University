{
 "cells": [
  {
   "cell_type": "code",
   "execution_count": 173,
   "id": "20e8ae41-a435-431c-a826-2c2b40f8e33d",
   "metadata": {},
   "outputs": [],
   "source": [
    "import numpy as np\n",
    "import pandas as pd"
   ]
  },
  {
   "cell_type": "code",
   "execution_count": 174,
   "id": "9825a6a6-c05b-41fc-8f92-d8f053a8fd1b",
   "metadata": {},
   "outputs": [],
   "source": [
    "# Generate random binary attribute values\n",
    "X = pd.DataFrame(np.random.randint(2, size=(1000, 5)), columns=['attr1', 'attr2', 'attr3', 'attr4', 'attr5'])\n",
    "\n",
    "# Generate random binary class labels\n",
    "y = pd.DataFrame(np.random.randint(2, size=(1000, 1)), columns=['class_label'])\n",
    "\n",
    "# Concatenate attribute and label data into a single DataFrame\n",
    "df = pd.concat([X, y], axis=1)"
   ]
  },
  {
   "cell_type": "code",
   "execution_count": 175,
   "id": "7c26e5ce-bc23-46bc-a25b-81770f201e4b",
   "metadata": {},
   "outputs": [
    {
     "data": {
      "text/html": [
       "<div>\n",
       "<style scoped>\n",
       "    .dataframe tbody tr th:only-of-type {\n",
       "        vertical-align: middle;\n",
       "    }\n",
       "\n",
       "    .dataframe tbody tr th {\n",
       "        vertical-align: top;\n",
       "    }\n",
       "\n",
       "    .dataframe thead th {\n",
       "        text-align: right;\n",
       "    }\n",
       "</style>\n",
       "<table border=\"1\" class=\"dataframe\">\n",
       "  <thead>\n",
       "    <tr style=\"text-align: right;\">\n",
       "      <th></th>\n",
       "      <th>attr1</th>\n",
       "      <th>attr2</th>\n",
       "      <th>attr3</th>\n",
       "      <th>attr4</th>\n",
       "      <th>attr5</th>\n",
       "      <th>class_label</th>\n",
       "    </tr>\n",
       "  </thead>\n",
       "  <tbody>\n",
       "    <tr>\n",
       "      <th>0</th>\n",
       "      <td>0</td>\n",
       "      <td>1</td>\n",
       "      <td>0</td>\n",
       "      <td>1</td>\n",
       "      <td>1</td>\n",
       "      <td>1</td>\n",
       "    </tr>\n",
       "    <tr>\n",
       "      <th>1</th>\n",
       "      <td>1</td>\n",
       "      <td>1</td>\n",
       "      <td>0</td>\n",
       "      <td>0</td>\n",
       "      <td>1</td>\n",
       "      <td>0</td>\n",
       "    </tr>\n",
       "    <tr>\n",
       "      <th>2</th>\n",
       "      <td>0</td>\n",
       "      <td>1</td>\n",
       "      <td>0</td>\n",
       "      <td>0</td>\n",
       "      <td>0</td>\n",
       "      <td>0</td>\n",
       "    </tr>\n",
       "    <tr>\n",
       "      <th>3</th>\n",
       "      <td>0</td>\n",
       "      <td>0</td>\n",
       "      <td>0</td>\n",
       "      <td>1</td>\n",
       "      <td>0</td>\n",
       "      <td>1</td>\n",
       "    </tr>\n",
       "    <tr>\n",
       "      <th>4</th>\n",
       "      <td>0</td>\n",
       "      <td>0</td>\n",
       "      <td>1</td>\n",
       "      <td>0</td>\n",
       "      <td>0</td>\n",
       "      <td>1</td>\n",
       "    </tr>\n",
       "  </tbody>\n",
       "</table>\n",
       "</div>"
      ],
      "text/plain": [
       "   attr1  attr2  attr3  attr4  attr5  class_label\n",
       "0      0      1      0      1      1            1\n",
       "1      1      1      0      0      1            0\n",
       "2      0      1      0      0      0            0\n",
       "3      0      0      0      1      0            1\n",
       "4      0      0      1      0      0            1"
      ]
     },
     "execution_count": 175,
     "metadata": {},
     "output_type": "execute_result"
    }
   ],
   "source": [
    "df.head()"
   ]
  },
  {
   "cell_type": "code",
   "execution_count": 176,
   "id": "4f6d1d5c-c00d-4d52-88c8-0450d25d71aa",
   "metadata": {},
   "outputs": [
    {
     "data": {
      "text/plain": [
       "1000"
      ]
     },
     "execution_count": 176,
     "metadata": {},
     "output_type": "execute_result"
    }
   ],
   "source": [
    "len(df)"
   ]
  },
  {
   "cell_type": "markdown",
   "id": "6ae6b603-d9f5-4c40-bef6-72408cd454c3",
   "metadata": {},
   "source": [
    "## Write a program to compute the `information gain` in a binary split of a node in a decision tree in terms of `Gini index`. Use this to find the best attribute for a binary split. Assume all attributes are binary and the class labels are also binary."
   ]
  },
  {
   "cell_type": "markdown",
   "id": "00fb0387-91c8-45e5-9a04-30f404a29be2",
   "metadata": {},
   "source": [
    "## Gini Index Calculation"
   ]
  },
  {
   "cell_type": "code",
   "execution_count": 177,
   "id": "0232f6ff-d8d0-450e-b62e-b76b1876fac6",
   "metadata": {},
   "outputs": [],
   "source": [
    "# gini index calculation\n",
    "def gini(a, b):\n",
    "    return 1 - np.power(a / (a + b), 2) - np.power(b / (a + b), 2)"
   ]
  },
  {
   "cell_type": "markdown",
   "id": "9512ff7e-90e5-4e2c-a0a5-3087d2baf78a",
   "metadata": {},
   "source": [
    "## Calculating the `GINI(Parent)`"
   ]
  },
  {
   "cell_type": "code",
   "execution_count": 178,
   "id": "c7f3d8da-8b1c-4ac2-90ec-9c23a67762c9",
   "metadata": {},
   "outputs": [],
   "source": [
    "# before splitting\n",
    "C_0 = len(df[df['class_label'] == 0]) # no. of classes with 0\n",
    "C_1 = len(df[df['class_label'] == 1]) # no. of classes with 1"
   ]
  },
  {
   "cell_type": "code",
   "execution_count": 179,
   "id": "c1eca3be-18f9-4236-b006-2c890a4541c0",
   "metadata": {},
   "outputs": [
    {
     "name": "stdout",
     "output_type": "stream",
     "text": [
      "513 487\n"
     ]
    }
   ],
   "source": [
    "print(C_0, C_1)"
   ]
  },
  {
   "cell_type": "code",
   "execution_count": 180,
   "id": "67951be2-6fdd-4e2f-820d-28b65f421dc8",
   "metadata": {},
   "outputs": [
    {
     "data": {
      "text/plain": [
       "0.49966200000000005"
      ]
     },
     "execution_count": 180,
     "metadata": {},
     "output_type": "execute_result"
    }
   ],
   "source": [
    "# Gini of parent\n",
    "M_0 = gini(C_0, C_1)\n",
    "M_0"
   ]
  },
  {
   "cell_type": "markdown",
   "id": "4a250667-f26c-4ec7-904c-c93616607738",
   "metadata": {},
   "source": [
    "## Calculating the Gain"
   ]
  },
  {
   "cell_type": "code",
   "execution_count": 181,
   "id": "d738f75e-619c-4bab-8fa0-2ffabb8a9cd7",
   "metadata": {},
   "outputs": [],
   "source": [
    "def gain(attr):\n",
    "    C_0_0, C_1_0 = 0, 0 # when class is 0\n",
    "    C_0_1, C_1_1 = 0, 0 # when class is 1\n",
    "\n",
    "    for i, j in zip(attr, df.class_label):\n",
    "        if i == 0: # if the value is 0\n",
    "            if j == 0: # if the class is 0\n",
    "                C_0_0 += 1\n",
    "            else: # class is 1\n",
    "                C_1_0 += 1\n",
    "        else: # if the value is 1\n",
    "            if j == 0: # if the class is 0\n",
    "                C_0_1 += 1\n",
    "            else: # class is 1\n",
    "                C_1_1 += 1\n",
    "    \n",
    "    s1 = C_0_0 + C_1_0 # total number of points if the value is 0\n",
    "    s2 = C_0_1 + C_1_1 # total number of points if the value is 1\n",
    "    \n",
    "    g1 = gini(C_0_0, C_1_0) # gini index if the values is 0\n",
    "    g2 = gini(C_0_1, C_1_1) # gini index if the values is 1\n",
    "    \n",
    "    M_attr = (s1 * g1 + s2 * g2) / len(df) # gini children\n",
    "    return M_0 - M_attr # gain"
   ]
  },
  {
   "cell_type": "code",
   "execution_count": 182,
   "id": "0e000148-ee01-42b9-9935-0e5e8d64c3c8",
   "metadata": {},
   "outputs": [
    {
     "data": {
      "text/plain": [
       "[5.878437163653327e-06,\n",
       " 3.380338042813236e-08,\n",
       " 0.0009478246071728536,\n",
       " 0.001902978700932867,\n",
       " 0.0012712119582613535]"
      ]
     },
     "execution_count": 182,
     "metadata": {},
     "output_type": "execute_result"
    }
   ],
   "source": [
    "# all the attributes in a list\n",
    "attbs = [df.attr1, df.attr2, df.attr3, df.attr4, df.attr5]\n",
    "\n",
    "# store all the results\n",
    "results = [gain(i) for i in attbs]\n",
    "results"
   ]
  },
  {
   "cell_type": "code",
   "execution_count": 183,
   "id": "a8e1c390-2327-4e6b-ab12-8beb2ad2441a",
   "metadata": {},
   "outputs": [
    {
     "data": {
      "text/plain": [
       "(0.001902978700932867, 3)"
      ]
     },
     "execution_count": 183,
     "metadata": {},
     "output_type": "execute_result"
    }
   ],
   "source": [
    "max(results), results.index(max(results))"
   ]
  },
  {
   "cell_type": "code",
   "execution_count": 184,
   "id": "1d7822dd-328c-4428-846f-bcfc4a29943b",
   "metadata": {},
   "outputs": [
    {
     "name": "stdout",
     "output_type": "stream",
     "text": [
      "So, we are gonna split the attribute 'attr4', which has the maximum Gain.\n"
     ]
    }
   ],
   "source": [
    "print(f\"So, we are gonna split the attribute '{df.columns[results.index(max(results))]}', which has the maximum Gain.\")"
   ]
  },
  {
   "cell_type": "code",
   "execution_count": null,
   "id": "544b7e3a-1d40-49e2-bcdf-5a19da6e357d",
   "metadata": {},
   "outputs": [],
   "source": []
  }
 ],
 "metadata": {
  "kernelspec": {
   "display_name": "Python 3 (ipykernel)",
   "language": "python",
   "name": "python3"
  },
  "language_info": {
   "codemirror_mode": {
    "name": "ipython",
    "version": 3
   },
   "file_extension": ".py",
   "mimetype": "text/x-python",
   "name": "python",
   "nbconvert_exporter": "python",
   "pygments_lexer": "ipython3",
   "version": "3.10.8"
  }
 },
 "nbformat": 4,
 "nbformat_minor": 5
}
