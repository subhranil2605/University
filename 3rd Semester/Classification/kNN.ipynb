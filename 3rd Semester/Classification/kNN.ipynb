{
 "cells": [
  {
   "cell_type": "code",
   "execution_count": 50,
   "id": "70657884-6422-4e38-98a9-24cdc0128bee",
   "metadata": {},
   "outputs": [],
   "source": [
    "import pandas as pd\n",
    "import numpy as np\n",
    "from sklearn.model_selection import train_test_split\n",
    "from sklearn.datasets import load_iris\n",
    "import matplotlib.pyplot as plt"
   ]
  },
  {
   "cell_type": "code",
   "execution_count": 44,
   "id": "856e5812-c714-43ef-95ce-0465965f54d4",
   "metadata": {},
   "outputs": [],
   "source": [
    "iris = load_iris()"
   ]
  },
  {
   "cell_type": "code",
   "execution_count": 45,
   "id": "6caf84b7-6d54-4298-8571-7878007b627c",
   "metadata": {},
   "outputs": [
    {
     "data": {
      "text/plain": [
       "['sepal length (cm)',\n",
       " 'sepal width (cm)',\n",
       " 'petal length (cm)',\n",
       " 'petal width (cm)']"
      ]
     },
     "execution_count": 45,
     "metadata": {},
     "output_type": "execute_result"
    }
   ],
   "source": [
    "iris.feature_names"
   ]
  },
  {
   "cell_type": "code",
   "execution_count": 46,
   "id": "1bb43c3e-a44b-4a7f-93da-3b4160d33296",
   "metadata": {},
   "outputs": [
    {
     "data": {
      "text/plain": [
       "array(['setosa', 'versicolor', 'virginica'], dtype='<U10')"
      ]
     },
     "execution_count": 46,
     "metadata": {},
     "output_type": "execute_result"
    }
   ],
   "source": [
    "iris.target_names"
   ]
  },
  {
   "cell_type": "code",
   "execution_count": 47,
   "id": "6fd47c75-8c49-4118-80af-76ada944f797",
   "metadata": {},
   "outputs": [
    {
     "data": {
      "text/html": [
       "<div>\n",
       "<style scoped>\n",
       "    .dataframe tbody tr th:only-of-type {\n",
       "        vertical-align: middle;\n",
       "    }\n",
       "\n",
       "    .dataframe tbody tr th {\n",
       "        vertical-align: top;\n",
       "    }\n",
       "\n",
       "    .dataframe thead th {\n",
       "        text-align: right;\n",
       "    }\n",
       "</style>\n",
       "<table border=\"1\" class=\"dataframe\">\n",
       "  <thead>\n",
       "    <tr style=\"text-align: right;\">\n",
       "      <th></th>\n",
       "      <th>sepal length (cm)</th>\n",
       "      <th>sepal width (cm)</th>\n",
       "      <th>petal length (cm)</th>\n",
       "      <th>petal width (cm)</th>\n",
       "    </tr>\n",
       "  </thead>\n",
       "  <tbody>\n",
       "    <tr>\n",
       "      <th>0</th>\n",
       "      <td>5.1</td>\n",
       "      <td>3.5</td>\n",
       "      <td>1.4</td>\n",
       "      <td>0.2</td>\n",
       "    </tr>\n",
       "    <tr>\n",
       "      <th>1</th>\n",
       "      <td>4.9</td>\n",
       "      <td>3.0</td>\n",
       "      <td>1.4</td>\n",
       "      <td>0.2</td>\n",
       "    </tr>\n",
       "    <tr>\n",
       "      <th>2</th>\n",
       "      <td>4.7</td>\n",
       "      <td>3.2</td>\n",
       "      <td>1.3</td>\n",
       "      <td>0.2</td>\n",
       "    </tr>\n",
       "    <tr>\n",
       "      <th>3</th>\n",
       "      <td>4.6</td>\n",
       "      <td>3.1</td>\n",
       "      <td>1.5</td>\n",
       "      <td>0.2</td>\n",
       "    </tr>\n",
       "    <tr>\n",
       "      <th>4</th>\n",
       "      <td>5.0</td>\n",
       "      <td>3.6</td>\n",
       "      <td>1.4</td>\n",
       "      <td>0.2</td>\n",
       "    </tr>\n",
       "  </tbody>\n",
       "</table>\n",
       "</div>"
      ],
      "text/plain": [
       "   sepal length (cm)  sepal width (cm)  petal length (cm)  petal width (cm)\n",
       "0                5.1               3.5                1.4               0.2\n",
       "1                4.9               3.0                1.4               0.2\n",
       "2                4.7               3.2                1.3               0.2\n",
       "3                4.6               3.1                1.5               0.2\n",
       "4                5.0               3.6                1.4               0.2"
      ]
     },
     "execution_count": 47,
     "metadata": {},
     "output_type": "execute_result"
    }
   ],
   "source": [
    "df = pd.DataFrame(iris.data, columns=iris.feature_names)\n",
    "df.head()"
   ]
  },
  {
   "cell_type": "code",
   "execution_count": 48,
   "id": "ceba45c9-570e-4551-9e61-02862d42b10c",
   "metadata": {},
   "outputs": [
    {
     "data": {
      "text/plain": [
       "(150, 4)"
      ]
     },
     "execution_count": 48,
     "metadata": {},
     "output_type": "execute_result"
    }
   ],
   "source": [
    "df.shape"
   ]
  },
  {
   "cell_type": "code",
   "execution_count": 49,
   "id": "f962fc3b-3c1a-4c86-b827-a7b080a8b2de",
   "metadata": {},
   "outputs": [
    {
     "data": {
      "text/html": [
       "<div>\n",
       "<style scoped>\n",
       "    .dataframe tbody tr th:only-of-type {\n",
       "        vertical-align: middle;\n",
       "    }\n",
       "\n",
       "    .dataframe tbody tr th {\n",
       "        vertical-align: top;\n",
       "    }\n",
       "\n",
       "    .dataframe thead th {\n",
       "        text-align: right;\n",
       "    }\n",
       "</style>\n",
       "<table border=\"1\" class=\"dataframe\">\n",
       "  <thead>\n",
       "    <tr style=\"text-align: right;\">\n",
       "      <th></th>\n",
       "      <th>sepal length (cm)</th>\n",
       "      <th>sepal width (cm)</th>\n",
       "      <th>petal length (cm)</th>\n",
       "      <th>petal width (cm)</th>\n",
       "      <th>target</th>\n",
       "    </tr>\n",
       "  </thead>\n",
       "  <tbody>\n",
       "    <tr>\n",
       "      <th>0</th>\n",
       "      <td>5.1</td>\n",
       "      <td>3.5</td>\n",
       "      <td>1.4</td>\n",
       "      <td>0.2</td>\n",
       "      <td>0</td>\n",
       "    </tr>\n",
       "    <tr>\n",
       "      <th>1</th>\n",
       "      <td>4.9</td>\n",
       "      <td>3.0</td>\n",
       "      <td>1.4</td>\n",
       "      <td>0.2</td>\n",
       "      <td>0</td>\n",
       "    </tr>\n",
       "    <tr>\n",
       "      <th>2</th>\n",
       "      <td>4.7</td>\n",
       "      <td>3.2</td>\n",
       "      <td>1.3</td>\n",
       "      <td>0.2</td>\n",
       "      <td>0</td>\n",
       "    </tr>\n",
       "    <tr>\n",
       "      <th>3</th>\n",
       "      <td>4.6</td>\n",
       "      <td>3.1</td>\n",
       "      <td>1.5</td>\n",
       "      <td>0.2</td>\n",
       "      <td>0</td>\n",
       "    </tr>\n",
       "    <tr>\n",
       "      <th>4</th>\n",
       "      <td>5.0</td>\n",
       "      <td>3.6</td>\n",
       "      <td>1.4</td>\n",
       "      <td>0.2</td>\n",
       "      <td>0</td>\n",
       "    </tr>\n",
       "  </tbody>\n",
       "</table>\n",
       "</div>"
      ],
      "text/plain": [
       "   sepal length (cm)  sepal width (cm)  petal length (cm)  petal width (cm)  \\\n",
       "0                5.1               3.5                1.4               0.2   \n",
       "1                4.9               3.0                1.4               0.2   \n",
       "2                4.7               3.2                1.3               0.2   \n",
       "3                4.6               3.1                1.5               0.2   \n",
       "4                5.0               3.6                1.4               0.2   \n",
       "\n",
       "   target  \n",
       "0       0  \n",
       "1       0  \n",
       "2       0  \n",
       "3       0  \n",
       "4       0  "
      ]
     },
     "execution_count": 49,
     "metadata": {},
     "output_type": "execute_result"
    }
   ],
   "source": [
    "df['target'] = iris.target\n",
    "df.head()"
   ]
  },
  {
   "cell_type": "code",
   "execution_count": 70,
   "id": "06055a6a-bce2-4dc6-acff-36bafb2e0547",
   "metadata": {},
   "outputs": [],
   "source": [
    "X = df.drop('target', axis='columns').values\n",
    "y = df.target.values"
   ]
  },
  {
   "cell_type": "code",
   "execution_count": 71,
   "id": "c98c8e8e-d0fa-40cd-9f77-e409c02a1ce0",
   "metadata": {},
   "outputs": [],
   "source": [
    "X_train, X_test, y_train, y_test = train_test_split(X, y, test_size=0.2, random_state=1)"
   ]
  },
  {
   "cell_type": "code",
   "execution_count": 72,
   "id": "0a2f5f13-cdfa-4f89-8d6c-40c70407c1d7",
   "metadata": {},
   "outputs": [
    {
     "data": {
      "text/plain": [
       "(120, 30)"
      ]
     },
     "execution_count": 72,
     "metadata": {},
     "output_type": "execute_result"
    }
   ],
   "source": [
    "len(X_train), len(X_test)"
   ]
  },
  {
   "cell_type": "markdown",
   "id": "bf115942-9567-4119-8cac-e46077df3d23",
   "metadata": {},
   "source": [
    "## Lets test a single point"
   ]
  },
  {
   "cell_type": "code",
   "execution_count": 73,
   "id": "52556b28-a373-4d9e-adfb-accefd1bb4a7",
   "metadata": {},
   "outputs": [],
   "source": [
    "test_point = X_test[0] # first value of the test set\n",
    "test_point_label = y_test[0] # class of the test point"
   ]
  },
  {
   "cell_type": "code",
   "execution_count": 76,
   "id": "90d4c7a8-4f6b-481c-82a6-bc5bd84cdc12",
   "metadata": {},
   "outputs": [
    {
     "data": {
      "text/plain": [
       "(array([5.8, 4. , 1.2, 0.2]), 0)"
      ]
     },
     "execution_count": 76,
     "metadata": {},
     "output_type": "execute_result"
    }
   ],
   "source": [
    "test_point, test_point_label"
   ]
  },
  {
   "cell_type": "code",
   "execution_count": 81,
   "id": "59b7b502-19eb-4ae4-a005-faa104215638",
   "metadata": {},
   "outputs": [],
   "source": [
    "# calculating the Euclidean distance of the two ndarrays\n",
    "def euclidean_distance(a, b):\n",
    "    return np.linalg.norm(a - b)"
   ]
  },
  {
   "cell_type": "code",
   "execution_count": 82,
   "id": "31c2df09-a679-4d71-ad2f-8dd5ccbfa153",
   "metadata": {},
   "outputs": [
    {
     "data": {
      "text/plain": [
       "3.7536648758246915"
      ]
     },
     "execution_count": 82,
     "metadata": {},
     "output_type": "execute_result"
    }
   ],
   "source": [
    "# distance between the test point and a training point\n",
    "euclidean_distance(test_point, X_train[0])"
   ]
  },
  {
   "cell_type": "code",
   "execution_count": 105,
   "id": "1e1f464c-c722-4099-b7cd-487da75a67f6",
   "metadata": {},
   "outputs": [],
   "source": [
    "k = 10\n",
    "\n",
    "distances = []\n",
    "for i, j in zip(X_train, y_train):\n",
    "    distances.append((j, euclidean_distance(test_point, i))) # adding the label and the distance\n",
    "\n",
    "# sort the list of distances using the second value i.e., distance\n",
    "distances = sorted(distances, key=lambda x: x[1])"
   ]
  },
  {
   "cell_type": "code",
   "execution_count": 106,
   "id": "3e710ddc-c27b-49d5-824a-bc3414121046",
   "metadata": {
    "tags": []
   },
   "outputs": [
    {
     "data": {
      "text/plain": [
       "[(0, 0.5477225575051664),\n",
       " (0, 0.5567764362830022),\n",
       " (0, 0.5830951894845297),\n",
       " (0, 0.5916079783099616),\n",
       " (0, 0.6557438524302001),\n",
       " (0, 0.6855654600401041),\n",
       " (0, 0.8306623862918078),\n",
       " (0, 0.8366600265340753),\n",
       " (0, 0.842614977317636),\n",
       " (0, 0.8717797887081346)]"
      ]
     },
     "execution_count": 106,
     "metadata": {},
     "output_type": "execute_result"
    }
   ],
   "source": [
    "# get the first k values or k-neighbors\n",
    "values = distances[:k]\n",
    "values"
   ]
  },
  {
   "cell_type": "code",
   "execution_count": 108,
   "id": "aa947ab6-b6c7-4f9e-9986-94c19ecab4b3",
   "metadata": {},
   "outputs": [
    {
     "data": {
      "text/plain": [
       "0"
      ]
     },
     "execution_count": 108,
     "metadata": {},
     "output_type": "execute_result"
    }
   ],
   "source": [
    "# find the mode of the class\n",
    "def find_mode(values):\n",
    "    counts = {}\n",
    "    for i, _ in values:\n",
    "        counts.setdefault(i, []).append(1)\n",
    "\n",
    "    counts = {key: sum(val) for key, val in counts.items()}\n",
    "    return max(counts, key=lambda k: counts[k])\n",
    "\n",
    "\n",
    "find_mode(values)"
   ]
  },
  {
   "cell_type": "markdown",
   "id": "f531ecb4-0bcb-41f6-897b-7b5ef09f4a1e",
   "metadata": {},
   "source": [
    "## kNN algorithm"
   ]
  },
  {
   "cell_type": "code",
   "execution_count": 115,
   "id": "bd802e3b-7a3b-4025-977c-223432e64524",
   "metadata": {},
   "outputs": [
    {
     "data": {
      "text/plain": [
       "0"
      ]
     },
     "execution_count": 115,
     "metadata": {},
     "output_type": "execute_result"
    }
   ],
   "source": [
    "def knn(k, test_point):\n",
    "    distances = []\n",
    "    for i, j in zip(X_train, y_train):\n",
    "        distances.append((j, euclidean_distance(test_point, i)))\n",
    "    distances = sorted(distances, key=lambda x: x[1])[:k]\n",
    "    return find_mode(distances)\n",
    "\n",
    "knn(3, test_point)"
   ]
  },
  {
   "cell_type": "markdown",
   "id": "329697bd-17ae-49cc-9811-c9ffb05644b3",
   "metadata": {},
   "source": [
    "## On each test dataset"
   ]
  },
  {
   "cell_type": "code",
   "execution_count": 117,
   "id": "5df3359d-4c0f-4b1d-9b79-e0ca7486f80c",
   "metadata": {},
   "outputs": [
    {
     "data": {
      "text/plain": [
       "[(0, 0),\n",
       " (1, 1),\n",
       " (1, 1),\n",
       " (0, 0),\n",
       " (2, 2),\n",
       " (1, 1),\n",
       " (2, 2),\n",
       " (0, 0),\n",
       " (0, 0),\n",
       " (2, 2),\n",
       " (1, 1),\n",
       " (0, 0),\n",
       " (2, 2),\n",
       " (1, 1),\n",
       " (1, 1),\n",
       " (0, 0),\n",
       " (1, 1),\n",
       " (1, 1),\n",
       " (0, 0),\n",
       " (0, 0),\n",
       " (1, 1),\n",
       " (1, 1),\n",
       " (1, 1),\n",
       " (0, 0),\n",
       " (2, 2),\n",
       " (1, 1),\n",
       " (0, 0),\n",
       " (0, 0),\n",
       " (1, 1),\n",
       " (2, 2)]"
      ]
     },
     "execution_count": 117,
     "metadata": {},
     "output_type": "execute_result"
    }
   ],
   "source": [
    "k = 3\n",
    "\n",
    "result = []\n",
    "for i, j in zip(X_test, y_test):\n",
    "    predicted = knn(k, i)\n",
    "    result.append((j, predicted))\n",
    "\n",
    "result"
   ]
  },
  {
   "cell_type": "code",
   "execution_count": 123,
   "id": "cac02dd6-af4f-4d49-9191-c43d3c664ef8",
   "metadata": {},
   "outputs": [
    {
     "name": "stdout",
     "output_type": "stream",
     "text": [
      "100.0 %\n"
     ]
    }
   ],
   "source": [
    "# finding the accuracy\n",
    "true_count = 0\n",
    "for actual, predicted in result:\n",
    "    if actual == predicted:\n",
    "        true_count += 1\n",
    "        \n",
    "accuracy = true_count / len(result)\n",
    "\n",
    "print(f\"{accuracy * 100} %\")"
   ]
  },
  {
   "cell_type": "code",
   "execution_count": null,
   "id": "70249447-fb4e-450c-ba38-c08b698b10eb",
   "metadata": {},
   "outputs": [],
   "source": []
  }
 ],
 "metadata": {
  "kernelspec": {
   "display_name": "Python 3 (ipykernel)",
   "language": "python",
   "name": "python3"
  },
  "language_info": {
   "codemirror_mode": {
    "name": "ipython",
    "version": 3
   },
   "file_extension": ".py",
   "mimetype": "text/x-python",
   "name": "python",
   "nbconvert_exporter": "python",
   "pygments_lexer": "ipython3",
   "version": "3.10.8"
  }
 },
 "nbformat": 4,
 "nbformat_minor": 5
}
