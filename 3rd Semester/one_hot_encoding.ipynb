{
 "cells": [
  {
   "cell_type": "code",
   "execution_count": 31,
   "id": "2b6f8179-c4b9-40d2-ae7a-79da8357ae2e",
   "metadata": {},
   "outputs": [],
   "source": [
    "import pandas as pd"
   ]
  },
  {
   "cell_type": "code",
   "execution_count": 32,
   "id": "8b4bd461-fbbf-4909-9a83-c09bd3150701",
   "metadata": {},
   "outputs": [],
   "source": [
    "data = {\n",
    "    \"color_1\": [\"black\", \"golden\", \"yellow\"],\n",
    "    \"color_2\": [\"red\", \"red\", \"brown\"],\n",
    "    \"color_3\": [\"brown\", \"black\", \"black\"]\n",
    "}"
   ]
  },
  {
   "cell_type": "code",
   "execution_count": 33,
   "id": "f45308a8-686d-47f6-8daa-cbfab039b233",
   "metadata": {},
   "outputs": [
    {
     "data": {
      "text/html": [
       "<div>\n",
       "<style scoped>\n",
       "    .dataframe tbody tr th:only-of-type {\n",
       "        vertical-align: middle;\n",
       "    }\n",
       "\n",
       "    .dataframe tbody tr th {\n",
       "        vertical-align: top;\n",
       "    }\n",
       "\n",
       "    .dataframe thead th {\n",
       "        text-align: right;\n",
       "    }\n",
       "</style>\n",
       "<table border=\"1\" class=\"dataframe\">\n",
       "  <thead>\n",
       "    <tr style=\"text-align: right;\">\n",
       "      <th></th>\n",
       "      <th>color_1</th>\n",
       "      <th>color_2</th>\n",
       "      <th>color_3</th>\n",
       "    </tr>\n",
       "  </thead>\n",
       "  <tbody>\n",
       "    <tr>\n",
       "      <th>0</th>\n",
       "      <td>black</td>\n",
       "      <td>red</td>\n",
       "      <td>brown</td>\n",
       "    </tr>\n",
       "    <tr>\n",
       "      <th>1</th>\n",
       "      <td>golden</td>\n",
       "      <td>red</td>\n",
       "      <td>black</td>\n",
       "    </tr>\n",
       "    <tr>\n",
       "      <th>2</th>\n",
       "      <td>yellow</td>\n",
       "      <td>brown</td>\n",
       "      <td>black</td>\n",
       "    </tr>\n",
       "  </tbody>\n",
       "</table>\n",
       "</div>"
      ],
      "text/plain": [
       "  color_1 color_2 color_3\n",
       "0   black     red   brown\n",
       "1  golden     red   black\n",
       "2  yellow   brown   black"
      ]
     },
     "execution_count": 33,
     "metadata": {},
     "output_type": "execute_result"
    }
   ],
   "source": [
    "df = pd.DataFrame(data)\n",
    "df"
   ]
  },
  {
   "cell_type": "code",
   "execution_count": 34,
   "id": "7d7902e1-bcd0-4530-affc-6e1daadddcfb",
   "metadata": {},
   "outputs": [],
   "source": [
    "def one_hot_encoding(dataset):\n",
    "    new_dataset = {}\n",
    "    for key, values in dataset.items():\n",
    "        for i, val in enumerate(values):\n",
    "            new_dataset.setdefault(f\"{key}_{val}\", [0] * len(values))[i] = 1\n",
    "    return new_dataset"
   ]
  },
  {
   "cell_type": "code",
   "execution_count": 35,
   "id": "cceb2dae-ffa6-4c7e-869b-342128eba27d",
   "metadata": {},
   "outputs": [
    {
     "data": {
      "text/plain": [
       "{'color_1_black': [1, 0, 0],\n",
       " 'color_1_golden': [0, 1, 0],\n",
       " 'color_1_yellow': [0, 0, 1],\n",
       " 'color_2_red': [1, 1, 0],\n",
       " 'color_2_brown': [0, 0, 1],\n",
       " 'color_3_brown': [1, 0, 0],\n",
       " 'color_3_black': [0, 1, 1]}"
      ]
     },
     "execution_count": 35,
     "metadata": {},
     "output_type": "execute_result"
    }
   ],
   "source": [
    "encoded_dataset = one_hot_encoding(data)\n",
    "encoded_dataset"
   ]
  },
  {
   "cell_type": "code",
   "execution_count": 36,
   "id": "e2afec9d-74b7-4153-b139-499b36686686",
   "metadata": {},
   "outputs": [
    {
     "data": {
      "text/html": [
       "<div>\n",
       "<style scoped>\n",
       "    .dataframe tbody tr th:only-of-type {\n",
       "        vertical-align: middle;\n",
       "    }\n",
       "\n",
       "    .dataframe tbody tr th {\n",
       "        vertical-align: top;\n",
       "    }\n",
       "\n",
       "    .dataframe thead th {\n",
       "        text-align: right;\n",
       "    }\n",
       "</style>\n",
       "<table border=\"1\" class=\"dataframe\">\n",
       "  <thead>\n",
       "    <tr style=\"text-align: right;\">\n",
       "      <th></th>\n",
       "      <th>color_1_black</th>\n",
       "      <th>color_1_golden</th>\n",
       "      <th>color_1_yellow</th>\n",
       "      <th>color_2_red</th>\n",
       "      <th>color_2_brown</th>\n",
       "      <th>color_3_brown</th>\n",
       "      <th>color_3_black</th>\n",
       "    </tr>\n",
       "  </thead>\n",
       "  <tbody>\n",
       "    <tr>\n",
       "      <th>0</th>\n",
       "      <td>1</td>\n",
       "      <td>0</td>\n",
       "      <td>0</td>\n",
       "      <td>1</td>\n",
       "      <td>0</td>\n",
       "      <td>1</td>\n",
       "      <td>0</td>\n",
       "    </tr>\n",
       "    <tr>\n",
       "      <th>1</th>\n",
       "      <td>0</td>\n",
       "      <td>1</td>\n",
       "      <td>0</td>\n",
       "      <td>1</td>\n",
       "      <td>0</td>\n",
       "      <td>0</td>\n",
       "      <td>1</td>\n",
       "    </tr>\n",
       "    <tr>\n",
       "      <th>2</th>\n",
       "      <td>0</td>\n",
       "      <td>0</td>\n",
       "      <td>1</td>\n",
       "      <td>0</td>\n",
       "      <td>1</td>\n",
       "      <td>0</td>\n",
       "      <td>1</td>\n",
       "    </tr>\n",
       "  </tbody>\n",
       "</table>\n",
       "</div>"
      ],
      "text/plain": [
       "   color_1_black  color_1_golden  color_1_yellow  color_2_red  color_2_brown  \\\n",
       "0              1               0               0            1              0   \n",
       "1              0               1               0            1              0   \n",
       "2              0               0               1            0              1   \n",
       "\n",
       "   color_3_brown  color_3_black  \n",
       "0              1              0  \n",
       "1              0              1  \n",
       "2              0              1  "
      ]
     },
     "execution_count": 36,
     "metadata": {},
     "output_type": "execute_result"
    }
   ],
   "source": [
    "encoded_df = pd.DataFrame(encoded_dataset)\n",
    "encoded_df"
   ]
  },
  {
   "cell_type": "code",
   "execution_count": null,
   "id": "6b847362-a1fb-47a2-a7e0-282f3fcc8b16",
   "metadata": {},
   "outputs": [],
   "source": []
  }
 ],
 "metadata": {
  "kernelspec": {
   "display_name": "Python 3 (ipykernel)",
   "language": "python",
   "name": "python3"
  },
  "language_info": {
   "codemirror_mode": {
    "name": "ipython",
    "version": 3
   },
   "file_extension": ".py",
   "mimetype": "text/x-python",
   "name": "python",
   "nbconvert_exporter": "python",
   "pygments_lexer": "ipython3",
   "version": "3.10.8"
  }
 },
 "nbformat": 4,
 "nbformat_minor": 5
}
