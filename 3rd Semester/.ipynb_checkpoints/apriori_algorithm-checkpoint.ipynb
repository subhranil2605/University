{
 "cells": [
  {
   "cell_type": "code",
   "execution_count": 19,
   "id": "65c776a5-a3bc-4513-bb41-8c1b650ed1d9",
   "metadata": {},
   "outputs": [],
   "source": [
    "import pandas as pd\n",
    "import numpy as np\n",
    "from itertools import chain"
   ]
  },
  {
   "cell_type": "code",
   "execution_count": 13,
   "id": "e953b7eb-4d48-4a83-a85e-36a2678f76dd",
   "metadata": {},
   "outputs": [],
   "source": [
    "dataset = [\n",
    "    [1, 3, 4],\n",
    "    [2, 3, 5],\n",
    "    [1, 2, 3, 5],\n",
    "    [2, 5]\n",
    "]\n",
    "\n",
    "min_sup = 0.5"
   ]
  },
  {
   "cell_type": "code",
   "execution_count": 15,
   "id": "472b08ca-2e22-4dce-ac21-0839bcf307f8",
   "metadata": {},
   "outputs": [
    {
     "data": {
      "text/plain": [
       "2"
      ]
     },
     "execution_count": 15,
     "metadata": {},
     "output_type": "execute_result"
    }
   ],
   "source": [
    "abs_min_sup = int(len(dataset) * min_sup)\n",
    "abs_min_sup"
   ]
  },
  {
   "cell_type": "code",
   "execution_count": 28,
   "id": "12b9c8d9-98ad-4807-9051-06c605eebdc2",
   "metadata": {},
   "outputs": [],
   "source": [
    "# find support of each item in the transaction dataset\n",
    "def find_support_item(dataset):\n",
    "    return {i: list(chain(*dataset)).count(i) for i in sorted(set(chain(*dataset)))}"
   ]
  },
  {
   "cell_type": "code",
   "execution_count": 29,
   "id": "6611f99a-e95d-43f5-b061-832a04019ad9",
   "metadata": {},
   "outputs": [],
   "source": [
    "def find_frequent_1_itemsets(dataset):\n",
    "    supports = find_support_item(dataset)\n",
    "    return {key:val for key, val in supports.items() if val >= abs_min_sup}"
   ]
  },
  {
   "cell_type": "code",
   "execution_count": 41,
   "id": "09846781-f2a1-4897-a858-8210c42d9847",
   "metadata": {},
   "outputs": [],
   "source": [
    "def apriori_gen(f):\n",
    "    C_k = set()\n",
    "    for f_1 in f:\n",
    "        for f_2 in f:\n",
    "            if f_1 != f_2:\n",
    "                C_k.add((f_1, f_2))\n",
    "    return C_k"
   ]
  },
  {
   "cell_type": "code",
   "execution_count": 44,
   "id": "df6e2cf9-63e6-4e3e-9c30-bca5ad3642d9",
   "metadata": {},
   "outputs": [],
   "source": [
    "def apriori(dataset):\n",
    "    L_1 = find_frequent_1_itemsets(dataset)\n",
    "    return apriori_gen(L_1)"
   ]
  },
  {
   "cell_type": "code",
   "execution_count": 45,
   "id": "09653e7e-80ce-4519-9d3a-7ca769766c97",
   "metadata": {},
   "outputs": [
    {
     "data": {
      "text/plain": [
       "{(1, 2),\n",
       " (1, 3),\n",
       " (1, 5),\n",
       " (2, 1),\n",
       " (2, 3),\n",
       " (2, 5),\n",
       " (3, 1),\n",
       " (3, 2),\n",
       " (3, 5),\n",
       " (5, 1),\n",
       " (5, 2),\n",
       " (5, 3)}"
      ]
     },
     "execution_count": 45,
     "metadata": {},
     "output_type": "execute_result"
    }
   ],
   "source": [
    "apriori(dataset)"
   ]
  },
  {
   "cell_type": "code",
   "execution_count": null,
   "id": "74ae9000-e997-4c74-aaed-fd582766297f",
   "metadata": {},
   "outputs": [],
   "source": []
  }
 ],
 "metadata": {
  "kernelspec": {
   "display_name": "Python 3 (ipykernel)",
   "language": "python",
   "name": "python3"
  },
  "language_info": {
   "codemirror_mode": {
    "name": "ipython",
    "version": 3
   },
   "file_extension": ".py",
   "mimetype": "text/x-python",
   "name": "python",
   "nbconvert_exporter": "python",
   "pygments_lexer": "ipython3",
   "version": "3.10.8"
  }
 },
 "nbformat": 4,
 "nbformat_minor": 5
}
