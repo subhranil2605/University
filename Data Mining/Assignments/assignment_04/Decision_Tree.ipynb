{
  "nbformat": 4,
  "nbformat_minor": 0,
  "metadata": {
    "colab": {
      "name": "Decision Tree.ipynb",
      "provenance": []
    },
    "kernelspec": {
      "name": "python3",
      "display_name": "Python 3"
    },
    "language_info": {
      "name": "python"
    }
  },
  "cells": [
    {
      "cell_type": "code",
      "source": [
        "import pandas as pd\n",
        "from sklearn.metrics import accuracy_score, confusion_matrix\n",
        "from sklearn.model_selection import train_test_split\n",
        "from sklearn import tree\n",
        "from sklearn.tree import DecisionTreeClassifier\n",
        "import matplotlib.pyplot as plt\n",
        "import seaborn as sns\n",
        "import matplotlib.pyplot as plt"
      ],
      "metadata": {
        "id": "0TFnYXvuEpYQ"
      },
      "execution_count": 183,
      "outputs": []
    },
    {
      "cell_type": "markdown",
      "source": [
        "## Dataset"
      ],
      "metadata": {
        "id": "b-z1addyFLn1"
      }
    },
    {
      "cell_type": "code",
      "source": [
        "dataset_url: str = \"https://raw.githubusercontent.com/kalyaniuniversity/mgx-datasets/master/DLBCL/datasets/dlbcl-fl.csv\"\n",
        "\n",
        "df = pd.read_csv(dataset_url)"
      ],
      "metadata": {
        "id": "6HNJuDpaFEqW"
      },
      "execution_count": 184,
      "outputs": []
    },
    {
      "cell_type": "code",
      "source": [
        "df.shape"
      ],
      "metadata": {
        "colab": {
          "base_uri": "https://localhost:8080/"
        },
        "id": "gwWuDL_YFggx",
        "outputId": "2b35242e-a818-4895-a7d7-d0f00b9aac8b"
      },
      "execution_count": 185,
      "outputs": [
        {
          "output_type": "execute_result",
          "data": {
            "text/plain": [
              "(77, 7071)"
            ]
          },
          "metadata": {},
          "execution_count": 185
        }
      ]
    },
    {
      "cell_type": "code",
      "source": [
        "df.head()"
      ],
      "metadata": {
        "colab": {
          "base_uri": "https://localhost:8080/",
          "height": 300
        },
        "id": "oZatndf8Flfw",
        "outputId": "b0cdd595-4231-42ef-9890-ff072c5af145"
      },
      "execution_count": 186,
      "outputs": [
        {
          "output_type": "execute_result",
          "data": {
            "text/plain": [
              "   A28102  AB000114_at  AB000115_at  AB000220_at  AB000409_at  AB000449_at  \\\n",
              "0      -1          -45          176           97          -57          233   \n",
              "1      25          -17          531          353          122          155   \n",
              "2      73           91          257           80          614          507   \n",
              "3     267           41          202          138          198          355   \n",
              "4      16           24          187           39          145          254   \n",
              "\n",
              "   AB000450_at  AB000460_at  AB000462_at  AB000464_at  ...  U58516_at  \\\n",
              "0          265          945           56          819  ...       1036   \n",
              "1          209         1688           42          639  ...       4254   \n",
              "2          760         2252          196          863  ...       1934   \n",
              "3          245         1469          170          384  ...       2469   \n",
              "4          571          930          -11          439  ...        608   \n",
              "\n",
              "   U73738_at  X06956_at  X16699_at  X83863_at  Z17240_at  L49218_f_at  \\\n",
              "0       -161       1523        -72        897        366            3   \n",
              "1        -75       6056        -68        737         81           -4   \n",
              "2       -129       2901         -9        946        450           38   \n",
              "3         93       2465       -119        339        321          -63   \n",
              "4        -39       1667        -87        721        213           15   \n",
              "\n",
              "   M71243_f_at  Z78285_f_at  class  \n",
              "0           76          -28  DLBCL  \n",
              "1           41          -45  DLBCL  \n",
              "2          164          -62  DLBCL  \n",
              "3           73          -13  DLBCL  \n",
              "4          155          -26  DLBCL  \n",
              "\n",
              "[5 rows x 7071 columns]"
            ],
            "text/html": [
              "\n",
              "  <div id=\"df-1f62566d-57b7-4c16-a661-f0a6fa9998db\">\n",
              "    <div class=\"colab-df-container\">\n",
              "      <div>\n",
              "<style scoped>\n",
              "    .dataframe tbody tr th:only-of-type {\n",
              "        vertical-align: middle;\n",
              "    }\n",
              "\n",
              "    .dataframe tbody tr th {\n",
              "        vertical-align: top;\n",
              "    }\n",
              "\n",
              "    .dataframe thead th {\n",
              "        text-align: right;\n",
              "    }\n",
              "</style>\n",
              "<table border=\"1\" class=\"dataframe\">\n",
              "  <thead>\n",
              "    <tr style=\"text-align: right;\">\n",
              "      <th></th>\n",
              "      <th>A28102</th>\n",
              "      <th>AB000114_at</th>\n",
              "      <th>AB000115_at</th>\n",
              "      <th>AB000220_at</th>\n",
              "      <th>AB000409_at</th>\n",
              "      <th>AB000449_at</th>\n",
              "      <th>AB000450_at</th>\n",
              "      <th>AB000460_at</th>\n",
              "      <th>AB000462_at</th>\n",
              "      <th>AB000464_at</th>\n",
              "      <th>...</th>\n",
              "      <th>U58516_at</th>\n",
              "      <th>U73738_at</th>\n",
              "      <th>X06956_at</th>\n",
              "      <th>X16699_at</th>\n",
              "      <th>X83863_at</th>\n",
              "      <th>Z17240_at</th>\n",
              "      <th>L49218_f_at</th>\n",
              "      <th>M71243_f_at</th>\n",
              "      <th>Z78285_f_at</th>\n",
              "      <th>class</th>\n",
              "    </tr>\n",
              "  </thead>\n",
              "  <tbody>\n",
              "    <tr>\n",
              "      <th>0</th>\n",
              "      <td>-1</td>\n",
              "      <td>-45</td>\n",
              "      <td>176</td>\n",
              "      <td>97</td>\n",
              "      <td>-57</td>\n",
              "      <td>233</td>\n",
              "      <td>265</td>\n",
              "      <td>945</td>\n",
              "      <td>56</td>\n",
              "      <td>819</td>\n",
              "      <td>...</td>\n",
              "      <td>1036</td>\n",
              "      <td>-161</td>\n",
              "      <td>1523</td>\n",
              "      <td>-72</td>\n",
              "      <td>897</td>\n",
              "      <td>366</td>\n",
              "      <td>3</td>\n",
              "      <td>76</td>\n",
              "      <td>-28</td>\n",
              "      <td>DLBCL</td>\n",
              "    </tr>\n",
              "    <tr>\n",
              "      <th>1</th>\n",
              "      <td>25</td>\n",
              "      <td>-17</td>\n",
              "      <td>531</td>\n",
              "      <td>353</td>\n",
              "      <td>122</td>\n",
              "      <td>155</td>\n",
              "      <td>209</td>\n",
              "      <td>1688</td>\n",
              "      <td>42</td>\n",
              "      <td>639</td>\n",
              "      <td>...</td>\n",
              "      <td>4254</td>\n",
              "      <td>-75</td>\n",
              "      <td>6056</td>\n",
              "      <td>-68</td>\n",
              "      <td>737</td>\n",
              "      <td>81</td>\n",
              "      <td>-4</td>\n",
              "      <td>41</td>\n",
              "      <td>-45</td>\n",
              "      <td>DLBCL</td>\n",
              "    </tr>\n",
              "    <tr>\n",
              "      <th>2</th>\n",
              "      <td>73</td>\n",
              "      <td>91</td>\n",
              "      <td>257</td>\n",
              "      <td>80</td>\n",
              "      <td>614</td>\n",
              "      <td>507</td>\n",
              "      <td>760</td>\n",
              "      <td>2252</td>\n",
              "      <td>196</td>\n",
              "      <td>863</td>\n",
              "      <td>...</td>\n",
              "      <td>1934</td>\n",
              "      <td>-129</td>\n",
              "      <td>2901</td>\n",
              "      <td>-9</td>\n",
              "      <td>946</td>\n",
              "      <td>450</td>\n",
              "      <td>38</td>\n",
              "      <td>164</td>\n",
              "      <td>-62</td>\n",
              "      <td>DLBCL</td>\n",
              "    </tr>\n",
              "    <tr>\n",
              "      <th>3</th>\n",
              "      <td>267</td>\n",
              "      <td>41</td>\n",
              "      <td>202</td>\n",
              "      <td>138</td>\n",
              "      <td>198</td>\n",
              "      <td>355</td>\n",
              "      <td>245</td>\n",
              "      <td>1469</td>\n",
              "      <td>170</td>\n",
              "      <td>384</td>\n",
              "      <td>...</td>\n",
              "      <td>2469</td>\n",
              "      <td>93</td>\n",
              "      <td>2465</td>\n",
              "      <td>-119</td>\n",
              "      <td>339</td>\n",
              "      <td>321</td>\n",
              "      <td>-63</td>\n",
              "      <td>73</td>\n",
              "      <td>-13</td>\n",
              "      <td>DLBCL</td>\n",
              "    </tr>\n",
              "    <tr>\n",
              "      <th>4</th>\n",
              "      <td>16</td>\n",
              "      <td>24</td>\n",
              "      <td>187</td>\n",
              "      <td>39</td>\n",
              "      <td>145</td>\n",
              "      <td>254</td>\n",
              "      <td>571</td>\n",
              "      <td>930</td>\n",
              "      <td>-11</td>\n",
              "      <td>439</td>\n",
              "      <td>...</td>\n",
              "      <td>608</td>\n",
              "      <td>-39</td>\n",
              "      <td>1667</td>\n",
              "      <td>-87</td>\n",
              "      <td>721</td>\n",
              "      <td>213</td>\n",
              "      <td>15</td>\n",
              "      <td>155</td>\n",
              "      <td>-26</td>\n",
              "      <td>DLBCL</td>\n",
              "    </tr>\n",
              "  </tbody>\n",
              "</table>\n",
              "<p>5 rows × 7071 columns</p>\n",
              "</div>\n",
              "      <button class=\"colab-df-convert\" onclick=\"convertToInteractive('df-1f62566d-57b7-4c16-a661-f0a6fa9998db')\"\n",
              "              title=\"Convert this dataframe to an interactive table.\"\n",
              "              style=\"display:none;\">\n",
              "        \n",
              "  <svg xmlns=\"http://www.w3.org/2000/svg\" height=\"24px\"viewBox=\"0 0 24 24\"\n",
              "       width=\"24px\">\n",
              "    <path d=\"M0 0h24v24H0V0z\" fill=\"none\"/>\n",
              "    <path d=\"M18.56 5.44l.94 2.06.94-2.06 2.06-.94-2.06-.94-.94-2.06-.94 2.06-2.06.94zm-11 1L8.5 8.5l.94-2.06 2.06-.94-2.06-.94L8.5 2.5l-.94 2.06-2.06.94zm10 10l.94 2.06.94-2.06 2.06-.94-2.06-.94-.94-2.06-.94 2.06-2.06.94z\"/><path d=\"M17.41 7.96l-1.37-1.37c-.4-.4-.92-.59-1.43-.59-.52 0-1.04.2-1.43.59L10.3 9.45l-7.72 7.72c-.78.78-.78 2.05 0 2.83L4 21.41c.39.39.9.59 1.41.59.51 0 1.02-.2 1.41-.59l7.78-7.78 2.81-2.81c.8-.78.8-2.07 0-2.86zM5.41 20L4 18.59l7.72-7.72 1.47 1.35L5.41 20z\"/>\n",
              "  </svg>\n",
              "      </button>\n",
              "      \n",
              "  <style>\n",
              "    .colab-df-container {\n",
              "      display:flex;\n",
              "      flex-wrap:wrap;\n",
              "      gap: 12px;\n",
              "    }\n",
              "\n",
              "    .colab-df-convert {\n",
              "      background-color: #E8F0FE;\n",
              "      border: none;\n",
              "      border-radius: 50%;\n",
              "      cursor: pointer;\n",
              "      display: none;\n",
              "      fill: #1967D2;\n",
              "      height: 32px;\n",
              "      padding: 0 0 0 0;\n",
              "      width: 32px;\n",
              "    }\n",
              "\n",
              "    .colab-df-convert:hover {\n",
              "      background-color: #E2EBFA;\n",
              "      box-shadow: 0px 1px 2px rgba(60, 64, 67, 0.3), 0px 1px 3px 1px rgba(60, 64, 67, 0.15);\n",
              "      fill: #174EA6;\n",
              "    }\n",
              "\n",
              "    [theme=dark] .colab-df-convert {\n",
              "      background-color: #3B4455;\n",
              "      fill: #D2E3FC;\n",
              "    }\n",
              "\n",
              "    [theme=dark] .colab-df-convert:hover {\n",
              "      background-color: #434B5C;\n",
              "      box-shadow: 0px 1px 3px 1px rgba(0, 0, 0, 0.15);\n",
              "      filter: drop-shadow(0px 1px 2px rgba(0, 0, 0, 0.3));\n",
              "      fill: #FFFFFF;\n",
              "    }\n",
              "  </style>\n",
              "\n",
              "      <script>\n",
              "        const buttonEl =\n",
              "          document.querySelector('#df-1f62566d-57b7-4c16-a661-f0a6fa9998db button.colab-df-convert');\n",
              "        buttonEl.style.display =\n",
              "          google.colab.kernel.accessAllowed ? 'block' : 'none';\n",
              "\n",
              "        async function convertToInteractive(key) {\n",
              "          const element = document.querySelector('#df-1f62566d-57b7-4c16-a661-f0a6fa9998db');\n",
              "          const dataTable =\n",
              "            await google.colab.kernel.invokeFunction('convertToInteractive',\n",
              "                                                     [key], {});\n",
              "          if (!dataTable) return;\n",
              "\n",
              "          const docLinkHtml = 'Like what you see? Visit the ' +\n",
              "            '<a target=\"_blank\" href=https://colab.research.google.com/notebooks/data_table.ipynb>data table notebook</a>'\n",
              "            + ' to learn more about interactive tables.';\n",
              "          element.innerHTML = '';\n",
              "          dataTable['output_type'] = 'display_data';\n",
              "          await google.colab.output.renderOutput(dataTable, element);\n",
              "          const docLink = document.createElement('div');\n",
              "          docLink.innerHTML = docLinkHtml;\n",
              "          element.appendChild(docLink);\n",
              "        }\n",
              "      </script>\n",
              "    </div>\n",
              "  </div>\n",
              "  "
            ]
          },
          "metadata": {},
          "execution_count": 186
        }
      ]
    },
    {
      "cell_type": "markdown",
      "source": [
        "### Summary of dataset"
      ],
      "metadata": {
        "id": "2jZvQvikF7Za"
      }
    },
    {
      "cell_type": "code",
      "source": [
        "df.info()"
      ],
      "metadata": {
        "colab": {
          "base_uri": "https://localhost:8080/"
        },
        "id": "PdXDZtNqFv73",
        "outputId": "67b429c6-04a0-4960-adb4-7ccebd1fed67"
      },
      "execution_count": 187,
      "outputs": [
        {
          "output_type": "stream",
          "name": "stdout",
          "text": [
            "<class 'pandas.core.frame.DataFrame'>\n",
            "RangeIndex: 77 entries, 0 to 76\n",
            "Columns: 7071 entries, A28102 to class\n",
            "dtypes: int64(7070), object(1)\n",
            "memory usage: 4.2+ MB\n"
          ]
        }
      ]
    },
    {
      "cell_type": "code",
      "source": [
        "df['class'].value_counts()"
      ],
      "metadata": {
        "colab": {
          "base_uri": "https://localhost:8080/"
        },
        "id": "Ed88jrdFF3PV",
        "outputId": "3acb9962-af7a-4a2f-e8c4-976edff9b171"
      },
      "execution_count": 188,
      "outputs": [
        {
          "output_type": "execute_result",
          "data": {
            "text/plain": [
              "DLBCL    58\n",
              "FL       19\n",
              "Name: class, dtype: int64"
            ]
          },
          "metadata": {},
          "execution_count": 188
        }
      ]
    },
    {
      "cell_type": "markdown",
      "source": [
        "### Missing value in variables"
      ],
      "metadata": {
        "id": "reEG_3-OGz8i"
      }
    },
    {
      "cell_type": "code",
      "source": [
        "df.isnull().sum()"
      ],
      "metadata": {
        "colab": {
          "base_uri": "https://localhost:8080/"
        },
        "id": "fqVMCzUaGakE",
        "outputId": "0a70cc21-7c50-41b8-de5c-46a9138ac124"
      },
      "execution_count": 189,
      "outputs": [
        {
          "output_type": "execute_result",
          "data": {
            "text/plain": [
              "A28102         0\n",
              "AB000114_at    0\n",
              "AB000115_at    0\n",
              "AB000220_at    0\n",
              "AB000409_at    0\n",
              "              ..\n",
              "Z17240_at      0\n",
              "L49218_f_at    0\n",
              "M71243_f_at    0\n",
              "Z78285_f_at    0\n",
              "class          0\n",
              "Length: 7071, dtype: int64"
            ]
          },
          "metadata": {},
          "execution_count": 189
        }
      ]
    },
    {
      "cell_type": "code",
      "source": [
        "sns.heatmap(df.isnull(), yticklabels=False, cbar=False, cmap='viridis')"
      ],
      "metadata": {
        "colab": {
          "base_uri": "https://localhost:8080/",
          "height": 370
        },
        "id": "mx6_Wgp_G6kx",
        "outputId": "f55aa492-802c-4610-a908-d870a484e335"
      },
      "execution_count": 190,
      "outputs": [
        {
          "output_type": "execute_result",
          "data": {
            "text/plain": [
              "<matplotlib.axes._subplots.AxesSubplot at 0x7fd6a7de9510>"
            ]
          },
          "metadata": {},
          "execution_count": 190
        },
        {
          "output_type": "display_data",
          "data": {
            "text/plain": [
              "<Figure size 432x288 with 1 Axes>"
            ],
            "image/png": "[encoded data removed]"
          },
          "metadata": {
            "needs_background": "light"
          }
        }
      ]
    },
    {
      "cell_type": "markdown",
      "source": [
        "### Feature Vector and Target variable"
      ],
      "metadata": {
        "id": "sDt1S9QaHVHC"
      }
    },
    {
      "cell_type": "code",
      "source": [
        "X = df.drop(['class'], axis=1)\n",
        "\n",
        "y = df['class']"
      ],
      "metadata": {
        "id": "4ASEFdk1HC31"
      },
      "execution_count": 209,
      "outputs": []
    },
    {
      "cell_type": "code",
      "source": [
        "X.shape, y.shape"
      ],
      "metadata": {
        "colab": {
          "base_uri": "https://localhost:8080/"
        },
        "id": "cDWbo_zTHqI3",
        "outputId": "0f7365f9-1ba3-433d-c5c9-28157db1e591"
      },
      "execution_count": 210,
      "outputs": [
        {
          "output_type": "execute_result",
          "data": {
            "text/plain": [
              "((77, 7070), (77,))"
            ]
          },
          "metadata": {},
          "execution_count": 210
        }
      ]
    },
    {
      "cell_type": "markdown",
      "source": [
        "## Split the dataset into train and test"
      ],
      "metadata": {
        "id": "6rT7XGRmIEt0"
      }
    },
    {
      "cell_type": "code",
      "source": [
        "X_train, X_test, y_train, y_test = train_test_split(X, y, test_size=0.3, random_state=234)"
      ],
      "metadata": {
        "id": "qtnuMAFPHuji"
      },
      "execution_count": 211,
      "outputs": []
    },
    {
      "cell_type": "code",
      "source": [
        "X_train.shape, X_test.shape"
      ],
      "metadata": {
        "colab": {
          "base_uri": "https://localhost:8080/"
        },
        "id": "bjGKHhCpICJR",
        "outputId": "f40bb741-3587-4d50-91fc-9ecb6b8d25f7"
      },
      "execution_count": 212,
      "outputs": [
        {
          "output_type": "execute_result",
          "data": {
            "text/plain": [
              "((53, 7070), (24, 7070))"
            ]
          },
          "metadata": {},
          "execution_count": 212
        }
      ]
    },
    {
      "cell_type": "markdown",
      "source": [
        "## Decision Tree Classifier with criterion gini index"
      ],
      "metadata": {
        "id": "2jYxR2M7I3af"
      }
    },
    {
      "cell_type": "code",
      "source": [
        "clf_model_gini = DecisionTreeClassifier(criterion=\"gini\",\n",
        "                                        max_depth=3,\n",
        "                                        min_samples_leaf=10,\n",
        "                                        random_state=10)"
      ],
      "metadata": {
        "id": "19cgVLPjIW7T"
      },
      "execution_count": 213,
      "outputs": []
    },
    {
      "cell_type": "code",
      "source": [
        "clf_model_gini.fit(X_train, y_train)"
      ],
      "metadata": {
        "colab": {
          "base_uri": "https://localhost:8080/"
        },
        "id": "pyEwkzxVJc9K",
        "outputId": "c6bd6c02-dfa5-48dd-c0e9-550171bcdeef"
      },
      "execution_count": 214,
      "outputs": [
        {
          "output_type": "execute_result",
          "data": {
            "text/plain": [
              "DecisionTreeClassifier(max_depth=3, min_samples_leaf=10, random_state=10)"
            ]
          },
          "metadata": {},
          "execution_count": 214
        }
      ]
    },
    {
      "cell_type": "code",
      "source": [
        "y_predicted = clf_model_gini.predict(X_test)"
      ],
      "metadata": {
        "id": "Zwl4J2nJJh5O"
      },
      "execution_count": 215,
      "outputs": []
    },
    {
      "cell_type": "code",
      "source": [
        "accuracy = accuracy_score(y_test, y_predicted)\n",
        "print(f\"Model accuary with gini index is: {accuracy*100:0.2f} %\")\n",
        "# print(clf_model_gini.score(X_test, y_test))"
      ],
      "metadata": {
        "colab": {
          "base_uri": "https://localhost:8080/"
        },
        "id": "wrFZUqS1JwoJ",
        "outputId": "d015a951-150e-4cef-c407-26526aa28f35"
      },
      "execution_count": 216,
      "outputs": [
        {
          "output_type": "stream",
          "name": "stdout",
          "text": [
            "Model accuary with gini index is: 83.33 %\n"
          ]
        }
      ]
    },
    {
      "cell_type": "code",
      "source": [
        "confusion_matrix(y_test, y_predicted)"
      ],
      "metadata": {
        "colab": {
          "base_uri": "https://localhost:8080/"
        },
        "id": "7P8l7O2BKCEp",
        "outputId": "31066572-627b-43f4-fe24-38a5ef71bf0d"
      },
      "execution_count": 217,
      "outputs": [
        {
          "output_type": "execute_result",
          "data": {
            "text/plain": [
              "array([[17,  3],\n",
              "       [ 1,  3]])"
            ]
          },
          "metadata": {},
          "execution_count": 217
        }
      ]
    },
    {
      "cell_type": "code",
      "source": [
        "fig, axes = plt.subplots(nrows = 1,ncols = 1,figsize = (4,4), dpi=200)\n",
        "tree.plot_tree(\n",
        "    clf_model_gini,\n",
        "    feature_names = X.keys(), \n",
        "    class_names = ['DLBCL', 'FL'], \n",
        "    filled = True, \n",
        "    rounded=True\n",
        ")"
      ],
      "metadata": {
        "colab": {
          "base_uri": "https://localhost:8080/",
          "height": 748
        },
        "id": "WlkqZYoPPHAL",
        "outputId": "965786e5-8fc2-4404-b1d2-8f1436eb03b2"
      },
      "execution_count": 218,
      "outputs": [
        {
          "output_type": "execute_result",
          "data": {
            "text/plain": [
              "[Text(0.4, 0.8333333333333334, 'D55716_at <= 859.5\\ngini = 0.406\\nsamples = 53\\nvalue = [38, 15]\\nclass = DLBCL'),\n",
              " Text(0.2, 0.5, 'gini = 0.0\\nsamples = 13\\nvalue = [0, 13]\\nclass = FL'),\n",
              " Text(0.6, 0.5, 'U50928_at <= 84.0\\ngini = 0.095\\nsamples = 40\\nvalue = [38, 2]\\nclass = DLBCL'),\n",
              " Text(0.4, 0.16666666666666666, 'gini = 0.32\\nsamples = 10\\nvalue = [8, 2]\\nclass = DLBCL'),\n",
              " Text(0.8, 0.16666666666666666, 'gini = 0.0\\nsamples = 30\\nvalue = [30, 0]\\nclass = DLBCL')]"
            ]
          },
          "metadata": {},
          "execution_count": 218
        },
        {
          "output_type": "display_data",
          "data": {
            "text/plain": [
              "<Figure size 800x800 with 1 Axes>"
            ],
            "image/png": "[encoded data removed]"
          },
          "metadata": {
            "needs_background": "light"
          }
        }
      ]
    },
    {
      "cell_type": "markdown",
      "source": [
        "# Performing dimensionality reduction (PCA) to get better accuracy"
      ],
      "metadata": {
        "id": "vuK1Bs06VcBW"
      }
    },
    {
      "cell_type": "code",
      "source": [
        "from sklearn.decomposition import PCA"
      ],
      "metadata": {
        "id": "GK6bS8hPTVVo"
      },
      "execution_count": 219,
      "outputs": []
    },
    {
      "cell_type": "code",
      "source": [
        "n_components = 16\n",
        "\n",
        "pca = PCA(n_components=n_components, svd_solver='randomized',\n",
        "          whiten=True).fit(X_train)\n",
        "\n",
        "X_train_pca = pca.transform(X_train)"
      ],
      "metadata": {
        "id": "gPy6vb-WUBTO"
      },
      "execution_count": 220,
      "outputs": []
    },
    {
      "cell_type": "code",
      "source": [
        "clf_model_gini.fit(X_train_pca, y_train)"
      ],
      "metadata": {
        "colab": {
          "base_uri": "https://localhost:8080/"
        },
        "id": "fXIrMnQcUOT2",
        "outputId": "a3062dd1-a491-41c0-9ff4-03fad6564db2"
      },
      "execution_count": 221,
      "outputs": [
        {
          "output_type": "execute_result",
          "data": {
            "text/plain": [
              "DecisionTreeClassifier(max_depth=3, min_samples_leaf=10, random_state=10)"
            ]
          },
          "metadata": {},
          "execution_count": 221
        }
      ]
    },
    {
      "cell_type": "code",
      "source": [
        "accuary = clf_model_gini.score(pca.transform(X_test), y_test)\n",
        "\n",
        "print(f\"Model accuary is now: {accuary*100:0.2f} %\")"
      ],
      "metadata": {
        "colab": {
          "base_uri": "https://localhost:8080/"
        },
        "id": "_TqIGcuWURqI",
        "outputId": "c231a2fb-3439-4b99-cfa8-c07186948fee"
      },
      "execution_count": 222,
      "outputs": [
        {
          "output_type": "stream",
          "name": "stdout",
          "text": [
            "Model accuary is now: 91.67 %\n"
          ]
        }
      ]
    }
  ]
}