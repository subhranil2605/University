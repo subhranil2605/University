{
  "nbformat": 4,
  "nbformat_minor": 0,
  "metadata": {
    "colab": {
      "provenance": [],
      "collapsed_sections": []
    },
    "kernelspec": {
      "name": "python3",
      "display_name": "Python 3"
    },
    "language_info": {
      "name": "python"
    }
  },
  "cells": [
    {
      "cell_type": "code",
      "execution_count": 92,
      "metadata": {
        "id": "9zS4Bmt1ZUWo"
      },
      "outputs": [],
      "source": [
        "import numpy as np\n",
        "from tabulate import tabulate\n",
        "from sympy import symbols, expand, lambdify, latex\n",
        "import matplotlib.pyplot as plt\n",
        "from tqdm import tqdm"
      ]
    },
    {
      "cell_type": "code",
      "source": [
        "def func(x):\n",
        "    return 1 / (1 + np.power(x, 2))\n",
        "\n",
        "def func_p(x):\n",
        "    return - 2 * x / np.power(1 + np.power(x, 2), 2)"
      ],
      "metadata": {
        "id": "xaeXjfYPZgQD"
      },
      "execution_count": 2,
      "outputs": []
    },
    {
      "cell_type": "code",
      "source": [
        "def hermite(xs):\n",
        "  n = len(xs)\n",
        "  q = np.zeros((2 * n, 2 * n))\n",
        "  z = np.zeros(2 * n)\n",
        "  \n",
        "  for i in range(n):\n",
        "    z[2 * i] = xs[i]\n",
        "    z[2 * i + 1] = xs[i]\n",
        "    q[2 * i][0] = func(xs[i])\n",
        "    q[2 * i + 1][0] = func(xs[i])\n",
        "    q[2 * i + 1][1] = func_p(xs[i])\n",
        "\n",
        "    if i != 0:\n",
        "      q[2 * i][1] = (q[2 * i][0] - q[2 * i - 1][0]) / (z[2 * i] - z[2 * i - 1])\n",
        "  \n",
        "  for i in range(2, 2 * n):\n",
        "    for j in range(2, i + 1):\n",
        "      q[i][j] = (q[i][j - 1] - q[i - 1][j - 1]) / (z[i] - z[i - j])\n",
        "\n",
        "  print(z)\n",
        "\n",
        "  return q"
      ],
      "metadata": {
        "id": "wp5VrbJ_ZjJS"
      },
      "execution_count": 52,
      "outputs": []
    },
    {
      "cell_type": "code",
      "source": [
        "x_s = np.linspace(-5, 5, 11)\n",
        "x_s"
      ],
      "metadata": {
        "colab": {
          "base_uri": "https://localhost:8080/"
        },
        "id": "0CG6Es0_Z_IS",
        "outputId": "f44d2372-4bc2-4521-9837-1986e82f044a"
      },
      "execution_count": 53,
      "outputs": [
        {
          "output_type": "execute_result",
          "data": {
            "text/plain": [
              "array([-5., -4., -3., -2., -1.,  0.,  1.,  2.,  3.,  4.,  5.])"
            ]
          },
          "metadata": {},
          "execution_count": 53
        }
      ]
    },
    {
      "cell_type": "code",
      "source": [
        "print(tabulate(hermite(x_s)))"
      ],
      "metadata": {
        "colab": {
          "base_uri": "https://localhost:8080/"
        },
        "id": "w2RZe7JEaDqL",
        "outputId": "34acb151-42df-4eeb-e7b6-98435904f72c"
      },
      "execution_count": 54,
      "outputs": [
        {
          "output_type": "stream",
          "name": "stdout",
          "text": [
            "[-5. -5. -4. -4. -3. -3. -2. -2. -1. -1.  0.  0.  1.  1.  2.  2.  3.  3.\n",
            "  4.  4.  5.  5.]\n",
            "---------  ----------  -----------  -----------  ------------  ------------  ------------  ------------  ------------  ------------  ------------  ------------  ------------  ------------  ------------  ------------  ------------  ------------  ------------  ------------  -----------  -\n",
            "0.0384615   0           0            0            0             0             0             0             0             0             0             0             0             0             0             0             0             0             0             0            0            0\n",
            "0.0384615   0.0147929   0            0            0             0             0             0             0             0             0             0             0             0             0             0             0             0             0             0            0            0\n",
            "0.0588235   0.020362    0.00556909   0            0             0             0             0             0             0             0             0             0             0             0             0             0             0             0             0            0            0\n",
            "0.0588235   0.0276817   0.00731967   0.00175058   0             0             0             0             0             0             0             0             0             0             0             0             0             0             0             0            0            0\n",
            "0.1         0.0411765   0.0134948    0.00308757   0.000668496   0             0             0             0             0             0             0             0             0             0             0             0             0             0             0            0            0\n",
            "0.1         0.06        0.0188235    0.00532872   0.00112057    0.00022604    0             0             0             0             0             0             0             0             0             0             0             0             0             0            0            0\n",
            "0.2         0.1         0.04         0.0105882    0.00262976    0.000503061   9.23405e-05   0             0             0             0             0             0             0             0             0             0             0             0             0            0            0\n",
            "0.2         0.16        0.06         0.02         0.00470588    0.00103806    0.000178334   2.86644e-05   0             0             0             0             0             0             0             0             0             0             0             0            0            0\n",
            "0.5         0.3         0.14         0.04         0.01          0.00176471    0.000242215   1.59702e-05  -3.17356e-06   0             0             0             0             0             0             0             0             0             0             0            0            0\n",
            "0.5         0.5         0.2          0.06         0.01          6.93889e-18  -0.000588235  -0.000276817  -7.31967e-05  -1.75058e-05   0             0             0             0             0             0             0             0             0             0            0            0\n",
            "1           0.5         0           -0.1         -0.08         -0.03         -0.01         -0.00235294   -0.000519031  -8.91669e-05  -1.43322e-05   0             0             0             0             0             0             0             0             0            0            0\n",
            "1          -0          -0.5         -0.5         -0.2          -0.06         -0.01          2.89121e-18   0.000588235   0.000276817   7.31967e-05   1.75058e-05   0             0             0             0             0             0             0             0            0            0\n",
            "0.5        -0.5        -0.5          0            0.25          0.15          0.07          0.02          0.005         0.000882353   0.000121107   7.98509e-06  -1.58678e-06   0             0             0             0             0             0             0            0            0\n",
            "0.5        -0.5         0            0.5          0.25          0            -0.05         -0.04         -0.015        -0.005        -0.00117647   -0.000259516  -4.45834e-05  -7.16611e-06   0             0             0             0             0             0            0            0\n",
            "0.2        -0.3         0.2          0.1         -0.2          -0.15         -0.05          0             0.01          0.005         0.002         0.000529412   0.000131488   2.5153e-05    4.61702e-06   0             0             0             0             0            0            0\n",
            "0.2        -0.16        0.14        -0.06        -0.08          0.06          0.07          0.04          0.01          0            -0.001        -0.0006       -0.000188235  -5.32872e-05  -1.12057e-05  -2.2604e-06    0             0             0             0            0            0\n",
            "0.1        -0.1         0.06        -0.04         0.01          0.03         -0.01         -0.02         -0.015        -0.005        -0.001         0             0.0001        4.11765e-05   1.34948e-05   3.08757e-06   6.68496e-07   0             0             0            0            0\n",
            "0.1        -0.06        0.04        -0.02         0.01         -6.93889e-18  -0.01         -2.89121e-18   0.005         0.005         0.002         0.0006        0.0001        0            -5.88235e-06  -2.76817e-06  -7.31967e-07  -1.75058e-07   0             0            0            0\n",
            "0.0588235  -0.0411765   0.0188235   -0.0105882    0.00470588   -0.00176471   -0.000588235   0.00235294    0.000588235  -0.000882353  -0.00117647   -0.000529412  -0.000188235  -4.11765e-05  -5.88235e-06   0             3.46021e-07   1.19776e-07   3.27594e-08   0            0            0\n",
            "0.0588235  -0.0276817   0.0134948   -0.00532872   0.00262976   -0.00103806    0.000242215   0.000276817  -0.000519031  -0.000276817   0.000121107   0.000259516   0.000131488   5.32872e-05   1.34948e-05   2.76817e-06   3.46021e-07   0            -1.33085e-08  -5.11865e-09  0            0\n",
            "0.0384615  -0.020362    0.00731967  -0.00308757   0.00112057   -0.000503061   0.000178334  -1.59702e-05  -7.31967e-05   8.91669e-05   7.31967e-05  -7.98509e-06  -4.45834e-05  -2.5153e-05   -1.12057e-05  -3.08757e-06  -7.31967e-07  -1.19776e-07  -1.33085e-08   0            5.11865e-10  0\n",
            "0.0384615  -0.0147929   0.00556909  -0.00175058   0.000668496  -0.00022604    9.23405e-05  -2.86644e-05  -3.17356e-06   1.75058e-05  -1.43322e-05  -1.75058e-05  -1.58678e-06   7.16611e-06   4.61702e-06   2.2604e-06    6.68496e-07   1.75058e-07   3.27594e-08   5.11865e-09  5.11865e-10  0\n",
            "---------  ----------  -----------  -----------  ------------  ------------  ------------  ------------  ------------  ------------  ------------  ------------  ------------  ------------  ------------  ------------  ------------  ------------  ------------  ------------  -----------  -\n"
          ]
        }
      ]
    },
    {
      "cell_type": "code",
      "source": [
        "coeffs = hermite(x_s).diagonal()\n",
        "coeffs"
      ],
      "metadata": {
        "colab": {
          "base_uri": "https://localhost:8080/"
        },
        "id": "_voUnrbpbptp",
        "outputId": "c37fae86-0ab1-4dda-b5d6-a27fc5aa8c78"
      },
      "execution_count": 79,
      "outputs": [
        {
          "output_type": "stream",
          "name": "stdout",
          "text": [
            "[-5. -5. -4. -4. -3. -3. -2. -2. -1. -1.  0.  0.  1.  1.  2.  2.  3.  3.\n",
            "  4.  4.  5.  5.]\n"
          ]
        },
        {
          "output_type": "execute_result",
          "data": {
            "text/plain": [
              "array([ 3.84615385e-02,  1.47928994e-02,  5.56909154e-03,  1.75057841e-03,\n",
              "        6.68495731e-04,  2.26039598e-04,  9.23404517e-05,  2.86644418e-05,\n",
              "       -3.17356319e-06, -1.75057841e-05, -1.43322209e-05,  1.75057841e-05,\n",
              "       -1.58678160e-06, -7.16611044e-06,  4.61702258e-06, -2.26039598e-06,\n",
              "        6.68495731e-07, -1.75057841e-07,  3.27593620e-08, -5.11865031e-09,\n",
              "        5.11865031e-10,  0.00000000e+00])"
            ]
          },
          "metadata": {},
          "execution_count": 79
        }
      ]
    },
    {
      "cell_type": "code",
      "source": [
        "coeffs = coeffs.tolist()\n",
        "coeffs"
      ],
      "metadata": {
        "colab": {
          "base_uri": "https://localhost:8080/"
        },
        "id": "I0c3oTjtdOq_",
        "outputId": "2566c07f-977f-4745-a66f-def1dcc11d74"
      },
      "execution_count": 80,
      "outputs": [
        {
          "output_type": "execute_result",
          "data": {
            "text/plain": [
              "[0.038461538461538464,\n",
              " 0.014792899408284023,\n",
              " 0.0055690915419422185,\n",
              " 0.0017505784074855202,\n",
              " 0.0006684957310456353,\n",
              " 0.00022603959787882884,\n",
              " 9.234045166970663e-05,\n",
              " 2.866444175999394e-05,\n",
              " -3.1735631948554547e-06,\n",
              " -1.7505784074855707e-05,\n",
              " -1.4332220879998214e-05,\n",
              " 1.7505784074855114e-05,\n",
              " -1.5867815974283903e-06,\n",
              " -7.166110439999179e-06,\n",
              " 4.617022583485185e-06,\n",
              " -2.2603959787883124e-06,\n",
              " 6.684957310456377e-07,\n",
              " -1.7505784074855137e-07,\n",
              " 3.275936201142482e-08,\n",
              " -5.118650314285128e-09,\n",
              " 5.118650314285128e-10,\n",
              " 0.0]"
            ]
          },
          "metadata": {},
          "execution_count": 80
        }
      ]
    },
    {
      "cell_type": "code",
      "source": [
        "p = np.poly1d((coeffs[::-1]))\n",
        "print(p)"
      ],
      "metadata": {
        "colab": {
          "base_uri": "https://localhost:8080/"
        },
        "id": "4FolTSare8Fj",
        "outputId": "43ee25e7-9940-4565-b3d4-858a1e4694c3"
      },
      "execution_count": 83,
      "outputs": [
        {
          "output_type": "stream",
          "name": "stdout",
          "text": [
            "           20             19             18             17\n",
            "5.119e-10 x  - 5.119e-09 x  + 3.276e-08 x  - 1.751e-07 x \n",
            "              16            15             14             13\n",
            " + 6.685e-07 x  - 2.26e-06 x  + 4.617e-06 x  - 7.166e-06 x \n",
            "              12             11             10             9\n",
            " - 1.587e-06 x  + 1.751e-05 x  - 1.433e-05 x  - 1.751e-05 x\n",
            "              8             7             6            5             4\n",
            " - 3.174e-06 x + 2.866e-05 x + 9.234e-05 x + 0.000226 x + 0.0006685 x\n",
            "             3            2\n",
            " + 0.001751 x + 0.005569 x + 0.01479 x + 0.03846\n"
          ]
        }
      ]
    },
    {
      "cell_type": "code",
      "source": [
        "np.polyval(p, [0.2, 0.3])"
      ],
      "metadata": {
        "colab": {
          "base_uri": "https://localhost:8080/"
        },
        "id": "rJ0qDpbzflg9",
        "outputId": "87b8c883-64d2-4783-e044-9217d8e488e8"
      },
      "execution_count": 36,
      "outputs": [
        {
          "output_type": "execute_result",
          "data": {
            "text/plain": [
              "array([0.04165803, 0.04345393])"
            ]
          },
          "metadata": {},
          "execution_count": 36
        }
      ]
    },
    {
      "cell_type": "code",
      "source": [
        "x = symbols('x')"
      ],
      "metadata": {
        "id": "qe-Wnmcqgez6"
      },
      "execution_count": 45,
      "outputs": []
    },
    {
      "cell_type": "code",
      "source": [
        "z = np.array([-5, -5, -4, -4, -3, -3, -2, -2, -1, -1,  0,  0,  1,  1,  2,  2,  3,  3,4,  4,  5,  5,])"
      ],
      "metadata": {
        "id": "SlW_PNDAkXKH"
      },
      "execution_count": 65,
      "outputs": []
    },
    {
      "cell_type": "code",
      "source": [
        "expressions = []\n",
        "for i in range(len(z)):\n",
        "  expr = coeffs[i]\n",
        "  for j in range(i): \n",
        "    print(f\"({x} - {z[j]})\", end=\" * \")\n",
        "    expr *= x - z[j]\n",
        "  expressions.append(expr)\n",
        "  print()"
      ],
      "metadata": {
        "colab": {
          "base_uri": "https://localhost:8080/"
        },
        "id": "yg7T-LTkh8jG",
        "outputId": "09240cce-e925-4b55-e602-771b7c63b60c"
      },
      "execution_count": 84,
      "outputs": [
        {
          "output_type": "stream",
          "name": "stdout",
          "text": [
            "\n",
            "(x - -5) * \n",
            "(x - -5) * (x - -5) * \n",
            "(x - -5) * (x - -5) * (x - -4) * \n",
            "(x - -5) * (x - -5) * (x - -4) * (x - -4) * \n",
            "(x - -5) * (x - -5) * (x - -4) * (x - -4) * (x - -3) * \n",
            "(x - -5) * (x - -5) * (x - -4) * (x - -4) * (x - -3) * (x - -3) * \n",
            "(x - -5) * (x - -5) * (x - -4) * (x - -4) * (x - -3) * (x - -3) * (x - -2) * \n",
            "(x - -5) * (x - -5) * (x - -4) * (x - -4) * (x - -3) * (x - -3) * (x - -2) * (x - -2) * \n",
            "(x - -5) * (x - -5) * (x - -4) * (x - -4) * (x - -3) * (x - -3) * (x - -2) * (x - -2) * (x - -1) * \n",
            "(x - -5) * (x - -5) * (x - -4) * (x - -4) * (x - -3) * (x - -3) * (x - -2) * (x - -2) * (x - -1) * (x - -1) * \n",
            "(x - -5) * (x - -5) * (x - -4) * (x - -4) * (x - -3) * (x - -3) * (x - -2) * (x - -2) * (x - -1) * (x - -1) * (x - 0) * \n",
            "(x - -5) * (x - -5) * (x - -4) * (x - -4) * (x - -3) * (x - -3) * (x - -2) * (x - -2) * (x - -1) * (x - -1) * (x - 0) * (x - 0) * \n",
            "(x - -5) * (x - -5) * (x - -4) * (x - -4) * (x - -3) * (x - -3) * (x - -2) * (x - -2) * (x - -1) * (x - -1) * (x - 0) * (x - 0) * (x - 1) * \n",
            "(x - -5) * (x - -5) * (x - -4) * (x - -4) * (x - -3) * (x - -3) * (x - -2) * (x - -2) * (x - -1) * (x - -1) * (x - 0) * (x - 0) * (x - 1) * (x - 1) * \n",
            "(x - -5) * (x - -5) * (x - -4) * (x - -4) * (x - -3) * (x - -3) * (x - -2) * (x - -2) * (x - -1) * (x - -1) * (x - 0) * (x - 0) * (x - 1) * (x - 1) * (x - 2) * \n",
            "(x - -5) * (x - -5) * (x - -4) * (x - -4) * (x - -3) * (x - -3) * (x - -2) * (x - -2) * (x - -1) * (x - -1) * (x - 0) * (x - 0) * (x - 1) * (x - 1) * (x - 2) * (x - 2) * \n",
            "(x - -5) * (x - -5) * (x - -4) * (x - -4) * (x - -3) * (x - -3) * (x - -2) * (x - -2) * (x - -1) * (x - -1) * (x - 0) * (x - 0) * (x - 1) * (x - 1) * (x - 2) * (x - 2) * (x - 3) * \n",
            "(x - -5) * (x - -5) * (x - -4) * (x - -4) * (x - -3) * (x - -3) * (x - -2) * (x - -2) * (x - -1) * (x - -1) * (x - 0) * (x - 0) * (x - 1) * (x - 1) * (x - 2) * (x - 2) * (x - 3) * (x - 3) * \n",
            "(x - -5) * (x - -5) * (x - -4) * (x - -4) * (x - -3) * (x - -3) * (x - -2) * (x - -2) * (x - -1) * (x - -1) * (x - 0) * (x - 0) * (x - 1) * (x - 1) * (x - 2) * (x - 2) * (x - 3) * (x - 3) * (x - 4) * \n",
            "(x - -5) * (x - -5) * (x - -4) * (x - -4) * (x - -3) * (x - -3) * (x - -2) * (x - -2) * (x - -1) * (x - -1) * (x - 0) * (x - 0) * (x - 1) * (x - 1) * (x - 2) * (x - 2) * (x - 3) * (x - 3) * (x - 4) * (x - 4) * \n",
            "(x - -5) * (x - -5) * (x - -4) * (x - -4) * (x - -3) * (x - -3) * (x - -2) * (x - -2) * (x - -1) * (x - -1) * (x - 0) * (x - 0) * (x - 1) * (x - 1) * (x - 2) * (x - 2) * (x - 3) * (x - 3) * (x - 4) * (x - 4) * (x - 5) * \n"
          ]
        }
      ]
    },
    {
      "cell_type": "code",
      "source": [
        "expressions[0]"
      ],
      "metadata": {
        "colab": {
          "base_uri": "https://localhost:8080/"
        },
        "id": "v2vb3kCDiQEJ",
        "outputId": "95f009e7-10ae-45ca-8463-310c6bd91cee"
      },
      "execution_count": 85,
      "outputs": [
        {
          "output_type": "execute_result",
          "data": {
            "text/plain": [
              "0.038461538461538464"
            ]
          },
          "metadata": {},
          "execution_count": 85
        }
      ]
    },
    {
      "cell_type": "code",
      "source": [
        "expressions"
      ],
      "metadata": {
        "colab": {
          "base_uri": "https://localhost:8080/"
        },
        "id": "EdXMp03rmTup",
        "outputId": "d0a55c2f-05af-4e32-ed91-ef4018081b7d"
      },
      "execution_count": 95,
      "outputs": [
        {
          "output_type": "execute_result",
          "data": {
            "text/plain": [
              "[0.038461538461538464,\n",
              " 0.014792899408284*x + 0.0739644970414201,\n",
              " (0.00556909154194222*x + 0.0278454577097111)*(x + 5),\n",
              " (0.00175057840748552*x + 0.0087528920374276)*(x + 4)*(x + 5),\n",
              " (0.000668495731045635*x + 0.00334247865522818)*(x + 4)**2*(x + 5),\n",
              " (0.000226039597878829*x + 0.00113019798939414)*(x + 3)*(x + 4)**2*(x + 5),\n",
              " (9.23404516697066e-5*x + 0.000461702258348533)*(x + 3)**2*(x + 4)**2*(x + 5),\n",
              " (2.86644417599939e-5*x + 0.00014332220879997)*(x + 2)*(x + 3)**2*(x + 4)**2*(x + 5),\n",
              " (-3.17356319485545e-6*x - 1.58678159742773e-5)*(x + 2)**2*(x + 3)**2*(x + 4)**2*(x + 5),\n",
              " (-1.75057840748557e-5*x - 8.75289203742785e-5)*(x + 1)*(x + 2)**2*(x + 3)**2*(x + 4)**2*(x + 5),\n",
              " (-1.43322208799982e-5*x - 7.16611043999911e-5)*(x + 1)**2*(x + 2)**2*(x + 3)**2*(x + 4)**2*(x + 5),\n",
              " x*(1.75057840748551e-5*x + 8.75289203742756e-5)*(x + 1)**2*(x + 2)**2*(x + 3)**2*(x + 4)**2*(x + 5),\n",
              " x**2*(-1.58678159742839e-6*x - 7.93390798714195e-6)*(x + 1)**2*(x + 2)**2*(x + 3)**2*(x + 4)**2*(x + 5),\n",
              " x**2*(-7.16611043999918e-6*x - 3.58305521999959e-5)*(x - 1)*(x + 1)**2*(x + 2)**2*(x + 3)**2*(x + 4)**2*(x + 5),\n",
              " x**2*(4.61702258348519e-6*x + 2.30851129174259e-5)*(x - 1)**2*(x + 1)**2*(x + 2)**2*(x + 3)**2*(x + 4)**2*(x + 5),\n",
              " x**2*(-2.26039597878831e-6*x - 1.13019798939416e-5)*(x - 2)*(x - 1)**2*(x + 1)**2*(x + 2)**2*(x + 3)**2*(x + 4)**2*(x + 5),\n",
              " x**2*(6.68495731045638e-7*x + 3.34247865522819e-6)*(x - 2)**2*(x - 1)**2*(x + 1)**2*(x + 2)**2*(x + 3)**2*(x + 4)**2*(x + 5),\n",
              " x**2*(-1.75057840748551e-7*x - 8.75289203742757e-7)*(x - 3)*(x - 2)**2*(x - 1)**2*(x + 1)**2*(x + 2)**2*(x + 3)**2*(x + 4)**2*(x + 5),\n",
              " x**2*(3.27593620114248e-8*x + 1.63796810057124e-7)*(x - 3)**2*(x - 2)**2*(x - 1)**2*(x + 1)**2*(x + 2)**2*(x + 3)**2*(x + 4)**2*(x + 5),\n",
              " x**2*(-5.11865031428513e-9*x - 2.55932515714256e-8)*(x - 4)*(x - 3)**2*(x - 2)**2*(x - 1)**2*(x + 1)**2*(x + 2)**2*(x + 3)**2*(x + 4)**2*(x + 5),\n",
              " x**2*(5.11865031428513e-10*x + 2.55932515714256e-9)*(x - 4)**2*(x - 3)**2*(x - 2)**2*(x - 1)**2*(x + 1)**2*(x + 2)**2*(x + 3)**2*(x + 4)**2*(x + 5),\n",
              " 0]"
            ]
          },
          "metadata": {},
          "execution_count": 95
        }
      ]
    },
    {
      "cell_type": "code",
      "source": [
        "equation = expand(sum(expressions))\n",
        "equation"
      ],
      "metadata": {
        "colab": {
          "base_uri": "https://localhost:8080/",
          "height": 102
        },
        "id": "zewQHWV6m4SO",
        "outputId": "1f3de6e9-3ca6-4be8-8dc4-777d732f955c"
      },
      "execution_count": 96,
      "outputs": [
        {
          "output_type": "execute_result",
          "data": {
            "text/plain": [
              "5.11865031428513e-10*x**20 - 5.68170184885649e-8*x**18 + 2.65248459286255e-6*x**16 - 6.8079072910055e-5*x**14 + 1.76182853028894e-19*x**13 + 0.00105578970537049*x**12 + 4.33680868994202e-19*x**11 - 0.0102636427386827*x**10 - 1.73472347597681e-18*x**9 + 0.0630632992772465*x**8 - 2.68882138776405e-17*x**7 - 0.243093622161708*x**6 - 4.8919202022546e-16*x**5 + 0.583163325894228*x**4 - 4.79217360238593e-16*x**3 - 0.893859667082984*x**2 + 5.55111512312578e-17*x + 1.0"
            ],
            "text/latex": "$\\displaystyle 5.11865031428513 \\cdot 10^{-10} x^{20} - 5.68170184885649 \\cdot 10^{-8} x^{18} + 2.65248459286255 \\cdot 10^{-6} x^{16} - 6.8079072910055 \\cdot 10^{-5} x^{14} + 1.76182853028894 \\cdot 10^{-19} x^{13} + 0.00105578970537049 x^{12} + 4.33680868994202 \\cdot 10^{-19} x^{11} - 0.0102636427386827 x^{10} - 1.73472347597681 \\cdot 10^{-18} x^{9} + 0.0630632992772465 x^{8} - 2.68882138776405 \\cdot 10^{-17} x^{7} - 0.243093622161708 x^{6} - 4.8919202022546 \\cdot 10^{-16} x^{5} + 0.583163325894228 x^{4} - 4.79217360238593 \\cdot 10^{-16} x^{3} - 0.893859667082984 x^{2} + 5.55111512312578 \\cdot 10^{-17} x + 1.0$"
          },
          "metadata": {},
          "execution_count": 96
        }
      ]
    },
    {
      "cell_type": "code",
      "source": [
        "xs = np.linspace(-5, 5, 1000)\n",
        "\n",
        "plt.plot(xs, func(xs))"
      ],
      "metadata": {
        "colab": {
          "base_uri": "https://localhost:8080/",
          "height": 282
        },
        "id": "_Fm5p_nQnDju",
        "outputId": "d6a13f67-0422-421c-e58e-ff28b20df635"
      },
      "execution_count": 97,
      "outputs": [
        {
          "output_type": "execute_result",
          "data": {
            "text/plain": [
              "[<matplotlib.lines.Line2D at 0x7f4f1c5af3d0>]"
            ]
          },
          "metadata": {},
          "execution_count": 97
        },
        {
          "output_type": "display_data",
          "data": {
            "text/plain": [
              "<Figure size 432x288 with 1 Axes>"
            ],
            "image/png": "[encoded data removed]"
          },
          "metadata": {
            "needs_background": "light"
          }
        }
      ]
    },
    {
      "cell_type": "code",
      "source": [
        "y_s = [equation.subs(x, i) for i in tqdm(xs)]\n",
        "plt.plot(xs, y_s)"
      ],
      "metadata": {
        "colab": {
          "base_uri": "https://localhost:8080/",
          "height": 301
        },
        "id": "IfzB5MIrpF18",
        "outputId": "9e4d8428-8f5a-42b4-adbf-17cbc36282a2"
      },
      "execution_count": 98,
      "outputs": [
        {
          "output_type": "stream",
          "name": "stderr",
          "text": [
            "100%|██████████| 1000/1000 [00:07<00:00, 132.34it/s]\n"
          ]
        },
        {
          "output_type": "execute_result",
          "data": {
            "text/plain": [
              "[<matplotlib.lines.Line2D at 0x7f4f1c5cb650>]"
            ]
          },
          "metadata": {},
          "execution_count": 98
        },
        {
          "output_type": "display_data",
          "data": {
            "text/plain": [
              "<Figure size 432x288 with 1 Axes>"
            ],
            "image/png": "[encoded data removed]"
          },
          "metadata": {
            "needs_background": "light"
          }
        }
      ]
    },
    {
      "cell_type": "code",
      "source": [],
      "metadata": {
        "id": "eW72u3yepQ68"
      },
      "execution_count": null,
      "outputs": []
    }
  ]
}