{
  "cells": [
    {
      "cell_type": "code",
      "execution_count": 189,
      "metadata": {
        "id": "CkhJpk2sELfr"
      },
      "outputs": [],
      "source": [
        "import pandas as pd\n",
        "from sklearn.tree import DecisionTreeClassifier\n",
        "from sklearn import tree\n",
        "from sklearn.model_selection import train_test_split\n",
        "from sklearn.metrics import accuracy_score, confusion_matrix\n",
        "import graphviz "
      ]
    },
    {
      "cell_type": "code",
      "execution_count": 190,
      "metadata": {
        "id": "7PFXyjEuC7l2"
      },
      "outputs": [],
      "source": [
        "dataset_url = \"https://raw.githubusercontent.com/kalyaniuniversity/mgx-datasets/master/DLBCL/datasets/preprocessed/dlbcl-sd-100.csv\""
      ]
    },
    {
      "cell_type": "code",
      "execution_count": 191,
      "metadata": {
        "colab": {
          "base_uri": "https://localhost:8080/",
          "height": 317
        },
        "id": "Z74Z4AnvEDCq",
        "outputId": "04c6bf8d-536b-43e4-86d3-09188c0f5879"
      },
      "outputs": [
        {
          "data": {
            "text/html": [
              "\n",
              "  <div id=\"df-65984641-2644-4b28-8ffc-20311f0add21\">\n",
              "    <div class=\"colab-df-container\">\n",
              "      <div>\n",
              "<style scoped>\n",
              "    .dataframe tbody tr th:only-of-type {\n",
              "        vertical-align: middle;\n",
              "    }\n",
              "\n",
              "    .dataframe tbody tr th {\n",
              "        vertical-align: top;\n",
              "    }\n",
              "\n",
              "    .dataframe thead th {\n",
              "        text-align: right;\n",
              "    }\n",
              "</style>\n",
              "<table border=\"1\" class=\"dataframe\">\n",
              "  <thead>\n",
              "    <tr style=\"text-align: right;\">\n",
              "      <th></th>\n",
              "      <th>X02160_at</th>\n",
              "      <th>D87436_at</th>\n",
              "      <th>U58033_at</th>\n",
              "      <th>X74331_at</th>\n",
              "      <th>U82671_cds2_at</th>\n",
              "      <th>M12959_s_at</th>\n",
              "      <th>S39329_at</th>\n",
              "      <th>Y00285_s_at</th>\n",
              "      <th>U53830_at</th>\n",
              "      <th>U79526_at</th>\n",
              "      <th>...</th>\n",
              "      <th>U25988_at</th>\n",
              "      <th>X92098_at</th>\n",
              "      <th>D89377_s_at</th>\n",
              "      <th>D86043_s_at</th>\n",
              "      <th>D10202_at</th>\n",
              "      <th>X06268_at</th>\n",
              "      <th>HG3364-HT3541_at</th>\n",
              "      <th>U41763_at</th>\n",
              "      <th>M68907_s_at</th>\n",
              "      <th>class</th>\n",
              "    </tr>\n",
              "  </thead>\n",
              "  <tbody>\n",
              "    <tr>\n",
              "      <th>0</th>\n",
              "      <td>0.0860</td>\n",
              "      <td>-0.4776</td>\n",
              "      <td>0.1128</td>\n",
              "      <td>-0.3524</td>\n",
              "      <td>-1.2158</td>\n",
              "      <td>-1.0879</td>\n",
              "      <td>1.2491</td>\n",
              "      <td>-0.5305</td>\n",
              "      <td>-0.4056</td>\n",
              "      <td>-0.0536</td>\n",
              "      <td>...</td>\n",
              "      <td>-0.5577</td>\n",
              "      <td>0.1917</td>\n",
              "      <td>0.6830</td>\n",
              "      <td>0.3797</td>\n",
              "      <td>0.3242</td>\n",
              "      <td>-0.2661</td>\n",
              "      <td>-0.5450</td>\n",
              "      <td>0.2145</td>\n",
              "      <td>-0.0078</td>\n",
              "      <td>DLBCL</td>\n",
              "    </tr>\n",
              "    <tr>\n",
              "      <th>1</th>\n",
              "      <td>3.9336</td>\n",
              "      <td>-0.3716</td>\n",
              "      <td>-0.3936</td>\n",
              "      <td>-0.4337</td>\n",
              "      <td>-0.0297</td>\n",
              "      <td>1.5771</td>\n",
              "      <td>-1.7251</td>\n",
              "      <td>0.2726</td>\n",
              "      <td>2.2205</td>\n",
              "      <td>2.3315</td>\n",
              "      <td>...</td>\n",
              "      <td>-0.7781</td>\n",
              "      <td>-1.1437</td>\n",
              "      <td>0.6830</td>\n",
              "      <td>0.8660</td>\n",
              "      <td>0.6778</td>\n",
              "      <td>0.5630</td>\n",
              "      <td>0.3347</td>\n",
              "      <td>-0.4297</td>\n",
              "      <td>0.7316</td>\n",
              "      <td>DLBCL</td>\n",
              "    </tr>\n",
              "    <tr>\n",
              "      <th>2</th>\n",
              "      <td>2.1761</td>\n",
              "      <td>0.5697</td>\n",
              "      <td>-0.7987</td>\n",
              "      <td>1.0117</td>\n",
              "      <td>1.1118</td>\n",
              "      <td>2.1945</td>\n",
              "      <td>0.9946</td>\n",
              "      <td>3.2036</td>\n",
              "      <td>0.2055</td>\n",
              "      <td>1.3938</td>\n",
              "      <td>...</td>\n",
              "      <td>0.9939</td>\n",
              "      <td>-0.3984</td>\n",
              "      <td>0.6581</td>\n",
              "      <td>-0.8371</td>\n",
              "      <td>1.8077</td>\n",
              "      <td>0.2269</td>\n",
              "      <td>-0.7039</td>\n",
              "      <td>-2.0157</td>\n",
              "      <td>0.0940</td>\n",
              "      <td>DLBCL</td>\n",
              "    </tr>\n",
              "    <tr>\n",
              "      <th>3</th>\n",
              "      <td>0.2475</td>\n",
              "      <td>-0.7456</td>\n",
              "      <td>-0.5455</td>\n",
              "      <td>-0.5692</td>\n",
              "      <td>-0.2692</td>\n",
              "      <td>0.7490</td>\n",
              "      <td>-1.8189</td>\n",
              "      <td>0.4398</td>\n",
              "      <td>0.1410</td>\n",
              "      <td>0.1095</td>\n",
              "      <td>...</td>\n",
              "      <td>-0.7713</td>\n",
              "      <td>-0.7283</td>\n",
              "      <td>0.1969</td>\n",
              "      <td>1.1079</td>\n",
              "      <td>0.4049</td>\n",
              "      <td>-0.0700</td>\n",
              "      <td>1.6608</td>\n",
              "      <td>-0.4428</td>\n",
              "      <td>0.3789</td>\n",
              "      <td>DLBCL</td>\n",
              "    </tr>\n",
              "    <tr>\n",
              "      <th>4</th>\n",
              "      <td>0.5040</td>\n",
              "      <td>1.6793</td>\n",
              "      <td>-1.9128</td>\n",
              "      <td>0.0541</td>\n",
              "      <td>-0.9875</td>\n",
              "      <td>-1.4499</td>\n",
              "      <td>0.5927</td>\n",
              "      <td>1.2276</td>\n",
              "      <td>-0.1220</td>\n",
              "      <td>-0.7263</td>\n",
              "      <td>...</td>\n",
              "      <td>-0.6645</td>\n",
              "      <td>-1.0156</td>\n",
              "      <td>-0.5011</td>\n",
              "      <td>-1.0720</td>\n",
              "      <td>-0.2408</td>\n",
              "      <td>0.1541</td>\n",
              "      <td>1.1423</td>\n",
              "      <td>0.7017</td>\n",
              "      <td>-0.0417</td>\n",
              "      <td>DLBCL</td>\n",
              "    </tr>\n",
              "  </tbody>\n",
              "</table>\n",
              "<p>5 rows × 101 columns</p>\n",
              "</div>\n",
              "      <button class=\"colab-df-convert\" onclick=\"convertToInteractive('df-65984641-2644-4b28-8ffc-20311f0add21')\"\n",
              "              title=\"Convert this dataframe to an interactive table.\"\n",
              "              style=\"display:none;\">\n",
              "        \n",
              "  <svg xmlns=\"http://www.w3.org/2000/svg\" height=\"24px\"viewBox=\"0 0 24 24\"\n",
              "       width=\"24px\">\n",
              "    <path d=\"M0 0h24v24H0V0z\" fill=\"none\"/>\n",
              "    <path d=\"M18.56 5.44l.94 2.06.94-2.06 2.06-.94-2.06-.94-.94-2.06-.94 2.06-2.06.94zm-11 1L8.5 8.5l.94-2.06 2.06-.94-2.06-.94L8.5 2.5l-.94 2.06-2.06.94zm10 10l.94 2.06.94-2.06 2.06-.94-2.06-.94-.94-2.06-.94 2.06-2.06.94z\"/><path d=\"M17.41 7.96l-1.37-1.37c-.4-.4-.92-.59-1.43-.59-.52 0-1.04.2-1.43.59L10.3 9.45l-7.72 7.72c-.78.78-.78 2.05 0 2.83L4 21.41c.39.39.9.59 1.41.59.51 0 1.02-.2 1.41-.59l7.78-7.78 2.81-2.81c.8-.78.8-2.07 0-2.86zM5.41 20L4 18.59l7.72-7.72 1.47 1.35L5.41 20z\"/>\n",
              "  </svg>\n",
              "      </button>\n",
              "      \n",
              "  <style>\n",
              "    .colab-df-container {\n",
              "      display:flex;\n",
              "      flex-wrap:wrap;\n",
              "      gap: 12px;\n",
              "    }\n",
              "\n",
              "    .colab-df-convert {\n",
              "      background-color: #E8F0FE;\n",
              "      border: none;\n",
              "      border-radius: 50%;\n",
              "      cursor: pointer;\n",
              "      display: none;\n",
              "      fill: #1967D2;\n",
              "      height: 32px;\n",
              "      padding: 0 0 0 0;\n",
              "      width: 32px;\n",
              "    }\n",
              "\n",
              "    .colab-df-convert:hover {\n",
              "      background-color: #E2EBFA;\n",
              "      box-shadow: 0px 1px 2px rgba(60, 64, 67, 0.3), 0px 1px 3px 1px rgba(60, 64, 67, 0.15);\n",
              "      fill: #174EA6;\n",
              "    }\n",
              "\n",
              "    [theme=dark] .colab-df-convert {\n",
              "      background-color: #3B4455;\n",
              "      fill: #D2E3FC;\n",
              "    }\n",
              "\n",
              "    [theme=dark] .colab-df-convert:hover {\n",
              "      background-color: #434B5C;\n",
              "      box-shadow: 0px 1px 3px 1px rgba(0, 0, 0, 0.15);\n",
              "      filter: drop-shadow(0px 1px 2px rgba(0, 0, 0, 0.3));\n",
              "      fill: #FFFFFF;\n",
              "    }\n",
              "  </style>\n",
              "\n",
              "      <script>\n",
              "        const buttonEl =\n",
              "          document.querySelector('#df-65984641-2644-4b28-8ffc-20311f0add21 button.colab-df-convert');\n",
              "        buttonEl.style.display =\n",
              "          google.colab.kernel.accessAllowed ? 'block' : 'none';\n",
              "\n",
              "        async function convertToInteractive(key) {\n",
              "          const element = document.querySelector('#df-65984641-2644-4b28-8ffc-20311f0add21');\n",
              "          const dataTable =\n",
              "            await google.colab.kernel.invokeFunction('convertToInteractive',\n",
              "                                                     [key], {});\n",
              "          if (!dataTable) return;\n",
              "\n",
              "          const docLinkHtml = 'Like what you see? Visit the ' +\n",
              "            '<a target=\"_blank\" href=https://colab.research.google.com/notebooks/data_table.ipynb>data table notebook</a>'\n",
              "            + ' to learn more about interactive tables.';\n",
              "          element.innerHTML = '';\n",
              "          dataTable['output_type'] = 'display_data';\n",
              "          await google.colab.output.renderOutput(dataTable, element);\n",
              "          const docLink = document.createElement('div');\n",
              "          docLink.innerHTML = docLinkHtml;\n",
              "          element.appendChild(docLink);\n",
              "        }\n",
              "      </script>\n",
              "    </div>\n",
              "  </div>\n",
              "  "
            ],
            "text/plain": [
              "   X02160_at  D87436_at  U58033_at  X74331_at  U82671_cds2_at  M12959_s_at  \\\n",
              "0     0.0860    -0.4776     0.1128    -0.3524         -1.2158      -1.0879   \n",
              "1     3.9336    -0.3716    -0.3936    -0.4337         -0.0297       1.5771   \n",
              "2     2.1761     0.5697    -0.7987     1.0117          1.1118       2.1945   \n",
              "3     0.2475    -0.7456    -0.5455    -0.5692         -0.2692       0.7490   \n",
              "4     0.5040     1.6793    -1.9128     0.0541         -0.9875      -1.4499   \n",
              "\n",
              "   S39329_at  Y00285_s_at  U53830_at  U79526_at  ...  U25988_at  X92098_at  \\\n",
              "0     1.2491      -0.5305    -0.4056    -0.0536  ...    -0.5577     0.1917   \n",
              "1    -1.7251       0.2726     2.2205     2.3315  ...    -0.7781    -1.1437   \n",
              "2     0.9946       3.2036     0.2055     1.3938  ...     0.9939    -0.3984   \n",
              "3    -1.8189       0.4398     0.1410     0.1095  ...    -0.7713    -0.7283   \n",
              "4     0.5927       1.2276    -0.1220    -0.7263  ...    -0.6645    -1.0156   \n",
              "\n",
              "   D89377_s_at  D86043_s_at  D10202_at  X06268_at  HG3364-HT3541_at  \\\n",
              "0       0.6830       0.3797     0.3242    -0.2661           -0.5450   \n",
              "1       0.6830       0.8660     0.6778     0.5630            0.3347   \n",
              "2       0.6581      -0.8371     1.8077     0.2269           -0.7039   \n",
              "3       0.1969       1.1079     0.4049    -0.0700            1.6608   \n",
              "4      -0.5011      -1.0720    -0.2408     0.1541            1.1423   \n",
              "\n",
              "   U41763_at  M68907_s_at  class  \n",
              "0     0.2145      -0.0078  DLBCL  \n",
              "1    -0.4297       0.7316  DLBCL  \n",
              "2    -2.0157       0.0940  DLBCL  \n",
              "3    -0.4428       0.3789  DLBCL  \n",
              "4     0.7017      -0.0417  DLBCL  \n",
              "\n",
              "[5 rows x 101 columns]"
            ]
          },
          "execution_count": 191,
          "metadata": {},
          "output_type": "execute_result"
        }
      ],
      "source": [
        "df = pd.read_csv(dataset_url)\n",
        "df.head()"
      ]
    },
    {
      "cell_type": "code",
      "execution_count": 1,
      "metadata": {
        "colab": {
          "base_uri": "https://localhost:8080/"
        },
        "id": "Al5TeyN-ETl2",
        "outputId": "8d257e2c-7dc7-40dc-c72e-2004dbd030eb"
      },
      "outputs": [],
      "source": [
        "df.shape"
      ]
    },
    {
      "cell_type": "code",
      "execution_count": 193,
      "metadata": {
        "colab": {
          "base_uri": "https://localhost:8080/"
        },
        "id": "t1YH6YHpEVT3",
        "outputId": "baf05f03-da7b-4ce5-9cf3-2cfc44a0419b"
      },
      "outputs": [
        {
          "name": "stdout",
          "output_type": "stream",
          "text": [
            "<class 'pandas.core.frame.DataFrame'>\n",
            "RangeIndex: 77 entries, 0 to 76\n",
            "Columns: 101 entries, X02160_at to class\n",
            "dtypes: float64(100), object(1)\n",
            "memory usage: 60.9+ KB\n"
          ]
        }
      ],
      "source": [
        "df.info()"
      ]
    },
    {
      "cell_type": "code",
      "execution_count": 194,
      "metadata": {
        "colab": {
          "base_uri": "https://localhost:8080/"
        },
        "id": "Zfd6m_TqF0pT",
        "outputId": "b3f783d9-2c33-4a90-ac8f-a042bf1323b9"
      },
      "outputs": [
        {
          "data": {
            "text/plain": [
              "DLBCL    58\n",
              "FL       19\n",
              "Name: class, dtype: int64"
            ]
          },
          "execution_count": 194,
          "metadata": {},
          "output_type": "execute_result"
        }
      ],
      "source": [
        "df['class'].value_counts()"
      ]
    },
    {
      "cell_type": "code",
      "execution_count": 195,
      "metadata": {
        "id": "fUlMHwcIF8UZ"
      },
      "outputs": [],
      "source": [
        "X = df.drop(['class'], axis=1)\n",
        "\n",
        "y = df['class']"
      ]
    },
    {
      "cell_type": "code",
      "execution_count": 196,
      "metadata": {
        "id": "ab52f0gaGPNp"
      },
      "outputs": [],
      "source": [
        "X_train, X_test, y_train, y_test = train_test_split(X, y, test_size=0.40, random_state=0)"
      ]
    },
    {
      "cell_type": "code",
      "execution_count": 197,
      "metadata": {
        "colab": {
          "base_uri": "https://localhost:8080/"
        },
        "id": "fJr2Kl_VGfCB",
        "outputId": "f735dadc-ffc8-40db-d380-60ec813943bf"
      },
      "outputs": [
        {
          "data": {
            "text/plain": [
              "((46, 100), (31, 100))"
            ]
          },
          "execution_count": 197,
          "metadata": {},
          "output_type": "execute_result"
        }
      ],
      "source": [
        "X_train.shape, X_test.shape"
      ]
    },
    {
      "cell_type": "markdown",
      "metadata": {
        "id": "CGHxPLN-Gu2K"
      },
      "source": [
        "## Decision Tree Classifier with Gini Index"
      ]
    },
    {
      "cell_type": "code",
      "execution_count": 198,
      "metadata": {
        "colab": {
          "base_uri": "https://localhost:8080/"
        },
        "id": "iFqYCq6IGhqG",
        "outputId": "e29da0c3-30e5-48f7-9a70-effd69a3efd1"
      },
      "outputs": [
        {
          "data": {
            "text/plain": [
              "DecisionTreeClassifier(max_depth=5, min_samples_leaf=6, random_state=0)"
            ]
          },
          "execution_count": 198,
          "metadata": {},
          "output_type": "execute_result"
        }
      ],
      "source": [
        "clf_gini = DecisionTreeClassifier(criterion=\"gini\",\n",
        "                                  max_depth=5,\n",
        "                                  min_samples_leaf=6,\n",
        "                                  random_state=0)\n",
        "\n",
        "\n",
        "\n",
        "clf_gini.fit(X_train, y_train)"
      ]
    },
    {
      "cell_type": "code",
      "execution_count": 199,
      "metadata": {
        "colab": {
          "base_uri": "https://localhost:8080/",
          "height": 440
        },
        "id": "Kl_5KJzmNgyQ",
        "outputId": "f3c17726-d705-4175-cfdb-29b60d8aee04"
      },
      "outputs": [
        {
          "data": {
            "image/svg+xml": "<?xml version=\"1.0\" encoding=\"UTF-8\" standalone=\"no\"?>\n<!DOCTYPE svg PUBLIC \"-//W3C//DTD SVG 1.1//EN\"\n \"http://www.w3.org/Graphics/SVG/1.1/DTD/svg11.dtd\">\n<!-- Generated by graphviz version 2.40.1 (20161225.0304)\n -->\n<!-- Title: Tree Pages: 1 -->\n<svg width=\"333pt\" height=\"314pt\"\n viewBox=\"0.00 0.00 333.00 314.00\" xmlns=\"http://www.w3.org/2000/svg\" xmlns:xlink=\"http://www.w3.org/1999/xlink\">\n<g id=\"graph0\" class=\"graph\" transform=\"scale(1 1) rotate(0) translate(4 310)\">\n<title>Tree</title>\n<polygon fill=\"#ffffff\" stroke=\"transparent\" points=\"-4,4 -4,-310 329,-310 329,4 -4,4\"/>\n<!-- 0 -->\n<g id=\"node1\" class=\"node\">\n<title>0</title>\n<path fill=\"#eca470\" stroke=\"#000000\" d=\"M251,-306C251,-306 138,-306 138,-306 132,-306 126,-300 126,-294 126,-294 126,-235 126,-235 126,-229 132,-223 138,-223 138,-223 251,-223 251,-223 257,-223 263,-229 263,-235 263,-235 263,-294 263,-294 263,-300 257,-306 251,-306\"/>\n<text text-anchor=\"start\" x=\"134\" y=\"-290.8\" font-family=\"Helvetica,sans-Serif\" font-size=\"14.00\" fill=\"#000000\">U28386_at ≤ &#45;0.41</text>\n<text text-anchor=\"start\" x=\"161\" y=\"-275.8\" font-family=\"Helvetica,sans-Serif\" font-size=\"14.00\" fill=\"#000000\">gini = 0.34</text>\n<text text-anchor=\"start\" x=\"150.5\" y=\"-260.8\" font-family=\"Helvetica,sans-Serif\" font-size=\"14.00\" fill=\"#000000\">samples = 46</text>\n<text text-anchor=\"start\" x=\"144.5\" y=\"-245.8\" font-family=\"Helvetica,sans-Serif\" font-size=\"14.00\" fill=\"#000000\">value = [36, 10]</text>\n<text text-anchor=\"start\" x=\"146\" y=\"-230.8\" font-family=\"Helvetica,sans-Serif\" font-size=\"14.00\" fill=\"#000000\">class = DLBCL</text>\n</g>\n<!-- 1 -->\n<g id=\"node2\" class=\"node\">\n<title>1</title>\n<path fill=\"#fdf4ed\" stroke=\"#000000\" d=\"M182,-187C182,-187 61,-187 61,-187 55,-187 49,-181 49,-175 49,-175 49,-116 49,-116 49,-110 55,-104 61,-104 61,-104 182,-104 182,-104 188,-104 194,-110 194,-116 194,-116 194,-175 194,-175 194,-181 188,-187 182,-187\"/>\n<text text-anchor=\"start\" x=\"57\" y=\"-171.8\" font-family=\"Helvetica,sans-Serif\" font-size=\"14.00\" fill=\"#000000\">D86550_at ≤ &#45;0.619</text>\n<text text-anchor=\"start\" x=\"83.5\" y=\"-156.8\" font-family=\"Helvetica,sans-Serif\" font-size=\"14.00\" fill=\"#000000\">gini = 0.499</text>\n<text text-anchor=\"start\" x=\"77.5\" y=\"-141.8\" font-family=\"Helvetica,sans-Serif\" font-size=\"14.00\" fill=\"#000000\">samples = 21</text>\n<text text-anchor=\"start\" x=\"71.5\" y=\"-126.8\" font-family=\"Helvetica,sans-Serif\" font-size=\"14.00\" fill=\"#000000\">value = [11, 10]</text>\n<text text-anchor=\"start\" x=\"73\" y=\"-111.8\" font-family=\"Helvetica,sans-Serif\" font-size=\"14.00\" fill=\"#000000\">class = DLBCL</text>\n</g>\n<!-- 0&#45;&gt;1 -->\n<g id=\"edge1\" class=\"edge\">\n<title>0&#45;&gt;1</title>\n<path fill=\"none\" stroke=\"#000000\" d=\"M168.9681,-222.8796C163.609,-214.1434 157.9021,-204.8404 152.3718,-195.8253\"/>\n<polygon fill=\"#000000\" stroke=\"#000000\" points=\"155.3533,-193.9919 147.1408,-187.2981 149.3865,-197.6522 155.3533,-193.9919\"/>\n<text text-anchor=\"middle\" x=\"141.3161\" y=\"-207.9101\" font-family=\"Helvetica,sans-Serif\" font-size=\"14.00\" fill=\"#000000\">True</text>\n</g>\n<!-- 4 -->\n<g id=\"node5\" class=\"node\">\n<title>4</title>\n<path fill=\"#e58139\" stroke=\"#000000\" d=\"M313,-179.5C313,-179.5 224,-179.5 224,-179.5 218,-179.5 212,-173.5 212,-167.5 212,-167.5 212,-123.5 212,-123.5 212,-117.5 218,-111.5 224,-111.5 224,-111.5 313,-111.5 313,-111.5 319,-111.5 325,-117.5 325,-123.5 325,-123.5 325,-167.5 325,-167.5 325,-173.5 319,-179.5 313,-179.5\"/>\n<text text-anchor=\"start\" x=\"239\" y=\"-164.3\" font-family=\"Helvetica,sans-Serif\" font-size=\"14.00\" fill=\"#000000\">gini = 0.0</text>\n<text text-anchor=\"start\" x=\"224.5\" y=\"-149.3\" font-family=\"Helvetica,sans-Serif\" font-size=\"14.00\" fill=\"#000000\">samples = 25</text>\n<text text-anchor=\"start\" x=\"223\" y=\"-134.3\" font-family=\"Helvetica,sans-Serif\" font-size=\"14.00\" fill=\"#000000\">value = [25, 0]</text>\n<text text-anchor=\"start\" x=\"220\" y=\"-119.3\" font-family=\"Helvetica,sans-Serif\" font-size=\"14.00\" fill=\"#000000\">class = DLBCL</text>\n</g>\n<!-- 0&#45;&gt;4 -->\n<g id=\"edge4\" class=\"edge\">\n<title>0&#45;&gt;4</title>\n<path fill=\"none\" stroke=\"#000000\" d=\"M220.3816,-222.8796C227.2879,-211.7735 234.7639,-199.7513 241.7175,-188.5691\"/>\n<polygon fill=\"#000000\" stroke=\"#000000\" points=\"244.8527,-190.1552 247.1613,-179.8149 238.9083,-186.4587 244.8527,-190.1552\"/>\n<text text-anchor=\"middle\" x=\"252.8381\" y=\"-200.4619\" font-family=\"Helvetica,sans-Serif\" font-size=\"14.00\" fill=\"#000000\">False</text>\n</g>\n<!-- 2 -->\n<g id=\"node3\" class=\"node\">\n<title>2</title>\n<path fill=\"#e88e4d\" stroke=\"#000000\" d=\"M101,-68C101,-68 12,-68 12,-68 6,-68 0,-62 0,-56 0,-56 0,-12 0,-12 0,-6 6,0 12,0 12,0 101,0 101,0 107,0 113,-6 113,-12 113,-12 113,-56 113,-56 113,-62 107,-68 101,-68\"/>\n<text text-anchor=\"start\" x=\"18.5\" y=\"-52.8\" font-family=\"Helvetica,sans-Serif\" font-size=\"14.00\" fill=\"#000000\">gini = 0.165</text>\n<text text-anchor=\"start\" x=\"12.5\" y=\"-37.8\" font-family=\"Helvetica,sans-Serif\" font-size=\"14.00\" fill=\"#000000\">samples = 11</text>\n<text text-anchor=\"start\" x=\"11\" y=\"-22.8\" font-family=\"Helvetica,sans-Serif\" font-size=\"14.00\" fill=\"#000000\">value = [10, 1]</text>\n<text text-anchor=\"start\" x=\"8\" y=\"-7.8\" font-family=\"Helvetica,sans-Serif\" font-size=\"14.00\" fill=\"#000000\">class = DLBCL</text>\n</g>\n<!-- 1&#45;&gt;2 -->\n<g id=\"edge2\" class=\"edge\">\n<title>1&#45;&gt;2</title>\n<path fill=\"none\" stroke=\"#000000\" d=\"M97.2964,-103.9815C92.1529,-95.1585 86.7123,-85.8258 81.5384,-76.9506\"/>\n<polygon fill=\"#000000\" stroke=\"#000000\" points=\"84.5344,-75.1402 76.4743,-68.2637 78.487,-78.6656 84.5344,-75.1402\"/>\n</g>\n<!-- 3 -->\n<g id=\"node4\" class=\"node\">\n<title>3</title>\n<path fill=\"#4fa8e8\" stroke=\"#000000\" d=\"M232,-68C232,-68 143,-68 143,-68 137,-68 131,-62 131,-56 131,-56 131,-12 131,-12 131,-6 137,0 143,0 143,0 232,0 232,0 238,0 244,-6 244,-12 244,-12 244,-56 244,-56 244,-62 238,-68 232,-68\"/>\n<text text-anchor=\"start\" x=\"154\" y=\"-52.8\" font-family=\"Helvetica,sans-Serif\" font-size=\"14.00\" fill=\"#000000\">gini = 0.18</text>\n<text text-anchor=\"start\" x=\"143.5\" y=\"-37.8\" font-family=\"Helvetica,sans-Serif\" font-size=\"14.00\" fill=\"#000000\">samples = 10</text>\n<text text-anchor=\"start\" x=\"146\" y=\"-22.8\" font-family=\"Helvetica,sans-Serif\" font-size=\"14.00\" fill=\"#000000\">value = [1, 9]</text>\n<text text-anchor=\"start\" x=\"139\" y=\"-7.8\" font-family=\"Helvetica,sans-Serif\" font-size=\"14.00\" fill=\"#000000\">class = DLBCL</text>\n</g>\n<!-- 1&#45;&gt;3 -->\n<g id=\"edge3\" class=\"edge\">\n<title>1&#45;&gt;3</title>\n<path fill=\"none\" stroke=\"#000000\" d=\"M146.076,-103.9815C151.2986,-95.1585 156.8229,-85.8258 162.0763,-76.9506\"/>\n<polygon fill=\"#000000\" stroke=\"#000000\" points=\"165.1364,-78.652 167.2184,-68.2637 159.1126,-75.0863 165.1364,-78.652\"/>\n</g>\n</g>\n</svg>\n",
            "text/plain": [
              "<graphviz.files.Source at 0x7f6a22a77550>"
            ]
          },
          "execution_count": 199,
          "metadata": {},
          "output_type": "execute_result"
        }
      ],
      "source": [
        "\n",
        "dot_data = tree.export_graphviz(clf_gini, out_file=None, \n",
        "                              feature_names=X_train.columns,  \n",
        "                              class_names=y_train,  \n",
        "                              filled=True, rounded=True,  \n",
        "                              special_characters=True)\n",
        "\n",
        "graph = graphviz.Source(dot_data) \n",
        "\n",
        "graph "
      ]
    },
    {
      "cell_type": "code",
      "execution_count": 200,
      "metadata": {
        "id": "JhZx6MVAHB6A"
      },
      "outputs": [],
      "source": [
        "y_pred_gini = clf_gini.predict(X_test)"
      ]
    },
    {
      "cell_type": "code",
      "execution_count": 201,
      "metadata": {
        "colab": {
          "base_uri": "https://localhost:8080/"
        },
        "id": "DZYC3ZbwHJr9",
        "outputId": "76b63903-846c-4a1c-f994-68027e207696"
      },
      "outputs": [
        {
          "data": {
            "text/plain": [
              "0.8387096774193549"
            ]
          },
          "execution_count": 201,
          "metadata": {},
          "output_type": "execute_result"
        }
      ],
      "source": [
        "acc_score = accuracy_score(y_test, y_pred_gini)\n",
        "acc_score"
      ]
    },
    {
      "cell_type": "code",
      "execution_count": 202,
      "metadata": {
        "colab": {
          "base_uri": "https://localhost:8080/"
        },
        "id": "0lf6GPndH9mC",
        "outputId": "5025d8d8-46e9-47ab-9962-3205a467a4e1"
      },
      "outputs": [
        {
          "name": "stdout",
          "output_type": "stream",
          "text": [
            "Training set score: 0.9565\n",
            "Test set score: 0.8387\n"
          ]
        }
      ],
      "source": [
        "print(f'Training set score: {clf_gini.score(X_train, y_train):.4f}')\n",
        "\n",
        "print(f'Test set score: {clf_gini.score(X_test, y_test):.4f}')"
      ]
    },
    {
      "cell_type": "code",
      "execution_count": 203,
      "metadata": {
        "colab": {
          "base_uri": "https://localhost:8080/"
        },
        "id": "N5jefhUOIWlN",
        "outputId": "f563ca48-67f1-4bd7-8d38-1af46c90d602"
      },
      "outputs": [
        {
          "data": {
            "text/plain": [
              "array([[21,  1],\n",
              "       [ 4,  5]])"
            ]
          },
          "execution_count": 203,
          "metadata": {},
          "output_type": "execute_result"
        }
      ],
      "source": [
        "confusion_matrix(y_test, y_pred_gini)"
      ]
    },
    {
      "cell_type": "markdown",
      "metadata": {
        "id": "VpV6ijg_Q1Yz"
      },
      "source": [
        "## Decision Tree Classifier with Entropy"
      ]
    },
    {
      "cell_type": "code",
      "execution_count": 204,
      "metadata": {
        "colab": {
          "base_uri": "https://localhost:8080/"
        },
        "id": "Nek8EZQjNY_s",
        "outputId": "9ce362ad-4cf0-43dd-bf90-a01abf04e0bd"
      },
      "outputs": [
        {
          "data": {
            "text/plain": [
              "DecisionTreeClassifier(criterion='entropy', max_depth=5, min_samples_leaf=6,\n",
              "                       random_state=10)"
            ]
          },
          "execution_count": 204,
          "metadata": {},
          "output_type": "execute_result"
        }
      ],
      "source": [
        "clf_en = DecisionTreeClassifier(criterion='entropy',\n",
        "                                max_depth=5,\n",
        "                                random_state=10,\n",
        "                                min_samples_leaf=6)\n",
        "\n",
        "\n",
        "# fit the model\n",
        "clf_en.fit(X_train, y_train)"
      ]
    },
    {
      "cell_type": "code",
      "execution_count": 205,
      "metadata": {
        "colab": {
          "base_uri": "https://localhost:8080/",
          "height": 440
        },
        "id": "iVdPq-beOtQM",
        "outputId": "e4a6e3a7-083c-42e8-9fa1-fba1e3793cda"
      },
      "outputs": [
        {
          "data": {
            "image/svg+xml": "<?xml version=\"1.0\" encoding=\"UTF-8\" standalone=\"no\"?>\n<!DOCTYPE svg PUBLIC \"-//W3C//DTD SVG 1.1//EN\"\n \"http://www.w3.org/Graphics/SVG/1.1/DTD/svg11.dtd\">\n<!-- Generated by graphviz version 2.40.1 (20161225.0304)\n -->\n<!-- Title: Tree Pages: 1 -->\n<svg width=\"339pt\" height=\"314pt\"\n viewBox=\"0.00 0.00 338.50 314.00\" xmlns=\"http://www.w3.org/2000/svg\" xmlns:xlink=\"http://www.w3.org/1999/xlink\">\n<g id=\"graph0\" class=\"graph\" transform=\"scale(1 1) rotate(0) translate(4 310)\">\n<title>Tree</title>\n<polygon fill=\"#ffffff\" stroke=\"transparent\" points=\"-4,4 -4,-310 334.5,-310 334.5,4 -4,4\"/>\n<!-- 0 -->\n<g id=\"node1\" class=\"node\">\n<title>0</title>\n<path fill=\"#eca470\" stroke=\"#000000\" d=\"M256.5,-306C256.5,-306 143.5,-306 143.5,-306 137.5,-306 131.5,-300 131.5,-294 131.5,-294 131.5,-235 131.5,-235 131.5,-229 137.5,-223 143.5,-223 143.5,-223 256.5,-223 256.5,-223 262.5,-223 268.5,-229 268.5,-235 268.5,-235 268.5,-294 268.5,-294 268.5,-300 262.5,-306 256.5,-306\"/>\n<text text-anchor=\"start\" x=\"139.5\" y=\"-290.8\" font-family=\"Helvetica,sans-Serif\" font-size=\"14.00\" fill=\"#000000\">U28386_at ≤ &#45;0.41</text>\n<text text-anchor=\"start\" x=\"149\" y=\"-275.8\" font-family=\"Helvetica,sans-Serif\" font-size=\"14.00\" fill=\"#000000\">entropy = 0.755</text>\n<text text-anchor=\"start\" x=\"156\" y=\"-260.8\" font-family=\"Helvetica,sans-Serif\" font-size=\"14.00\" fill=\"#000000\">samples = 46</text>\n<text text-anchor=\"start\" x=\"150\" y=\"-245.8\" font-family=\"Helvetica,sans-Serif\" font-size=\"14.00\" fill=\"#000000\">value = [36, 10]</text>\n<text text-anchor=\"start\" x=\"151.5\" y=\"-230.8\" font-family=\"Helvetica,sans-Serif\" font-size=\"14.00\" fill=\"#000000\">class = DLBCL</text>\n</g>\n<!-- 1 -->\n<g id=\"node2\" class=\"node\">\n<title>1</title>\n<path fill=\"#fdf4ed\" stroke=\"#000000\" d=\"M187.5,-187C187.5,-187 66.5,-187 66.5,-187 60.5,-187 54.5,-181 54.5,-175 54.5,-175 54.5,-116 54.5,-116 54.5,-110 60.5,-104 66.5,-104 66.5,-104 187.5,-104 187.5,-104 193.5,-104 199.5,-110 199.5,-116 199.5,-116 199.5,-175 199.5,-175 199.5,-181 193.5,-187 187.5,-187\"/>\n<text text-anchor=\"start\" x=\"62.5\" y=\"-171.8\" font-family=\"Helvetica,sans-Serif\" font-size=\"14.00\" fill=\"#000000\">D86550_at ≤ &#45;0.619</text>\n<text text-anchor=\"start\" x=\"76\" y=\"-156.8\" font-family=\"Helvetica,sans-Serif\" font-size=\"14.00\" fill=\"#000000\">entropy = 0.998</text>\n<text text-anchor=\"start\" x=\"83\" y=\"-141.8\" font-family=\"Helvetica,sans-Serif\" font-size=\"14.00\" fill=\"#000000\">samples = 21</text>\n<text text-anchor=\"start\" x=\"77\" y=\"-126.8\" font-family=\"Helvetica,sans-Serif\" font-size=\"14.00\" fill=\"#000000\">value = [11, 10]</text>\n<text text-anchor=\"start\" x=\"78.5\" y=\"-111.8\" font-family=\"Helvetica,sans-Serif\" font-size=\"14.00\" fill=\"#000000\">class = DLBCL</text>\n</g>\n<!-- 0&#45;&gt;1 -->\n<g id=\"edge1\" class=\"edge\">\n<title>0&#45;&gt;1</title>\n<path fill=\"none\" stroke=\"#000000\" d=\"M174.4681,-222.8796C169.109,-214.1434 163.4021,-204.8404 157.8718,-195.8253\"/>\n<polygon fill=\"#000000\" stroke=\"#000000\" points=\"160.8533,-193.9919 152.6408,-187.2981 154.8865,-197.6522 160.8533,-193.9919\"/>\n<text text-anchor=\"middle\" x=\"146.8161\" y=\"-207.9101\" font-family=\"Helvetica,sans-Serif\" font-size=\"14.00\" fill=\"#000000\">True</text>\n</g>\n<!-- 4 -->\n<g id=\"node5\" class=\"node\">\n<title>4</title>\n<path fill=\"#e58139\" stroke=\"#000000\" d=\"M318.5,-179.5C318.5,-179.5 229.5,-179.5 229.5,-179.5 223.5,-179.5 217.5,-173.5 217.5,-167.5 217.5,-167.5 217.5,-123.5 217.5,-123.5 217.5,-117.5 223.5,-111.5 229.5,-111.5 229.5,-111.5 318.5,-111.5 318.5,-111.5 324.5,-111.5 330.5,-117.5 330.5,-123.5 330.5,-123.5 330.5,-167.5 330.5,-167.5 330.5,-173.5 324.5,-179.5 318.5,-179.5\"/>\n<text text-anchor=\"start\" x=\"231.5\" y=\"-164.3\" font-family=\"Helvetica,sans-Serif\" font-size=\"14.00\" fill=\"#000000\">entropy = 0.0</text>\n<text text-anchor=\"start\" x=\"230\" y=\"-149.3\" font-family=\"Helvetica,sans-Serif\" font-size=\"14.00\" fill=\"#000000\">samples = 25</text>\n<text text-anchor=\"start\" x=\"228.5\" y=\"-134.3\" font-family=\"Helvetica,sans-Serif\" font-size=\"14.00\" fill=\"#000000\">value = [25, 0]</text>\n<text text-anchor=\"start\" x=\"225.5\" y=\"-119.3\" font-family=\"Helvetica,sans-Serif\" font-size=\"14.00\" fill=\"#000000\">class = DLBCL</text>\n</g>\n<!-- 0&#45;&gt;4 -->\n<g id=\"edge4\" class=\"edge\">\n<title>0&#45;&gt;4</title>\n<path fill=\"none\" stroke=\"#000000\" d=\"M225.8816,-222.8796C232.7879,-211.7735 240.2639,-199.7513 247.2175,-188.5691\"/>\n<polygon fill=\"#000000\" stroke=\"#000000\" points=\"250.3527,-190.1552 252.6613,-179.8149 244.4083,-186.4587 250.3527,-190.1552\"/>\n<text text-anchor=\"middle\" x=\"258.3381\" y=\"-200.4619\" font-family=\"Helvetica,sans-Serif\" font-size=\"14.00\" fill=\"#000000\">False</text>\n</g>\n<!-- 2 -->\n<g id=\"node3\" class=\"node\">\n<title>2</title>\n<path fill=\"#e88e4d\" stroke=\"#000000\" d=\"M106,-68C106,-68 12,-68 12,-68 6,-68 0,-62 0,-56 0,-56 0,-12 0,-12 0,-6 6,0 12,0 12,0 106,0 106,0 112,0 118,-6 118,-12 118,-12 118,-56 118,-56 118,-62 112,-68 106,-68\"/>\n<text text-anchor=\"start\" x=\"8\" y=\"-52.8\" font-family=\"Helvetica,sans-Serif\" font-size=\"14.00\" fill=\"#000000\">entropy = 0.439</text>\n<text text-anchor=\"start\" x=\"15\" y=\"-37.8\" font-family=\"Helvetica,sans-Serif\" font-size=\"14.00\" fill=\"#000000\">samples = 11</text>\n<text text-anchor=\"start\" x=\"13.5\" y=\"-22.8\" font-family=\"Helvetica,sans-Serif\" font-size=\"14.00\" fill=\"#000000\">value = [10, 1]</text>\n<text text-anchor=\"start\" x=\"10.5\" y=\"-7.8\" font-family=\"Helvetica,sans-Serif\" font-size=\"14.00\" fill=\"#000000\">class = DLBCL</text>\n</g>\n<!-- 1&#45;&gt;2 -->\n<g id=\"edge2\" class=\"edge\">\n<title>1&#45;&gt;2</title>\n<path fill=\"none\" stroke=\"#000000\" d=\"M101.6793,-103.9815C96.2984,-95.1585 90.6068,-85.8258 85.1941,-76.9506\"/>\n<polygon fill=\"#000000\" stroke=\"#000000\" points=\"88.0912,-74.9789 79.8962,-68.2637 82.1149,-78.6236 88.0912,-74.9789\"/>\n</g>\n<!-- 3 -->\n<g id=\"node4\" class=\"node\">\n<title>3</title>\n<path fill=\"#4fa8e8\" stroke=\"#000000\" d=\"M242,-68C242,-68 148,-68 148,-68 142,-68 136,-62 136,-56 136,-56 136,-12 136,-12 136,-6 142,0 148,0 148,0 242,0 242,0 248,0 254,-6 254,-12 254,-12 254,-56 254,-56 254,-62 248,-68 242,-68\"/>\n<text text-anchor=\"start\" x=\"144\" y=\"-52.8\" font-family=\"Helvetica,sans-Serif\" font-size=\"14.00\" fill=\"#000000\">entropy = 0.469</text>\n<text text-anchor=\"start\" x=\"151\" y=\"-37.8\" font-family=\"Helvetica,sans-Serif\" font-size=\"14.00\" fill=\"#000000\">samples = 10</text>\n<text text-anchor=\"start\" x=\"153.5\" y=\"-22.8\" font-family=\"Helvetica,sans-Serif\" font-size=\"14.00\" fill=\"#000000\">value = [1, 9]</text>\n<text text-anchor=\"start\" x=\"146.5\" y=\"-7.8\" font-family=\"Helvetica,sans-Serif\" font-size=\"14.00\" fill=\"#000000\">class = DLBCL</text>\n</g>\n<!-- 1&#45;&gt;3 -->\n<g id=\"edge3\" class=\"edge\">\n<title>1&#45;&gt;3</title>\n<path fill=\"none\" stroke=\"#000000\" d=\"M152.3207,-103.9815C157.7016,-95.1585 163.3932,-85.8258 168.8059,-76.9506\"/>\n<polygon fill=\"#000000\" stroke=\"#000000\" points=\"171.8851,-78.6236 174.1038,-68.2637 165.9088,-74.9789 171.8851,-78.6236\"/>\n</g>\n</g>\n</svg>\n",
            "text/plain": [
              "<graphviz.files.Source at 0x7f6a22a891d0>"
            ]
          },
          "execution_count": 205,
          "metadata": {},
          "output_type": "execute_result"
        }
      ],
      "source": [
        "dot_data = tree.export_graphviz(clf_en, out_file=None, \n",
        "                              feature_names=X_train.columns,  \n",
        "                              class_names=y_train,  \n",
        "                              filled=True, rounded=True,  \n",
        "                              special_characters=True)\n",
        "\n",
        "graph = graphviz.Source(dot_data) \n",
        "\n",
        "graph "
      ]
    },
    {
      "cell_type": "code",
      "execution_count": 206,
      "metadata": {
        "id": "ya5nH6LoOVmv"
      },
      "outputs": [],
      "source": [
        "y_pred_en = clf_en.predict(X_test)"
      ]
    },
    {
      "cell_type": "code",
      "execution_count": 207,
      "metadata": {
        "colab": {
          "base_uri": "https://localhost:8080/"
        },
        "id": "jFdoHyQNOXmg",
        "outputId": "14dcce38-5088-491d-9b7c-bde41ffb3d7e"
      },
      "outputs": [
        {
          "data": {
            "text/plain": [
              "0.8387096774193549"
            ]
          },
          "execution_count": 207,
          "metadata": {},
          "output_type": "execute_result"
        }
      ],
      "source": [
        "acc_score = accuracy_score(y_test, y_pred_en)\n",
        "acc_score"
      ]
    },
    {
      "cell_type": "code",
      "execution_count": 208,
      "metadata": {
        "colab": {
          "base_uri": "https://localhost:8080/"
        },
        "id": "aa6ATHQFOdWW",
        "outputId": "4e7bf1a5-6d1a-4a4d-a42f-797aad7301b9"
      },
      "outputs": [
        {
          "name": "stdout",
          "output_type": "stream",
          "text": [
            "Training set score: 0.9565\n",
            "Test set score: 0.8387\n"
          ]
        }
      ],
      "source": [
        "print(f'Training set score: {clf_en.score(X_train, y_train):.4f}')\n",
        "\n",
        "print(f'Test set score: {clf_en.score(X_test, y_test):.4f}')"
      ]
    },
    {
      "cell_type": "code",
      "execution_count": 209,
      "metadata": {
        "colab": {
          "base_uri": "https://localhost:8080/"
        },
        "id": "qHGf8jLfPgNK",
        "outputId": "8cb35849-3821-4f6a-edc1-184290d259dd"
      },
      "outputs": [
        {
          "data": {
            "text/plain": [
              "array([[21,  1],\n",
              "       [ 4,  5]])"
            ]
          },
          "execution_count": 209,
          "metadata": {},
          "output_type": "execute_result"
        }
      ],
      "source": [
        "confusion_matrix(y_test, y_pred_en)"
      ]
    },
    {
      "cell_type": "markdown",
      "metadata": {
        "id": "VDqcObNkR-Id"
      },
      "source": [
        "# SVM"
      ]
    },
    {
      "cell_type": "code",
      "execution_count": 210,
      "metadata": {
        "id": "MOLhyZhrPhP-"
      },
      "outputs": [],
      "source": [
        "df = pd.read_csv(dataset_url)\n",
        "df.head()\n",
        "\n",
        "\n",
        "X = df.drop(['class'], axis=1)\n",
        "\n",
        "y = df['class']"
      ]
    },
    {
      "cell_type": "code",
      "execution_count": 211,
      "metadata": {
        "id": "krF-eLUxSNT1"
      },
      "outputs": [],
      "source": [
        "X_train, X_test, y_train, y_test = train_test_split(X, y, test_size = 0.4, random_state = 10)"
      ]
    },
    {
      "cell_type": "code",
      "execution_count": 212,
      "metadata": {
        "id": "8gMNV-VPTV_D"
      },
      "outputs": [],
      "source": [
        "# import SVC classifier\n",
        "from sklearn.svm import SVC\n",
        "\n",
        "linear_svc=SVC(kernel='linear', C=1) \n",
        "\n",
        "linear_svc.fit(X_train,y_train)\n",
        "\n",
        "y_pred_svm = linear_svc.predict(X_test)\n",
        " "
      ]
    },
    {
      "cell_type": "code",
      "execution_count": 213,
      "metadata": {
        "colab": {
          "base_uri": "https://localhost:8080/"
        },
        "id": "ONcH5_TkTr_5",
        "outputId": "c92ab192-5a59-49b9-d200-4c35876bc9d2"
      },
      "outputs": [
        {
          "data": {
            "text/plain": [
              "0.8709677419354839"
            ]
          },
          "execution_count": 213,
          "metadata": {},
          "output_type": "execute_result"
        }
      ],
      "source": [
        "accuracy_score(y_test, y_pred_svm)"
      ]
    },
    {
      "cell_type": "code",
      "execution_count": 214,
      "metadata": {
        "colab": {
          "base_uri": "https://localhost:8080/"
        },
        "id": "ahJz1AbSTxjV",
        "outputId": "d4a55f34-cff1-4929-8e71-8057dc63da7a"
      },
      "outputs": [
        {
          "name": "stdout",
          "output_type": "stream",
          "text": [
            "Training set score: 1.0000\n",
            "Test set score: 0.8710\n"
          ]
        }
      ],
      "source": [
        "# check overfitting\n",
        "\n",
        "print(f'Training set score: {linear_svc.score(X_train, y_train):.4f}')\n",
        "\n",
        "print(f'Test set score: {linear_svc.score(X_test, y_test):.4f}')"
      ]
    },
    {
      "cell_type": "code",
      "execution_count": 215,
      "metadata": {
        "colab": {
          "base_uri": "https://localhost:8080/"
        },
        "id": "U2o95uUHT8u1",
        "outputId": "ece2e562-7f2c-4882-877e-f39bdd6a50de"
      },
      "outputs": [
        {
          "data": {
            "text/plain": [
              "array([[20,  3],\n",
              "       [ 1,  7]])"
            ]
          },
          "execution_count": 215,
          "metadata": {},
          "output_type": "execute_result"
        }
      ],
      "source": [
        "confusion_matrix(y_test, y_pred_svm)"
      ]
    },
    {
      "cell_type": "code",
      "execution_count": 215,
      "metadata": {
        "id": "HC-DHLKjUVSx"
      },
      "outputs": [],
      "source": []
    }
  ],
  "metadata": {
    "colab": {
      "name": "AssignmentSVM_Decision_Tree.ipynb",
      "provenance": []
    },
    "kernelspec": {
      "display_name": "Python 3.10.4 64-bit",
      "language": "python",
      "name": "python3"
    },
    "language_info": {
      "name": "python",
      "version": "3.10.4"
    },
    "vscode": {
      "interpreter": {
        "hash": "8cd2d8d0f717c285aebeea7a022921ec2e4a5c93fafb569ea2c63ee6e5a722b1"
      }
    }
  },
  "nbformat": 4,
  "nbformat_minor": 0
}
