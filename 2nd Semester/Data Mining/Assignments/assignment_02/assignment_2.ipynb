{
  "cells": [
    {
      "cell_type": "markdown",
      "metadata": {
        "id": "Rc4wiGaNTYGW"
      },
      "source": [
        "<center><h1>Assignment 2</h1></center>\n",
        "<center><h2>Subhranil Sarkar</h2></center>\n",
        "\n"
      ]
    },
    {
      "cell_type": "markdown",
      "metadata": {
        "id": "t7BlR9sqTfa4"
      },
      "source": [
        "<h2>1. Print your name using <code>for()</code> loop.</h2>\n",
        "<ul>\n",
        "  <li><h3>Print your name 10 times<h3></li>\n",
        "</ul>\n"
      ]
    },
    {
      "cell_type": "code",
      "execution_count": null,
      "metadata": {
        "colab": {
          "base_uri": "https://localhost:8080/"
        },
        "id": "9Hqvui-LSsOA",
        "outputId": "7f4255ef-4ce3-4e4b-aa25-956d704bb83c"
      },
      "outputs": [
        {
          "name": "stdout",
          "output_type": "stream",
          "text": [
            "Subhranil Sarkar\n",
            "\n",
            "Subhranil Sarkar\n",
            "Subhranil Sarkar\n",
            "Subhranil Sarkar\n",
            "Subhranil Sarkar\n",
            "Subhranil Sarkar\n",
            "Subhranil Sarkar\n",
            "Subhranil Sarkar\n",
            "Subhranil Sarkar\n",
            "Subhranil Sarkar\n",
            "Subhranil Sarkar\n",
            "\n"
          ]
        }
      ],
      "source": [
        "my_name: str = \"Subhranil Sarkar\"\n",
        "\n",
        "for letter in my_name:\n",
        "  print(letter, end=\"\")\n",
        "\n",
        "print(\"\\n\")\n",
        "\n",
        "# print your name 10 times\n",
        "print((my_name + \"\\n\") * 10)  # repetition"
      ]
    },
    {
      "cell_type": "markdown",
      "metadata": {
        "id": "m39BOe57UBbc"
      },
      "source": [
        "<h2>2. Trip decider: </h2>\n",
        "<h3>If your salary:</h3>\n",
        "<ul>\n",
        "  <li> >= 40000₹ then <strong>GOA</strong></li>\n",
        "  <li> >= 30000₹ then <strong>SIKKIM</strong></li>\n",
        "  <li> >= 20000₹ then <strong>DARJEELING</strong></li>\n",
        "  <li> >= 10000₹ then <strong>DIGHA</strong></li>\n",
        "  <li> < 5000₹ then <strong>MODI WANTS TO KNOW YOUR LOCATION</strong>🥱</li>\n",
        "</ul>"
      ]
    },
    {
      "cell_type": "code",
      "execution_count": null,
      "metadata": {
        "colab": {
          "base_uri": "https://localhost:8080/"
        },
        "id": "pybVf7RWT6U5",
        "outputId": "303fb134-eebc-4b19-ed38-dc6e6eb96419"
      },
      "outputs": [
        {
          "name": "stdout",
          "output_type": "stream",
          "text": [
            "Enter your monthly salary: 35000\n",
            "SIKKIM\n"
          ]
        }
      ],
      "source": [
        "def trip_decider(salary: float) -> str:\n",
        "  \"\"\"Trip deciding function according to the user salary\"\"\"\n",
        "\n",
        "  # stores the destination string\n",
        "  destination: str = \"\"\n",
        "\n",
        "  if salary >= 4e4:\n",
        "    destination = \"GOA\"\n",
        "  elif salary >= 3e4:\n",
        "    destination = \"SIKKIM\"\n",
        "  elif salary >= 2e4:\n",
        "    destination = \"DARJEELING\"\n",
        "  elif salary >= 1e4:\n",
        "    destination = \"DIGHA\"\n",
        "  elif salary < 5e3:\n",
        "    destination = \"MODI WANTS TO KNOW YOUR LOCATION\"\n",
        "  else:\n",
        "    destination = \"Sorry invalid input!!!\"\n",
        "  \n",
        "  return destination\n",
        "\n",
        "\n",
        "if __name__ == \"__main__\":\n",
        "  sal: float = float(input(\"Enter your monthly salary: \"))\n",
        "  des: str = trip_decider(sal)\n",
        "  print(des)"
      ]
    }
  ],
  "metadata": {
    "accelerator": "GPU",
    "colab": {
      "collapsed_sections": [],
      "name": "assignment_2.ipynb",
      "provenance": []
    },
    "kernelspec": {
      "display_name": "Python 3.10.4 64-bit",
      "language": "python",
      "name": "python3"
    },
    "language_info": {
      "name": "python",
      "version": "3.10.4"
    },
    "vscode": {
      "interpreter": {
        "hash": "8cd2d8d0f717c285aebeea7a022921ec2e4a5c93fafb569ea2c63ee6e5a722b1"
      }
    }
  },
  "nbformat": 4,
  "nbformat_minor": 0
}
