{
  "cells": [
    {
      "cell_type": "markdown",
      "metadata": {
        "id": "n1KRSl5POXkA"
      },
      "source": [
        "<center><h1><strong>Subhranil Sarkar</strong></h1></center>\n",
        "<center><h3>M.Sc. Data Science | 2nd Semester</h3></center>\n",
        "<center><h3>University of Kalyani</h3></center>\n",
        "<center><h3>Roll: 96/DTS No.: 210018</h3></center>"
      ]
    },
    {
      "cell_type": "markdown",
      "metadata": {
        "id": "SPSP3tosJYis"
      },
      "source": [
        "<h1>1. Print the sentence <code>\"Hello, World!\"</code></h1>"
      ]
    },
    {
      "cell_type": "code",
      "execution_count": null,
      "metadata": {
        "colab": {
          "base_uri": "https://localhost:8080/"
        },
        "id": "__Ed4a4SJNXr",
        "outputId": "3da865c2-00be-4495-c61f-416322e48d2b"
      },
      "outputs": [
        {
          "name": "stdout",
          "output_type": "stream",
          "text": [
            "Hello, World\n"
          ]
        }
      ],
      "source": [
        "print(\"Hello, World\")"
      ]
    },
    {
      "cell_type": "markdown",
      "metadata": {
        "id": "uTBWNxqLJ53x"
      },
      "source": [
        "<h1>2. Addition of two numbers.</h1>"
      ]
    },
    {
      "cell_type": "code",
      "execution_count": null,
      "metadata": {
        "colab": {
          "base_uri": "https://localhost:8080/"
        },
        "id": "dBy1OYJiJtaK",
        "outputId": "6bb3e499-50ee-4f6d-a506-0e8a2cd0ea44"
      },
      "outputs": [
        {
          "name": "stdout",
          "output_type": "stream",
          "text": [
            "56 + 45 = 101\n"
          ]
        }
      ],
      "source": [
        "# two variables to store the two integer values\n",
        "number_1: int = 56\n",
        "number_2: int = 45\n",
        "\n",
        "# Summation of two numbers\n",
        "result: int = number_1 + number_2 \n",
        "\n",
        "# printing the output\n",
        "print(f\"{number_1} + {number_2} = {result}\")"
      ]
    },
    {
      "cell_type": "markdown",
      "metadata": {
        "id": "mUpgyOLcKvZM"
      },
      "source": [
        "<h1>3. Swapping two variables.</h1>"
      ]
    },
    {
      "cell_type": "code",
      "execution_count": null,
      "metadata": {
        "colab": {
          "base_uri": "https://localhost:8080/"
        },
        "id": "-Mfl6Hj4KbWL",
        "outputId": "8dbacb57-bdea-423c-a047-5cbfba0f621b"
      },
      "outputs": [
        {
          "name": "stdout",
          "output_type": "stream",
          "text": [
            "First number is: 52.333\tSecond number is: 85.641\n",
            "After swapping\n",
            "First number is: 85.641\tSecond number is: 52.333\n"
          ]
        }
      ],
      "source": [
        "# first number \n",
        "number_1: float = 52.333\n",
        "\n",
        "# second number\n",
        "number_2: float = 85.641\n",
        "\n",
        "print(f\"First number is: {number_1}\\tSecond number is: {number_2}\")\n",
        "\n",
        "# Swapping\n",
        "\n",
        "# storing the value of first number into a temp variable\n",
        "temp: float = number_1 \n",
        "\n",
        "# first variable stores the second value\n",
        "number_1 = number_2\n",
        "\n",
        "# second variable store the first value from the temp variable\n",
        "number_2 = temp\n",
        "\n",
        "\n",
        "print(\"After swapping\")\n",
        "print(f\"First number is: {number_1}\\tSecond number is: {number_2}\")"
      ]
    },
    {
      "cell_type": "markdown",
      "metadata": {
        "id": "C23A7BqUL96N"
      },
      "source": [
        "<h1>4. Swapping two variables without using third variable.</h1>"
      ]
    },
    {
      "cell_type": "code",
      "execution_count": null,
      "metadata": {
        "colab": {
          "base_uri": "https://localhost:8080/"
        },
        "id": "wiiEhDyJLO09",
        "outputId": "80cd675e-7042-476f-a5eb-0619ba25beda"
      },
      "outputs": [
        {
          "name": "stdout",
          "output_type": "stream",
          "text": [
            "First number is: 52.333\tSecond number is: 85.641\n",
            "After swapping\n",
            "First number is: 85.641\tSecond number is: 52.333\n"
          ]
        }
      ],
      "source": [
        "# first number \n",
        "number_1: float = 52.333\n",
        "\n",
        "# second number\n",
        "number_2: float = 85.641\n",
        "\n",
        "print(f\"First number is: {number_1}\\tSecond number is: {number_2}\")\n",
        "\n",
        "# Swapping\n",
        "number_1 = number_1 + number_2\n",
        "number_2 = number_1 - number_2 \n",
        "number_1 = number_1 - number_2\n",
        "\n",
        "print(\"After swapping\")\n",
        "print(f\"First number is: {number_1:0.3f}\\tSecond number is: {number_2:0.3f}\")"
      ]
    },
    {
      "cell_type": "markdown",
      "metadata": {
        "id": "OeE64qKsNDCa"
      },
      "source": [
        "# Another Way..."
      ]
    },
    {
      "cell_type": "code",
      "execution_count": null,
      "metadata": {
        "colab": {
          "base_uri": "https://localhost:8080/"
        },
        "id": "o7VmhJ-0MkXM",
        "outputId": "afef26ea-54ec-48ab-a8e7-f88a9fd33fc7"
      },
      "outputs": [
        {
          "name": "stdout",
          "output_type": "stream",
          "text": [
            "First number is: 52.333\tSecond number is: 85.641\n",
            "After swapping\n",
            "First number is: 85.641\tSecond number is: 52.333\n"
          ]
        }
      ],
      "source": [
        "# first number \n",
        "number_1: float = 52.333\n",
        "\n",
        "# second number\n",
        "number_2: float = 85.641\n",
        "\n",
        "print(f\"First number is: {number_1}\\tSecond number is: {number_2}\")\n",
        "\n",
        "# Swapping\n",
        "number_1, number_2 = number_2, number_1\n",
        "\n",
        "print(\"After swapping\")\n",
        "print(f\"First number is: {number_1}\\tSecond number is: {number_2}\")"
      ]
    },
    {
      "cell_type": "markdown",
      "metadata": {
        "id": "-CLlUaN4NRQ5"
      },
      "source": [
        "<h1>5. Take a number as an input, and check whether it is greater than 100 or not.</h1>"
      ]
    },
    {
      "cell_type": "code",
      "execution_count": null,
      "metadata": {
        "colab": {
          "base_uri": "https://localhost:8080/"
        },
        "id": "gi6DxpTBNKlJ",
        "outputId": "dd4b9daa-e2e4-42e0-942a-0b80e3ac1e7a"
      },
      "outputs": [
        {
          "name": "stdout",
          "output_type": "stream",
          "text": [
            "Enter an integer: 56\n",
            "56 is less than 100\n"
          ]
        }
      ],
      "source": [
        "# Take a number from input\n",
        "input_number: int = int(input(\"Enter an integer: \"))\n",
        "\n",
        "# print whether it is greater than 100 or not\n",
        "print(f\"{input_number} is greater than equal to 100\") if input_number >= 100 else print(f\"{input_number} is less than 100\")"
      ]
    }
  ],
  "metadata": {
    "colab": {
      "collapsed_sections": [],
      "name": "assignment_01.ipynb",
      "provenance": []
    },
    "kernelspec": {
      "display_name": "Python 3.10.4 64-bit",
      "language": "python",
      "name": "python3"
    },
    "language_info": {
      "name": "python",
      "version": "3.10.4"
    },
    "vscode": {
      "interpreter": {
        "hash": "8cd2d8d0f717c285aebeea7a022921ec2e4a5c93fafb569ea2c63ee6e5a722b1"
      }
    }
  },
  "nbformat": 4,
  "nbformat_minor": 0
}
