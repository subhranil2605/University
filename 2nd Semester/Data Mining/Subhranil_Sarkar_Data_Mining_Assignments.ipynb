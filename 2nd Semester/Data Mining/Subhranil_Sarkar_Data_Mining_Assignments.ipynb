{
 "cells": [
  {
   "cell_type": "markdown",
   "metadata": {},
   "source": [
    "<center><h1><strong>Subhranil Sarkar</strong></h1></center>\n",
    "<center><h3>M.Sc. Data Science | 2nd Semester</h3></center>\n",
    "<center><h3>University of Kalyani</h3></center>\n",
    "<center><h3>Roll: 96/DTS No.: 210018</h3></center>"
   ]
  },
  {
   "cell_type": "markdown",
   "metadata": {},
   "source": [
    "# Assignment 1"
   ]
  },
  {
   "cell_type": "markdown",
   "metadata": {},
   "source": [
    "<h2>1. Print the sentence <code>\"Hello, World!\"</code></h2>"
   ]
  },
  {
   "cell_type": "code",
   "execution_count": 1,
   "metadata": {
    "colab": {
     "base_uri": "https://localhost:8080/"
    },
    "id": "__Ed4a4SJNXr",
    "outputId": "3da865c2-00be-4495-c61f-416322e48d2b"
   },
   "outputs": [
    {
     "name": "stdout",
     "output_type": "stream",
     "text": [
      "Hello, World\n"
     ]
    }
   ],
   "source": [
    "print(\"Hello, World\")"
   ]
  },
  {
   "cell_type": "markdown",
   "metadata": {
    "id": "uTBWNxqLJ53x"
   },
   "source": [
    "<h2>2. Addition of two numbers.</h2>"
   ]
  },
  {
   "cell_type": "code",
   "execution_count": 2,
   "metadata": {
    "colab": {
     "base_uri": "https://localhost:8080/"
    },
    "id": "dBy1OYJiJtaK",
    "outputId": "6bb3e499-50ee-4f6d-a506-0e8a2cd0ea44"
   },
   "outputs": [
    {
     "name": "stdout",
     "output_type": "stream",
     "text": [
      "56 + 45 = 101\n"
     ]
    }
   ],
   "source": [
    "# two variables to store the two integer values\n",
    "number_1: int = 56\n",
    "number_2: int = 45\n",
    "\n",
    "# Summation of two numbers\n",
    "result: int = number_1 + number_2 \n",
    "\n",
    "# printing the output\n",
    "print(f\"{number_1} + {number_2} = {result}\")"
   ]
  },
  {
   "cell_type": "markdown",
   "metadata": {
    "id": "mUpgyOLcKvZM"
   },
   "source": [
    "<h2>3. Swapping two variables.</h2>"
   ]
  },
  {
   "cell_type": "code",
   "execution_count": 3,
   "metadata": {},
   "outputs": [
    {
     "name": "stdout",
     "output_type": "stream",
     "text": [
      "First number is: 52.333\tSecond number is: 85.641\n",
      "After swapping\n",
      "First number is: 85.641\tSecond number is: 52.333\n"
     ]
    }
   ],
   "source": [
    "# first number \n",
    "number_1: float = 52.333\n",
    "\n",
    "# second number\n",
    "number_2: float = 85.641\n",
    "\n",
    "print(f\"First number is: {number_1}\\tSecond number is: {number_2}\")\n",
    "\n",
    "# Swapping\n",
    "\n",
    "# storing the value of first number into a temp variable\n",
    "temp: float = number_1 \n",
    "\n",
    "# first variable stores the second value\n",
    "number_1 = number_2\n",
    "\n",
    "# second variable store the first value from the temp variable\n",
    "number_2 = temp\n",
    "\n",
    "\n",
    "print(\"After swapping\")\n",
    "print(f\"First number is: {number_1}\\tSecond number is: {number_2}\")"
   ]
  },
  {
   "cell_type": "markdown",
   "metadata": {},
   "source": [
    "<h2>4. Swapping two variables without using third variable.</h2>"
   ]
  },
  {
   "cell_type": "code",
   "execution_count": 4,
   "metadata": {},
   "outputs": [
    {
     "name": "stdout",
     "output_type": "stream",
     "text": [
      "First number is: 52.333\tSecond number is: 85.641\n",
      "After swapping\n",
      "First number is: 85.641\tSecond number is: 52.333\n"
     ]
    }
   ],
   "source": [
    "# first number \n",
    "number_1: float = 52.333\n",
    "\n",
    "# second number\n",
    "number_2: float = 85.641\n",
    "\n",
    "print(f\"First number is: {number_1}\\tSecond number is: {number_2}\")\n",
    "\n",
    "# Swapping\n",
    "number_1 = number_1 + number_2\n",
    "number_2 = number_1 - number_2 \n",
    "number_1 = number_1 - number_2\n",
    "\n",
    "print(\"After swapping\")\n",
    "print(f\"First number is: {number_1:0.3f}\\tSecond number is: {number_2:0.3f}\")"
   ]
  },
  {
   "cell_type": "markdown",
   "metadata": {},
   "source": [
    "## Another Way..."
   ]
  },
  {
   "cell_type": "code",
   "execution_count": 5,
   "metadata": {},
   "outputs": [
    {
     "name": "stdout",
     "output_type": "stream",
     "text": [
      "First number is: 52.333\tSecond number is: 85.641\n",
      "After swapping\n",
      "First number is: 85.641\tSecond number is: 52.333\n"
     ]
    }
   ],
   "source": [
    "# first number \n",
    "number_1: float = 52.333\n",
    "\n",
    "# second number\n",
    "number_2: float = 85.641\n",
    "\n",
    "print(f\"First number is: {number_1}\\tSecond number is: {number_2}\")\n",
    "\n",
    "# Swapping\n",
    "number_1, number_2 = number_2, number_1\n",
    "\n",
    "print(\"After swapping\")\n",
    "print(f\"First number is: {number_1}\\tSecond number is: {number_2}\")"
   ]
  },
  {
   "cell_type": "markdown",
   "metadata": {},
   "source": [
    "## 5. Take a number as an input, and check whether it is greater than 100 or not."
   ]
  },
  {
   "cell_type": "code",
   "execution_count": 6,
   "metadata": {},
   "outputs": [
    {
     "name": "stdout",
     "output_type": "stream",
     "text": [
      "45 is less than 100\n"
     ]
    }
   ],
   "source": [
    "# Take a number from input\n",
    "input_number: int = int(input(\"Enter an integer: \"))\n",
    "\n",
    "# print whether it is greater than 100 or not\n",
    "print(f\"{input_number} is greater than equal to 100\") if input_number >= 100 else print(f\"{input_number} is less than 100\")"
   ]
  },
  {
   "cell_type": "markdown",
   "metadata": {},
   "source": [
    "# Assignment 2"
   ]
  },
  {
   "cell_type": "markdown",
   "metadata": {
    "id": "t7BlR9sqTfa4"
   },
   "source": [
    "<h2>1. Print your name using <code>for()</code> loop.</h2>\n",
    "<ul>\n",
    "  <li><h3>Print your name 10 times<h3></li>\n",
    "</ul>\n"
   ]
  },
  {
   "cell_type": "code",
   "execution_count": 7,
   "metadata": {},
   "outputs": [
    {
     "name": "stdout",
     "output_type": "stream",
     "text": [
      "Subhranil Sarkar\n",
      "\n",
      "Subhranil Sarkar\n",
      "Subhranil Sarkar\n",
      "Subhranil Sarkar\n",
      "Subhranil Sarkar\n",
      "Subhranil Sarkar\n",
      "Subhranil Sarkar\n",
      "Subhranil Sarkar\n",
      "Subhranil Sarkar\n",
      "Subhranil Sarkar\n",
      "Subhranil Sarkar\n",
      "\n"
     ]
    }
   ],
   "source": [
    "my_name: str = \"Subhranil Sarkar\"\n",
    "\n",
    "for letter in my_name:\n",
    "  print(letter, end=\"\")\n",
    "\n",
    "print(\"\\n\")\n",
    "\n",
    "# print your name 10 times\n",
    "print((my_name + \"\\n\") * 10)  # repetition"
   ]
  },
  {
   "cell_type": "markdown",
   "metadata": {
    "id": "m39BOe57UBbc"
   },
   "source": [
    "<h2>2. Trip decider: </h2>\n",
    "<h3>If your salary:</h3>\n",
    "<ul>\n",
    "  <li> >= 40000₹ then <strong>GOA</strong></li>\n",
    "  <li> >= 30000₹ then <strong>SIKKIM</strong></li>\n",
    "  <li> >= 20000₹ then <strong>DARJEELING</strong></li>\n",
    "  <li> >= 10000₹ then <strong>DIGHA</strong></li>\n",
    "  <li> < 5000₹ then <strong>MODI WANTS TO KNOW YOUR LOCATION</strong>🥱</li>\n",
    "</ul>"
   ]
  },
  {
   "cell_type": "code",
   "execution_count": 8,
   "metadata": {},
   "outputs": [
    {
     "name": "stdout",
     "output_type": "stream",
     "text": [
      "GOA\n"
     ]
    }
   ],
   "source": [
    "def trip_decider(salary: float) -> str:\n",
    "  \"\"\"Trip deciding function according to the user salary\"\"\"\n",
    "\n",
    "  # stores the destination string\n",
    "  destination: str = \"\"\n",
    "\n",
    "  if salary >= 4e4:\n",
    "    destination = \"GOA\"\n",
    "  elif salary >= 3e4:\n",
    "    destination = \"SIKKIM\"\n",
    "  elif salary >= 2e4:\n",
    "    destination = \"DARJEELING\"\n",
    "  elif salary >= 1e4:\n",
    "    destination = \"DIGHA\"\n",
    "  elif salary < 5e3:\n",
    "    destination = \"MODI WANTS TO KNOW YOUR LOCATION\"\n",
    "  else:\n",
    "    destination = \"Sorry invalid input!!!\"\n",
    "  \n",
    "  return destination\n",
    "\n",
    "\n",
    "\n",
    "sal: float = float(input(\"Enter your monthly salary: \"))\n",
    "des: str = trip_decider(sal)\n",
    "print(des)"
   ]
  },
  {
   "cell_type": "markdown",
   "metadata": {},
   "source": [
    "# Assignment 3"
   ]
  },
  {
   "cell_type": "markdown",
   "metadata": {},
   "source": [
    "## 1. Read ```dlbcl-fl.csv``` file without any module and do the following tasks.\n",
    "\n",
    "- Read the csv file\n",
    "- Print the csv file\n",
    "- Count the number of rows\n",
    "- Count the number of columns\n",
    "- Print the first row (column label)\n",
    "- Print the first row (without column label)\n",
    "- Print the last column (class label)\n",
    "- Print the last column (without class label)\n",
    "- Print the unique class label\n",
    "- Divide the dataset into class labels"
   ]
  },
  {
   "cell_type": "code",
   "execution_count": 9,
   "metadata": {},
   "outputs": [],
   "source": [
    "class CsvNil:\n",
    "    def __init__(self, filename: str):\n",
    "        self.filename = filename\n",
    "        \n",
    "\n",
    "    def read_dataset(self):\n",
    "        \"\"\" Read the csv file \"\"\"\n",
    "        with open(self.filename) as f_obj:\n",
    "            for row in f_obj.readlines():\n",
    "                yield row\n",
    "\n",
    "\n",
    "    def print_dataset(self) -> None:\n",
    "        \"\"\" Print the csv file \"\"\"\n",
    "        [print(row) for row in self.read_dataset()]\n",
    "\n",
    "\n",
    "    def count_rows(self) -> int:\n",
    "        \"\"\" Count the number of rows \"\"\"\n",
    "        return sum([1 for _ in self.read_dataset()])\n",
    "    \n",
    "\n",
    "    def count_cols(self) -> int:\n",
    "        \"\"\" Count the number of columns \"\"\"\n",
    "        return [len(d.split(',')) for i, d in enumerate(self.read_dataset()) if i == 0][0]\n",
    "    \n",
    "\n",
    "    def column_names(self):\n",
    "        \"\"\" Print the first row (column label) \"\"\"\n",
    "        return [d.split(',') for i, d in enumerate(self.read_dataset()) if i == 0][0]\n",
    "    \n",
    "\n",
    "    def first_row(self):\n",
    "        \"\"\" Print the first row (without column label) \"\"\"\n",
    "        return [d.split(',') for i, d in enumerate(self.read_dataset()) if i == 1][0]\n",
    "    \n",
    "\n",
    "    def last_column_label(self) -> str:\n",
    "        \"\"\" Print the last column (class label) \"\"\"\n",
    "        return self.column_names()[-1].strip()\n",
    "    \n",
    "\n",
    "    def last_column(self) -> list:\n",
    "        \"\"\" Print the last column (without class label) \"\"\"\n",
    "        return [d.split(',')[-1].strip() for i, d in enumerate(self.read_dataset()) if i != 0]\n",
    "    \n",
    "\n",
    "    def unique_class(self) -> list:\n",
    "        \"\"\" Print the unique class label \"\"\"\n",
    "        return list(set(self.last_column()))\n",
    "    \n",
    "\n",
    "    def split_dataset(self) -> dict:\n",
    "        \"\"\" Divide the dataset into class labels \"\"\"\n",
    "        classes = {}\n",
    "        for row in self.read_dataset():\n",
    "            for clss in self.unique_class():\n",
    "                if row.split(',')[-1].strip() == clss:\n",
    "                    classes.setdefault(clss, []).append(row)\n",
    "\n",
    "        return classes\n"
   ]
  },
  {
   "cell_type": "code",
   "execution_count": 10,
   "metadata": {},
   "outputs": [],
   "source": [
    "# 1. Read the CSV\n",
    "csvnil = CsvNil('dlbcl-fl.csv')"
   ]
  },
  {
   "cell_type": "code",
   "execution_count": null,
   "metadata": {},
   "outputs": [],
   "source": [
    "# 2. Print the CSV\n",
    "print(csvnil.print_dataset())"
   ]
  },
  {
   "cell_type": "code",
   "execution_count": 12,
   "metadata": {},
   "outputs": [
    {
     "name": "stdout",
     "output_type": "stream",
     "text": [
      "77\n"
     ]
    }
   ],
   "source": [
    "# 3. Count the number of rows\n",
    "print(csvnil.count_rows() - 1)"
   ]
  },
  {
   "cell_type": "code",
   "execution_count": 13,
   "metadata": {},
   "outputs": [
    {
     "name": "stdout",
     "output_type": "stream",
     "text": [
      "7071\n"
     ]
    }
   ],
   "source": [
    "# 4. Count the number of columns\n",
    "print(csvnil.count_cols())"
   ]
  },
  {
   "cell_type": "code",
   "execution_count": null,
   "metadata": {},
   "outputs": [],
   "source": [
    "# 5. Print the first row (column label)\n",
    "print(csvnil.column_names())"
   ]
  },
  {
   "cell_type": "code",
   "execution_count": null,
   "metadata": {},
   "outputs": [],
   "source": [
    "# 6. Print the first row (without column label)\n",
    "print(csvnil.first_row())"
   ]
  },
  {
   "cell_type": "code",
   "execution_count": 16,
   "metadata": {},
   "outputs": [
    {
     "name": "stdout",
     "output_type": "stream",
     "text": [
      "class\n"
     ]
    }
   ],
   "source": [
    "# 7. Print the last column (class label)\n",
    "print(csvnil.last_column_label())"
   ]
  },
  {
   "cell_type": "code",
   "execution_count": 17,
   "metadata": {},
   "outputs": [
    {
     "name": "stdout",
     "output_type": "stream",
     "text": [
      "['DLBCL', 'DLBCL', 'DLBCL', 'DLBCL', 'DLBCL', 'DLBCL', 'DLBCL', 'DLBCL', 'DLBCL', 'DLBCL', 'DLBCL', 'DLBCL', 'DLBCL', 'DLBCL', 'DLBCL', 'DLBCL', 'DLBCL', 'DLBCL', 'DLBCL', 'DLBCL', 'DLBCL', 'DLBCL', 'DLBCL', 'DLBCL', 'DLBCL', 'DLBCL', 'DLBCL', 'DLBCL', 'DLBCL', 'DLBCL', 'DLBCL', 'DLBCL', 'DLBCL', 'DLBCL', 'DLBCL', 'DLBCL', 'DLBCL', 'DLBCL', 'DLBCL', 'DLBCL', 'DLBCL', 'DLBCL', 'DLBCL', 'DLBCL', 'DLBCL', 'DLBCL', 'DLBCL', 'DLBCL', 'DLBCL', 'DLBCL', 'DLBCL', 'DLBCL', 'DLBCL', 'DLBCL', 'DLBCL', 'DLBCL', 'DLBCL', 'DLBCL', 'FL', 'FL', 'FL', 'FL', 'FL', 'FL', 'FL', 'FL', 'FL', 'FL', 'FL', 'FL', 'FL', 'FL', 'FL', 'FL', 'FL', 'FL', 'FL']\n"
     ]
    }
   ],
   "source": [
    "# 8. Print the last column (without class label)\n",
    "print(csvnil.last_column())"
   ]
  },
  {
   "cell_type": "code",
   "execution_count": 18,
   "metadata": {},
   "outputs": [
    {
     "name": "stdout",
     "output_type": "stream",
     "text": [
      "['FL', 'DLBCL']\n"
     ]
    }
   ],
   "source": [
    "# 9. Print the unique class label\n",
    "print(csvnil.unique_class())"
   ]
  },
  {
   "cell_type": "code",
   "execution_count": null,
   "metadata": {},
   "outputs": [],
   "source": [
    "# 10. Divide the dataset into class labels\n",
    "split_data_dict: dict = csvnil.split_dataset()\n",
    "\n",
    "print(split_data_dict)\n",
    "\n",
    "dlbcl = split_data_dict['DLBCL']\n",
    "fl = split_data_dict['FL']\n",
    "\n",
    "print(len(dlbcl))\n",
    "\n",
    "print(len(fl))"
   ]
  },
  {
   "cell_type": "markdown",
   "metadata": {},
   "source": [
    "## 2. Read ```dlbcl-fl.csv``` file with any module and do the following tasks.\n",
    "\n",
    "- Read the csv file\n",
    "- Print the csv file\n",
    "- Count the number of rows\n",
    "- Count the number of columns\n",
    "- Print the first row (column label)\n",
    "- Print the first row (without column label)\n",
    "- Print the last column (class label)\n",
    "- Print the last column (without class label)\n",
    "- Print the unique class label\n",
    "- Divide the dataset into class labels"
   ]
  },
  {
   "cell_type": "code",
   "execution_count": 21,
   "metadata": {},
   "outputs": [],
   "source": [
    "import pandas as pd\n",
    "from pandas import DataFrame, Index, Series"
   ]
  },
  {
   "cell_type": "code",
   "execution_count": 22,
   "metadata": {},
   "outputs": [],
   "source": [
    "\"\"\" reading \"\"\"\n",
    "df: DataFrame = pd.read_csv('dlbcl-fl.csv')"
   ]
  },
  {
   "cell_type": "code",
   "execution_count": 23,
   "metadata": {},
   "outputs": [
    {
     "name": "stdout",
     "output_type": "stream",
     "text": [
      "    A28102  AB000114_at  AB000115_at  AB000220_at  AB000409_at  AB000449_at  \\\n",
      "0       -1          -45          176           97          -57          233   \n",
      "1       25          -17          531          353          122          155   \n",
      "2       73           91          257           80          614          507   \n",
      "3      267           41          202          138          198          355   \n",
      "4       16           24          187           39          145          254   \n",
      "..     ...          ...          ...          ...          ...          ...   \n",
      "72     205          116          361          295          424          286   \n",
      "73     323          123          498          303          -91          135   \n",
      "74      83          -63          164          120          176          344   \n",
      "75      27         -194          346          107           11          125   \n",
      "76       3          123          243          111         -327           94   \n",
      "\n",
      "    AB000450_at  AB000460_at  AB000462_at  AB000464_at  ...  U58516_at  \\\n",
      "0           265          945           56          819  ...       1036   \n",
      "1           209         1688           42          639  ...       4254   \n",
      "2           760         2252          196          863  ...       1934   \n",
      "3           245         1469          170          384  ...       2469   \n",
      "4           571          930          -11          439  ...        608   \n",
      "..          ...          ...          ...          ...  ...        ...   \n",
      "72          239         1376          249          540  ...       1014   \n",
      "73          231         1938          273         1795  ...       1629   \n",
      "74          396         1348          210          684  ...        573   \n",
      "75           60          982          143          550  ...        501   \n",
      "76          222         1487          226         1216  ...       1399   \n",
      "\n",
      "    U73738_at  X06956_at  X16699_at  X83863_at  Z17240_at  L49218_f_at  \\\n",
      "0        -161       1523        -72        897        366            3   \n",
      "1         -75       6056        -68        737         81           -4   \n",
      "2        -129       2901         -9        946        450           38   \n",
      "3          93       2465       -119        339        321          -63   \n",
      "4         -39       1667        -87        721        213           15   \n",
      "..        ...        ...        ...        ...        ...          ...   \n",
      "72       -531       1039       -325        412        -29         -264   \n",
      "73       -378        311       -251       1571        861          -53   \n",
      "74        -26       1170       -262        322       -109         -221   \n",
      "75       -329        335       -214        875        157          -97   \n",
      "76       -147        563       -137       1629        714           -1   \n",
      "\n",
      "    M71243_f_at  Z78285_f_at  class  \n",
      "0            76          -28  DLBCL  \n",
      "1            41          -45  DLBCL  \n",
      "2           164          -62  DLBCL  \n",
      "3            73          -13  DLBCL  \n",
      "4           155          -26  DLBCL  \n",
      "..          ...          ...    ...  \n",
      "72         -292         -384     FL  \n",
      "73           17         -396     FL  \n",
      "74         -213         -318     FL  \n",
      "75         -120         -291     FL  \n",
      "76          370          -53     FL  \n",
      "\n",
      "[77 rows x 7071 columns]\n"
     ]
    }
   ],
   "source": [
    "\"\"\" showing the values \"\"\"\n",
    "print(df)"
   ]
  },
  {
   "cell_type": "code",
   "execution_count": 24,
   "metadata": {},
   "outputs": [
    {
     "name": "stdout",
     "output_type": "stream",
     "text": [
      "77\n"
     ]
    }
   ],
   "source": [
    "\"\"\" no. of rows \"\"\"\n",
    "number_of_rows: int = df.shape[0]\n",
    "print(number_of_rows)"
   ]
  },
  {
   "cell_type": "code",
   "execution_count": null,
   "metadata": {},
   "outputs": [],
   "source": [
    "\"\"\" first row (colum label) \"\"\"\n",
    "column_index: Index = df.columns\n",
    "column_names: list[str] = column_index.values.tolist()\n",
    "print(column_names)\n"
   ]
  },
  {
   "cell_type": "code",
   "execution_count": 26,
   "metadata": {},
   "outputs": [
    {
     "name": "stdout",
     "output_type": "stream",
     "text": [
      "   A28102  AB000114_at  AB000115_at  AB000220_at  AB000409_at  AB000449_at  \\\n",
      "0      -1          -45          176           97          -57          233   \n",
      "\n",
      "   AB000450_at  AB000460_at  AB000462_at  AB000464_at  ...  U58516_at  \\\n",
      "0          265          945           56          819  ...       1036   \n",
      "\n",
      "   U73738_at  X06956_at  X16699_at  X83863_at  Z17240_at  L49218_f_at  \\\n",
      "0       -161       1523        -72        897        366            3   \n",
      "\n",
      "   M71243_f_at  Z78285_f_at  class  \n",
      "0           76          -28  DLBCL  \n",
      "\n",
      "[1 rows x 7071 columns]\n"
     ]
    }
   ],
   "source": [
    "\"\"\" first of (without column label) \"\"\"\n",
    "first_row = df.iloc[[0]]\n",
    "print(first_row)"
   ]
  },
  {
   "cell_type": "code",
   "execution_count": 27,
   "metadata": {},
   "outputs": [
    {
     "name": "stdout",
     "output_type": "stream",
     "text": [
      "class\n"
     ]
    }
   ],
   "source": [
    "\"\"\" print the last column label \"\"\"\n",
    "column_index: Index = df.columns\n",
    "column_names: list[str] = column_index.values.tolist()\n",
    "print(column_names[-1])"
   ]
  },
  {
   "cell_type": "code",
   "execution_count": 28,
   "metadata": {},
   "outputs": [
    {
     "name": "stdout",
     "output_type": "stream",
     "text": [
      "0     DLBCL\n",
      "1     DLBCL\n",
      "2     DLBCL\n",
      "3     DLBCL\n",
      "4     DLBCL\n",
      "      ...  \n",
      "72       FL\n",
      "73       FL\n",
      "74       FL\n",
      "75       FL\n",
      "76       FL\n",
      "Name: class, Length: 77, dtype: object\n"
     ]
    }
   ],
   "source": [
    "\"\"\" print the last column values \"\"\"\n",
    "column_index: Index = df.columns\n",
    "column_names: list[str] = column_index.values.tolist()\n",
    "last_col: str = column_names[-1]\n",
    "print(df[last_col])"
   ]
  },
  {
   "cell_type": "code",
   "execution_count": 29,
   "metadata": {},
   "outputs": [
    {
     "name": "stdout",
     "output_type": "stream",
     "text": [
      "['DLBCL', 'FL']\n"
     ]
    }
   ],
   "source": [
    "\"\"\" unique class labels \"\"\"\n",
    "column_index: Index = df.columns\n",
    "column_names: list[str] = column_index.values.tolist()\n",
    "last_col: str = column_names[-1]\n",
    "last_col_values: Series = df[last_col]\n",
    "unique_classes: list = last_col_values.unique().tolist()\n",
    "print(unique_classes)"
   ]
  },
  {
   "cell_type": "code",
   "execution_count": 30,
   "metadata": {},
   "outputs": [
    {
     "name": "stdout",
     "output_type": "stream",
     "text": [
      "{'DLBCL':     A28102  AB000114_at  AB000115_at  AB000220_at  AB000409_at  AB000449_at  \\\n",
      "0       -1          -45          176           97          -57          233   \n",
      "1       25          -17          531          353          122          155   \n",
      "2       73           91          257           80          614          507   \n",
      "3      267           41          202          138          198          355   \n",
      "4       16           24          187           39          145          254   \n",
      "5       65           40          259          110          369          512   \n",
      "6        6          -31          142          214          436          303   \n",
      "7     -136           17          218           24          167          508   \n",
      "8       51          -56          233          153          401          446   \n",
      "9        9            2          468          231          182          102   \n",
      "10     360           61          291          299          385          489   \n",
      "11      44           20          230           83          416          422   \n",
      "12     141          165          341          325          429          850   \n",
      "13     182           -9         1058           85         -244          350   \n",
      "14      61          128          749            2          190          200   \n",
      "15       5          -22          137          122           24          662   \n",
      "16     258          -47          282           15           42           94   \n",
      "17     162           97          320          140          152          728   \n",
      "18      70          -12          174          120          470          360   \n",
      "19     134           60          310          185          200          199   \n",
      "20     162          122          412          157         -311          194   \n",
      "21     140          -56          966          489          463          269   \n",
      "22      74           31          177           50          172          461   \n",
      "23     207            1          520           66          211          406   \n",
      "24     239           25          978          116          426          263   \n",
      "25      68           45          673          505          234          317   \n",
      "26    -123         -347          304          137         -107          -25   \n",
      "27      -2           83          184           43         -131          560   \n",
      "28     134           29          217          194           -4          132   \n",
      "29     124          -48          197           94           53          135   \n",
      "30     104           13          423          313         -110          569   \n",
      "31     148           68          143          133          -44          191   \n",
      "32     196          464          421          394          692         1290   \n",
      "33      37           30          401          326          489          271   \n",
      "34     477          151         1398          543         -226          382   \n",
      "35      38           17          501          124          447           92   \n",
      "36      11           25          771           71         1225          753   \n",
      "37     138           -1          475          132          461         1060   \n",
      "38     125          209          800          433         -334          235   \n",
      "39      80           60          198           17          116          100   \n",
      "40      84           -4          397          183          206          231   \n",
      "41      23          -10          219          171          343          419   \n",
      "42     105         -281          172          119         -142          187   \n",
      "43      33          -19          148           19          361          481   \n",
      "44     146          102          149           56            7          165   \n",
      "45     -46          -98          617          164          567         1235   \n",
      "46      -7           13          199          174          132          195   \n",
      "47     127           50          286           95          226          524   \n",
      "48      96           11          277          281          243          469   \n",
      "49     318           11          298           98          139          242   \n",
      "50     135           26          109          467          157          764   \n",
      "51     111           -2          379          169          219          633   \n",
      "52      60           23          486           78          153          478   \n",
      "53      87          -34          236           84         -294          333   \n",
      "54      11           33         5283          898          382          740   \n",
      "55     126           69          514          213           30          174   \n",
      "56      15          -12          312           59           75          179   \n",
      "57      86           36          345           71          214          105   \n",
      "\n",
      "    AB000450_at  AB000460_at  AB000462_at  AB000464_at  ...  U58516_at  \\\n",
      "0           265          945           56          819  ...       1036   \n",
      "1           209         1688           42          639  ...       4254   \n",
      "2           760         2252          196          863  ...       1934   \n",
      "3           245         1469          170          384  ...       2469   \n",
      "4           571          930          -11          439  ...        608   \n",
      "5           327         1659          118          396  ...       1366   \n",
      "6           135          603           63          171  ...       3242   \n",
      "7           344         1633           89          444  ...       1499   \n",
      "8           222         1421           80          320  ...        604   \n",
      "9           138         1185           -3          615  ...       5936   \n",
      "10          625         2451          141         1344  ...       1488   \n",
      "11          341         1311           83          320  ...       1425   \n",
      "12          428         1570           94          439  ...        553   \n",
      "13           87         1621           83          932  ...       1444   \n",
      "14           10         1216          200          855  ...       1066   \n",
      "15          394         1433           88          556  ...        641   \n",
      "16          106         1134            2          220  ...        796   \n",
      "17          451         1094           85          207  ...        320   \n",
      "18          411         2182         -131         1231  ...       2592   \n",
      "19          173         1012          164          329  ...        479   \n",
      "20          260         1530          186         1147  ...       1091   \n",
      "21          329         2470           54          830  ...       2690   \n",
      "22          312          557          122          208  ...        402   \n",
      "23          300         1599          -17          418  ...        258   \n",
      "24          622         1972           58          829  ...       1073   \n",
      "25          487         1459          265          744  ...       1394   \n",
      "26          144         1532         1802         1101  ...        605   \n",
      "27          246         1318          128          404  ...        619   \n",
      "28          299         1182           93          962  ...        770   \n",
      "29          175         1097           61          588  ...       1012   \n",
      "30          767         1938          241          882  ...       2053   \n",
      "31          165         1321           10          632  ...       1146   \n",
      "32          737         2368          346          507  ...       1574   \n",
      "33          867         1786          258          209  ...       2174   \n",
      "34          146         2712          155         1668  ...       1025   \n",
      "35          263         1202           92          153  ...       1239   \n",
      "36          942         1106           87          336  ...        947   \n",
      "37          480         2030           54          666  ...       1742   \n",
      "38          328         2482          192         1504  ...       3029   \n",
      "39          197          992           -1          380  ...        597   \n",
      "40          254         1268          150          501  ...        966   \n",
      "41          327         1133          104          232  ...        708   \n",
      "42          131         1319          199          713  ...        929   \n",
      "43          317         1379           85          270  ...       1289   \n",
      "44          165          909           42          493  ...        468   \n",
      "45         1029         2913            9          734  ...       1871   \n",
      "46          256         2059          174          775  ...        678   \n",
      "47          403         1164          -22          387  ...        444   \n",
      "48          152          808          103          138  ...       2234   \n",
      "49          406         1765          114          753  ...       1215   \n",
      "50          355         1360           55          464  ...       1021   \n",
      "51          381         1720           51          936  ...        643   \n",
      "52          271          912          114          195  ...        841   \n",
      "53          278         1719           72         1346  ...       1646   \n",
      "54          510         1214           86          616  ...       2219   \n",
      "55          198         1024          136         1176  ...        693   \n",
      "56          265         1036           99          216  ...       1065   \n",
      "57          193         1327          123          816  ...        985   \n",
      "\n",
      "    U73738_at  X06956_at  X16699_at  X83863_at  Z17240_at  L49218_f_at  \\\n",
      "0        -161       1523        -72        897        366            3   \n",
      "1         -75       6056        -68        737         81           -4   \n",
      "2        -129       2901         -9        946        450           38   \n",
      "3          93       2465       -119        339        321          -63   \n",
      "4         -39       1667        -87        721        213           15   \n",
      "5         -21       4413        -69        617        409           43   \n",
      "6        -694       2914       -449         29       -291         -355   \n",
      "7          61       2903        -20        265         64          -16   \n",
      "8        -170       3374        -87        301        102         -163   \n",
      "9        -128       5945        -80        921        155          -40   \n",
      "10       -157        466       -291        301        349         -234   \n",
      "11        -18       6705       -137        262         96          -52   \n",
      "12       -445       5922       -463        160       -283         -445   \n",
      "13       -152        708        -46       1667        364          -64   \n",
      "14       -216        530       -237       1027        515          -61   \n",
      "15        -21       2167        -63        832        360           19   \n",
      "16       -273       1589       -359        404        -27         -254   \n",
      "17       -136       1194       -203        392         87          -72   \n",
      "18          7       1741        -36        825        701          -51   \n",
      "19       -521        869       -499        355       -161         -409   \n",
      "20       -207        417       -149       1186        492          -50   \n",
      "21       -523       3008       -263       1334        539         -288   \n",
      "22        -55       1670        -54        306         95           16   \n",
      "23        -38       1006        -51        676        304          -26   \n",
      "24        -67       1240        -57        384        223           11   \n",
      "25       -123        434        -29        754        307          -37   \n",
      "26       -876        377       -731        689       -206         -518   \n",
      "27        -62        656        -96        622        286           -8   \n",
      "28       -441        489       -105       1495        365           -4   \n",
      "29       -355       3052       -415        719         93         -340   \n",
      "30       -190       3286       -148       1217        195           66   \n",
      "31       -100        874        -67        190        583          -52   \n",
      "32       -563       9265       -728        344        -84         -440   \n",
      "33        -11       2131        -39        740        421           43   \n",
      "34      -1417        670      -1190        642       -661        -1375   \n",
      "35          9       1550         -2        213         87           31   \n",
      "36          8       5105        -38        339        166            1   \n",
      "37          0      11906        -64        517        270          -14   \n",
      "38       -171       1070       -302       1585       1193         -282   \n",
      "39       -172        676       -128        412        266           25   \n",
      "40       -318       1897       -349        518        -28         -268   \n",
      "41       -456       2013       -536        -75       -181         -271   \n",
      "42       -593        924       -556        707         31         -447   \n",
      "43        -56       5008        -88        344        102            1   \n",
      "44        -21       1165        -34        493        267           45   \n",
      "45        -10       4889       -124       1399        946          152   \n",
      "46        -13        905       -111        429        479            7   \n",
      "47        -23        557       -114        519        280          -25   \n",
      "48       -253       1161       -152        189       -110         -243   \n",
      "49         19        953       -783        482        209         -527   \n",
      "50        -61        606        -14        590        347           26   \n",
      "51       -235       2736       -107       1146        460           59   \n",
      "52        -34       1619        -60        491        224          -19   \n",
      "53       -195        473       -111       1200        698           16   \n",
      "54        -79       4066        -31        418        199            5   \n",
      "55        -84        511       -127       1024        502          -51   \n",
      "56       -102        671       -119        420        200          -22   \n",
      "57         17        311        -70        800        439           20   \n",
      "\n",
      "    M71243_f_at  Z78285_f_at  class  \n",
      "0            76          -28  DLBCL  \n",
      "1            41          -45  DLBCL  \n",
      "2           164          -62  DLBCL  \n",
      "3            73          -13  DLBCL  \n",
      "4           155          -26  DLBCL  \n",
      "5            68          -83  DLBCL  \n",
      "6          -226         -377  DLBCL  \n",
      "7           170         -122  DLBCL  \n",
      "8           104         -185  DLBCL  \n",
      "9           107          -62  DLBCL  \n",
      "10         -199         -446  DLBCL  \n",
      "11           -6          -67  DLBCL  \n",
      "12         -410         -374  DLBCL  \n",
      "13          359         -166  DLBCL  \n",
      "14          270         -159  DLBCL  \n",
      "15          155          -25  DLBCL  \n",
      "16          -58         -270  DLBCL  \n",
      "17         -112         -249  DLBCL  \n",
      "18           82          -65  DLBCL  \n",
      "19         -366         -400  DLBCL  \n",
      "20          194          -15  DLBCL  \n",
      "21         -214         -497  DLBCL  \n",
      "22           47          -49  DLBCL  \n",
      "23          149            0  DLBCL  \n",
      "24           -2          -37  DLBCL  \n",
      "25           91         -123  DLBCL  \n",
      "26         -151         -678  DLBCL  \n",
      "27           81         -103  DLBCL  \n",
      "28          592         -123  DLBCL  \n",
      "29            7         -281  DLBCL  \n",
      "30           53          -55  DLBCL  \n",
      "31          208          -45  DLBCL  \n",
      "32         -546         -732  DLBCL  \n",
      "33          172          -34  DLBCL  \n",
      "34        -1332        -1729  DLBCL  \n",
      "35          162          -48  DLBCL  \n",
      "36          -25          -29  DLBCL  \n",
      "37          161          -55  DLBCL  \n",
      "38          212          -84  DLBCL  \n",
      "39           53          -48  DLBCL  \n",
      "40          -22         -298  DLBCL  \n",
      "41         -230         -627  DLBCL  \n",
      "42         -122         -499  DLBCL  \n",
      "43           -8          -55  DLBCL  \n",
      "44           56          -25  DLBCL  \n",
      "45           -7          -25  DLBCL  \n",
      "46           65          -78  DLBCL  \n",
      "47            4          -73  DLBCL  \n",
      "48         -191         -198  DLBCL  \n",
      "49          139         -118  DLBCL  \n",
      "50          -10          -27  DLBCL  \n",
      "51           73          -17  DLBCL  \n",
      "52          -37          -67  DLBCL  \n",
      "53          236          -99  DLBCL  \n",
      "54           80          -42  DLBCL  \n",
      "55          126          -88  DLBCL  \n",
      "56           66          -61  DLBCL  \n",
      "57          183          -88  DLBCL  \n",
      "\n",
      "[58 rows x 7071 columns], 'FL':     A28102  AB000114_at  AB000115_at  AB000220_at  AB000409_at  AB000449_at  \\\n",
      "58    1017          281          583          206          -46          163   \n",
      "59     192           86          235           96         -137          227   \n",
      "60     155         -340          666          530          -38          -99   \n",
      "61     666         -281         1035          559          347          297   \n",
      "62     137          -83          172          217         -138          191   \n",
      "63     403         -965           34          665           21          605   \n",
      "64     -21          -64          355           53         -108          190   \n",
      "65      19           49          374           89            4          515   \n",
      "66      32          -26          112          129           23          106   \n",
      "67     124           19          151          102          -48           95   \n",
      "68      12           39          184          100          157          293   \n",
      "69      57          -21          194           88          -95          177   \n",
      "70     -42           30          297          154          135          120   \n",
      "71     -26          -42          714          254          383          288   \n",
      "72     205          116          361          295          424          286   \n",
      "73     323          123          498          303          -91          135   \n",
      "74      83          -63          164          120          176          344   \n",
      "75      27         -194          346          107           11          125   \n",
      "76       3          123          243          111         -327           94   \n",
      "\n",
      "    AB000450_at  AB000460_at  AB000462_at  AB000464_at  ...  U58516_at  \\\n",
      "58          251         1900           89          731  ...       1208   \n",
      "59           74         1295          -18          952  ...       1690   \n",
      "60          273         1815          336         1170  ...       1145   \n",
      "61          490         2942          443         2460  ...       1311   \n",
      "62           18         1282           84         1117  ...        786   \n",
      "63         1176         7152          691         2940  ...        845   \n",
      "64          181         1643          137          773  ...       1726   \n",
      "65          416         1297           42          577  ...        753   \n",
      "66          181         1067           87          608  ...        777   \n",
      "67           87         1655            2          324  ...       1196   \n",
      "68          200         1507           77          406  ...        713   \n",
      "69          177         1720           33          497  ...        787   \n",
      "70          211         1194          169          378  ...       1038   \n",
      "71          420         1496          116          853  ...        990   \n",
      "72          239         1376          249          540  ...       1014   \n",
      "73          231         1938          273         1795  ...       1629   \n",
      "74          396         1348          210          684  ...        573   \n",
      "75           60          982          143          550  ...        501   \n",
      "76          222         1487          226         1216  ...       1399   \n",
      "\n",
      "    U73738_at  X06956_at  X16699_at  X83863_at  Z17240_at  L49218_f_at  \\\n",
      "58         -7       1289        -66       1054        685           -5   \n",
      "59       -199        572        -15       1321        621            0   \n",
      "60       -681        296       -554       1557        151         -394   \n",
      "61      -1132        107       -961       1143       -247         -818   \n",
      "62       -407        220       -389       1083         -9         -286   \n",
      "63      -2017       -738      -1687       6465       -206        -1249   \n",
      "64        -35        632        -33       1313        752           37   \n",
      "65        -85       1278        -93        678        309          -10   \n",
      "66        -23        549        -98        383        341          -15   \n",
      "67        -88        720       -120        984        380           18   \n",
      "68         27       1583        -38        252        228           34   \n",
      "69         -3       1430        -75        875        188           36   \n",
      "70       -140        429        -94        399        263            1   \n",
      "71        -65       1017        -42        854        265           10   \n",
      "72       -531       1039       -325        412        -29         -264   \n",
      "73       -378        311       -251       1571        861          -53   \n",
      "74        -26       1170       -262        322       -109         -221   \n",
      "75       -329        335       -214        875        157          -97   \n",
      "76       -147        563       -137       1629        714           -1   \n",
      "\n",
      "    M71243_f_at  Z78285_f_at  class  \n",
      "58          147          -31     FL  \n",
      "59          191          -44     FL  \n",
      "60           38         -350     FL  \n",
      "61         -236         -763     FL  \n",
      "62          186         -281     FL  \n",
      "63           94        -1352     FL  \n",
      "64          262          -64     FL  \n",
      "65           57          -27     FL  \n",
      "66          223            3     FL  \n",
      "67          276          -80     FL  \n",
      "68           78          -18     FL  \n",
      "69           79          -32     FL  \n",
      "70           74          -78     FL  \n",
      "71           73           -8     FL  \n",
      "72         -292         -384     FL  \n",
      "73           17         -396     FL  \n",
      "74         -213         -318     FL  \n",
      "75         -120         -291     FL  \n",
      "76          370          -53     FL  \n",
      "\n",
      "[19 rows x 7071 columns]}\n"
     ]
    }
   ],
   "source": [
    "\"\"\" split the dataset according to the class label \"\"\"\n",
    "dfs = {}\n",
    "\n",
    "for elem in df['class'].unique():\n",
    "    dfs.setdefault(elem, df[:][df['class'] == elem])\n",
    "\n",
    "print(dfs)"
   ]
  },
  {
   "cell_type": "markdown",
   "metadata": {},
   "source": [
    "# Assignment 4"
   ]
  },
  {
   "cell_type": "markdown",
   "metadata": {},
   "source": [
    "## 1. Decision Tree Classifier on the dataset"
   ]
  },
  {
   "cell_type": "code",
   "execution_count": null,
   "metadata": {
    "id": "CkhJpk2sELfr"
   },
   "outputs": [],
   "source": [
    "import pandas as pd\n",
    "from sklearn.tree import DecisionTreeClassifier\n",
    "from sklearn import tree\n",
    "from sklearn.model_selection import train_test_split\n",
    "from sklearn.metrics import accuracy_score, confusion_matrix\n",
    "import graphviz "
   ]
  },
  {
   "cell_type": "code",
   "execution_count": null,
   "metadata": {
    "id": "7PFXyjEuC7l2"
   },
   "outputs": [],
   "source": [
    "dataset_url = \"https://raw.githubusercontent.com/kalyaniuniversity/mgx-datasets/master/DLBCL/datasets/preprocessed/dlbcl-sd-100.csv\""
   ]
  },
  {
   "cell_type": "code",
   "execution_count": null,
   "metadata": {
    "colab": {
     "base_uri": "https://localhost:8080/",
     "height": 317
    },
    "id": "Z74Z4AnvEDCq",
    "outputId": "04c6bf8d-536b-43e4-86d3-09188c0f5879"
   },
   "outputs": [
    {
     "data": {
      "text/html": [
       "\n",
       "  <div id=\"df-65984641-2644-4b28-8ffc-20311f0add21\">\n",
       "    <div class=\"colab-df-container\">\n",
       "      <div>\n",
       "<style scoped>\n",
       "    .dataframe tbody tr th:only-of-type {\n",
       "        vertical-align: middle;\n",
       "    }\n",
       "\n",
       "    .dataframe tbody tr th {\n",
       "        vertical-align: top;\n",
       "    }\n",
       "\n",
       "    .dataframe thead th {\n",
       "        text-align: right;\n",
       "    }\n",
       "</style>\n",
       "<table border=\"1\" class=\"dataframe\">\n",
       "  <thead>\n",
       "    <tr style=\"text-align: right;\">\n",
       "      <th></th>\n",
       "      <th>X02160_at</th>\n",
       "      <th>D87436_at</th>\n",
       "      <th>U58033_at</th>\n",
       "      <th>X74331_at</th>\n",
       "      <th>U82671_cds2_at</th>\n",
       "      <th>M12959_s_at</th>\n",
       "      <th>S39329_at</th>\n",
       "      <th>Y00285_s_at</th>\n",
       "      <th>U53830_at</th>\n",
       "      <th>U79526_at</th>\n",
       "      <th>...</th>\n",
       "      <th>U25988_at</th>\n",
       "      <th>X92098_at</th>\n",
       "      <th>D89377_s_at</th>\n",
       "      <th>D86043_s_at</th>\n",
       "      <th>D10202_at</th>\n",
       "      <th>X06268_at</th>\n",
       "      <th>HG3364-HT3541_at</th>\n",
       "      <th>U41763_at</th>\n",
       "      <th>M68907_s_at</th>\n",
       "      <th>class</th>\n",
       "    </tr>\n",
       "  </thead>\n",
       "  <tbody>\n",
       "    <tr>\n",
       "      <th>0</th>\n",
       "      <td>0.0860</td>\n",
       "      <td>-0.4776</td>\n",
       "      <td>0.1128</td>\n",
       "      <td>-0.3524</td>\n",
       "      <td>-1.2158</td>\n",
       "      <td>-1.0879</td>\n",
       "      <td>1.2491</td>\n",
       "      <td>-0.5305</td>\n",
       "      <td>-0.4056</td>\n",
       "      <td>-0.0536</td>\n",
       "      <td>...</td>\n",
       "      <td>-0.5577</td>\n",
       "      <td>0.1917</td>\n",
       "      <td>0.6830</td>\n",
       "      <td>0.3797</td>\n",
       "      <td>0.3242</td>\n",
       "      <td>-0.2661</td>\n",
       "      <td>-0.5450</td>\n",
       "      <td>0.2145</td>\n",
       "      <td>-0.0078</td>\n",
       "      <td>DLBCL</td>\n",
       "    </tr>\n",
       "    <tr>\n",
       "      <th>1</th>\n",
       "      <td>3.9336</td>\n",
       "      <td>-0.3716</td>\n",
       "      <td>-0.3936</td>\n",
       "      <td>-0.4337</td>\n",
       "      <td>-0.0297</td>\n",
       "      <td>1.5771</td>\n",
       "      <td>-1.7251</td>\n",
       "      <td>0.2726</td>\n",
       "      <td>2.2205</td>\n",
       "      <td>2.3315</td>\n",
       "      <td>...</td>\n",
       "      <td>-0.7781</td>\n",
       "      <td>-1.1437</td>\n",
       "      <td>0.6830</td>\n",
       "      <td>0.8660</td>\n",
       "      <td>0.6778</td>\n",
       "      <td>0.5630</td>\n",
       "      <td>0.3347</td>\n",
       "      <td>-0.4297</td>\n",
       "      <td>0.7316</td>\n",
       "      <td>DLBCL</td>\n",
       "    </tr>\n",
       "    <tr>\n",
       "      <th>2</th>\n",
       "      <td>2.1761</td>\n",
       "      <td>0.5697</td>\n",
       "      <td>-0.7987</td>\n",
       "      <td>1.0117</td>\n",
       "      <td>1.1118</td>\n",
       "      <td>2.1945</td>\n",
       "      <td>0.9946</td>\n",
       "      <td>3.2036</td>\n",
       "      <td>0.2055</td>\n",
       "      <td>1.3938</td>\n",
       "      <td>...</td>\n",
       "      <td>0.9939</td>\n",
       "      <td>-0.3984</td>\n",
       "      <td>0.6581</td>\n",
       "      <td>-0.8371</td>\n",
       "      <td>1.8077</td>\n",
       "      <td>0.2269</td>\n",
       "      <td>-0.7039</td>\n",
       "      <td>-2.0157</td>\n",
       "      <td>0.0940</td>\n",
       "      <td>DLBCL</td>\n",
       "    </tr>\n",
       "    <tr>\n",
       "      <th>3</th>\n",
       "      <td>0.2475</td>\n",
       "      <td>-0.7456</td>\n",
       "      <td>-0.5455</td>\n",
       "      <td>-0.5692</td>\n",
       "      <td>-0.2692</td>\n",
       "      <td>0.7490</td>\n",
       "      <td>-1.8189</td>\n",
       "      <td>0.4398</td>\n",
       "      <td>0.1410</td>\n",
       "      <td>0.1095</td>\n",
       "      <td>...</td>\n",
       "      <td>-0.7713</td>\n",
       "      <td>-0.7283</td>\n",
       "      <td>0.1969</td>\n",
       "      <td>1.1079</td>\n",
       "      <td>0.4049</td>\n",
       "      <td>-0.0700</td>\n",
       "      <td>1.6608</td>\n",
       "      <td>-0.4428</td>\n",
       "      <td>0.3789</td>\n",
       "      <td>DLBCL</td>\n",
       "    </tr>\n",
       "    <tr>\n",
       "      <th>4</th>\n",
       "      <td>0.5040</td>\n",
       "      <td>1.6793</td>\n",
       "      <td>-1.9128</td>\n",
       "      <td>0.0541</td>\n",
       "      <td>-0.9875</td>\n",
       "      <td>-1.4499</td>\n",
       "      <td>0.5927</td>\n",
       "      <td>1.2276</td>\n",
       "      <td>-0.1220</td>\n",
       "      <td>-0.7263</td>\n",
       "      <td>...</td>\n",
       "      <td>-0.6645</td>\n",
       "      <td>-1.0156</td>\n",
       "      <td>-0.5011</td>\n",
       "      <td>-1.0720</td>\n",
       "      <td>-0.2408</td>\n",
       "      <td>0.1541</td>\n",
       "      <td>1.1423</td>\n",
       "      <td>0.7017</td>\n",
       "      <td>-0.0417</td>\n",
       "      <td>DLBCL</td>\n",
       "    </tr>\n",
       "  </tbody>\n",
       "</table>\n",
       "<p>5 rows × 101 columns</p>\n",
       "</div>\n",
       "      <button class=\"colab-df-convert\" onclick=\"convertToInteractive('df-65984641-2644-4b28-8ffc-20311f0add21')\"\n",
       "              title=\"Convert this dataframe to an interactive table.\"\n",
       "              style=\"display:none;\">\n",
       "        \n",
       "  <svg xmlns=\"http://www.w3.org/2000/svg\" height=\"24px\"viewBox=\"0 0 24 24\"\n",
       "       width=\"24px\">\n",
       "    <path d=\"M0 0h24v24H0V0z\" fill=\"none\"/>\n",
       "    <path d=\"M18.56 5.44l.94 2.06.94-2.06 2.06-.94-2.06-.94-.94-2.06-.94 2.06-2.06.94zm-11 1L8.5 8.5l.94-2.06 2.06-.94-2.06-.94L8.5 2.5l-.94 2.06-2.06.94zm10 10l.94 2.06.94-2.06 2.06-.94-2.06-.94-.94-2.06-.94 2.06-2.06.94z\"/><path d=\"M17.41 7.96l-1.37-1.37c-.4-.4-.92-.59-1.43-.59-.52 0-1.04.2-1.43.59L10.3 9.45l-7.72 7.72c-.78.78-.78 2.05 0 2.83L4 21.41c.39.39.9.59 1.41.59.51 0 1.02-.2 1.41-.59l7.78-7.78 2.81-2.81c.8-.78.8-2.07 0-2.86zM5.41 20L4 18.59l7.72-7.72 1.47 1.35L5.41 20z\"/>\n",
       "  </svg>\n",
       "      </button>\n",
       "      \n",
       "  <style>\n",
       "    .colab-df-container {\n",
       "      display:flex;\n",
       "      flex-wrap:wrap;\n",
       "      gap: 12px;\n",
       "    }\n",
       "\n",
       "    .colab-df-convert {\n",
       "      background-color: #E8F0FE;\n",
       "      border: none;\n",
       "      border-radius: 50%;\n",
       "      cursor: pointer;\n",
       "      display: none;\n",
       "      fill: #1967D2;\n",
       "      height: 32px;\n",
       "      padding: 0 0 0 0;\n",
       "      width: 32px;\n",
       "    }\n",
       "\n",
       "    .colab-df-convert:hover {\n",
       "      background-color: #E2EBFA;\n",
       "      box-shadow: 0px 1px 2px rgba(60, 64, 67, 0.3), 0px 1px 3px 1px rgba(60, 64, 67, 0.15);\n",
       "      fill: #174EA6;\n",
       "    }\n",
       "\n",
       "    [theme=dark] .colab-df-convert {\n",
       "      background-color: #3B4455;\n",
       "      fill: #D2E3FC;\n",
       "    }\n",
       "\n",
       "    [theme=dark] .colab-df-convert:hover {\n",
       "      background-color: #434B5C;\n",
       "      box-shadow: 0px 1px 3px 1px rgba(0, 0, 0, 0.15);\n",
       "      filter: drop-shadow(0px 1px 2px rgba(0, 0, 0, 0.3));\n",
       "      fill: #FFFFFF;\n",
       "    }\n",
       "  </style>\n",
       "\n",
       "      <script>\n",
       "        const buttonEl =\n",
       "          document.querySelector('#df-65984641-2644-4b28-8ffc-20311f0add21 button.colab-df-convert');\n",
       "        buttonEl.style.display =\n",
       "          google.colab.kernel.accessAllowed ? 'block' : 'none';\n",
       "\n",
       "        async function convertToInteractive(key) {\n",
       "          const element = document.querySelector('#df-65984641-2644-4b28-8ffc-20311f0add21');\n",
       "          const dataTable =\n",
       "            await google.colab.kernel.invokeFunction('convertToInteractive',\n",
       "                                                     [key], {});\n",
       "          if (!dataTable) return;\n",
       "\n",
       "          const docLinkHtml = 'Like what you see? Visit the ' +\n",
       "            '<a target=\"_blank\" href=https://colab.research.google.com/notebooks/data_table.ipynb>data table notebook</a>'\n",
       "            + ' to learn more about interactive tables.';\n",
       "          element.innerHTML = '';\n",
       "          dataTable['output_type'] = 'display_data';\n",
       "          await google.colab.output.renderOutput(dataTable, element);\n",
       "          const docLink = document.createElement('div');\n",
       "          docLink.innerHTML = docLinkHtml;\n",
       "          element.appendChild(docLink);\n",
       "        }\n",
       "      </script>\n",
       "    </div>\n",
       "  </div>\n",
       "  "
      ],
      "text/plain": [
       "   X02160_at  D87436_at  U58033_at  X74331_at  U82671_cds2_at  M12959_s_at  \\\n",
       "0     0.0860    -0.4776     0.1128    -0.3524         -1.2158      -1.0879   \n",
       "1     3.9336    -0.3716    -0.3936    -0.4337         -0.0297       1.5771   \n",
       "2     2.1761     0.5697    -0.7987     1.0117          1.1118       2.1945   \n",
       "3     0.2475    -0.7456    -0.5455    -0.5692         -0.2692       0.7490   \n",
       "4     0.5040     1.6793    -1.9128     0.0541         -0.9875      -1.4499   \n",
       "\n",
       "   S39329_at  Y00285_s_at  U53830_at  U79526_at  ...  U25988_at  X92098_at  \\\n",
       "0     1.2491      -0.5305    -0.4056    -0.0536  ...    -0.5577     0.1917   \n",
       "1    -1.7251       0.2726     2.2205     2.3315  ...    -0.7781    -1.1437   \n",
       "2     0.9946       3.2036     0.2055     1.3938  ...     0.9939    -0.3984   \n",
       "3    -1.8189       0.4398     0.1410     0.1095  ...    -0.7713    -0.7283   \n",
       "4     0.5927       1.2276    -0.1220    -0.7263  ...    -0.6645    -1.0156   \n",
       "\n",
       "   D89377_s_at  D86043_s_at  D10202_at  X06268_at  HG3364-HT3541_at  \\\n",
       "0       0.6830       0.3797     0.3242    -0.2661           -0.5450   \n",
       "1       0.6830       0.8660     0.6778     0.5630            0.3347   \n",
       "2       0.6581      -0.8371     1.8077     0.2269           -0.7039   \n",
       "3       0.1969       1.1079     0.4049    -0.0700            1.6608   \n",
       "4      -0.5011      -1.0720    -0.2408     0.1541            1.1423   \n",
       "\n",
       "   U41763_at  M68907_s_at  class  \n",
       "0     0.2145      -0.0078  DLBCL  \n",
       "1    -0.4297       0.7316  DLBCL  \n",
       "2    -2.0157       0.0940  DLBCL  \n",
       "3    -0.4428       0.3789  DLBCL  \n",
       "4     0.7017      -0.0417  DLBCL  \n",
       "\n",
       "[5 rows x 101 columns]"
      ]
     },
     "metadata": {},
     "output_type": "display_data"
    }
   ],
   "source": [
    "df = pd.read_csv(dataset_url)\n",
    "df.head()"
   ]
  },
  {
   "cell_type": "code",
   "execution_count": null,
   "metadata": {
    "colab": {
     "base_uri": "https://localhost:8080/"
    },
    "id": "t1YH6YHpEVT3",
    "outputId": "baf05f03-da7b-4ce5-9cf3-2cfc44a0419b"
   },
   "outputs": [
    {
     "name": "stdout",
     "output_type": "stream",
     "text": [
      "<class 'pandas.core.frame.DataFrame'>\n",
      "RangeIndex: 77 entries, 0 to 76\n",
      "Columns: 101 entries, X02160_at to class\n",
      "dtypes: float64(100), object(1)\n",
      "memory usage: 60.9+ KB\n"
     ]
    }
   ],
   "source": [
    "df.info()"
   ]
  },
  {
   "cell_type": "code",
   "execution_count": null,
   "metadata": {
    "colab": {
     "base_uri": "https://localhost:8080/"
    },
    "id": "Zfd6m_TqF0pT",
    "outputId": "b3f783d9-2c33-4a90-ac8f-a042bf1323b9"
   },
   "outputs": [
    {
     "data": {
      "text/plain": [
       "DLBCL    58\n",
       "FL       19\n",
       "Name: class, dtype: int64"
      ]
     },
     "metadata": {},
     "output_type": "display_data"
    }
   ],
   "source": [
    "df['class'].value_counts()"
   ]
  },
  {
   "cell_type": "code",
   "execution_count": null,
   "metadata": {
    "id": "fUlMHwcIF8UZ"
   },
   "outputs": [],
   "source": [
    "X = df.drop(['class'], axis=1)\n",
    "\n",
    "y = df['class']"
   ]
  },
  {
   "cell_type": "code",
   "execution_count": null,
   "metadata": {
    "id": "ab52f0gaGPNp"
   },
   "outputs": [],
   "source": [
    "X_train, X_test, y_train, y_test = train_test_split(X, y, test_size=0.40, random_state=0)"
   ]
  },
  {
   "cell_type": "code",
   "execution_count": null,
   "metadata": {
    "colab": {
     "base_uri": "https://localhost:8080/"
    },
    "id": "fJr2Kl_VGfCB",
    "outputId": "f735dadc-ffc8-40db-d380-60ec813943bf"
   },
   "outputs": [
    {
     "data": {
      "text/plain": [
       "((46, 100), (31, 100))"
      ]
     },
     "metadata": {},
     "output_type": "display_data"
    }
   ],
   "source": [
    "X_train.shape, X_test.shape"
   ]
  },
  {
   "cell_type": "markdown",
   "metadata": {
    "id": "CGHxPLN-Gu2K"
   },
   "source": [
    "## Decision Tree Classifier with Gini Index"
   ]
  },
  {
   "cell_type": "code",
   "execution_count": null,
   "metadata": {
    "colab": {
     "base_uri": "https://localhost:8080/"
    },
    "id": "iFqYCq6IGhqG",
    "outputId": "e29da0c3-30e5-48f7-9a70-effd69a3efd1"
   },
   "outputs": [
    {
     "data": {
      "text/plain": [
       "DecisionTreeClassifier(max_depth=5, min_samples_leaf=6, random_state=0)"
      ]
     },
     "metadata": {},
     "output_type": "display_data"
    }
   ],
   "source": [
    "clf_gini = DecisionTreeClassifier(criterion=\"gini\",\n",
    "                                  max_depth=5,\n",
    "                                  min_samples_leaf=6,\n",
    "                                  random_state=0)\n",
    "\n",
    "\n",
    "\n",
    "clf_gini.fit(X_train, y_train)"
   ]
  },
  {
   "cell_type": "code",
   "execution_count": null,
   "metadata": {
    "colab": {
     "base_uri": "https://localhost:8080/",
     "height": 440
    },
    "id": "Kl_5KJzmNgyQ",
    "outputId": "f3c17726-d705-4175-cfdb-29b60d8aee04"
   },
   "outputs": [
    {
     "data": {
      "image/svg+xml": "<?xml version=\"1.0\" encoding=\"UTF-8\" standalone=\"no\"?>\n<!DOCTYPE svg PUBLIC \"-//W3C//DTD SVG 1.1//EN\"\n \"http://www.w3.org/Graphics/SVG/1.1/DTD/svg11.dtd\">\n<!-- Generated by graphviz version 2.40.1 (20161225.0304)\n -->\n<!-- Title: Tree Pages: 1 -->\n<svg width=\"333pt\" height=\"314pt\"\n viewBox=\"0.00 0.00 333.00 314.00\" xmlns=\"http://www.w3.org/2000/svg\" xmlns:xlink=\"http://www.w3.org/1999/xlink\">\n<g id=\"graph0\" class=\"graph\" transform=\"scale(1 1) rotate(0) translate(4 310)\">\n<title>Tree</title>\n<polygon fill=\"#ffffff\" stroke=\"transparent\" points=\"-4,4 -4,-310 329,-310 329,4 -4,4\"/>\n<!-- 0 -->\n<g id=\"node1\" class=\"node\">\n<title>0</title>\n<path fill=\"#eca470\" stroke=\"#000000\" d=\"M251,-306C251,-306 138,-306 138,-306 132,-306 126,-300 126,-294 126,-294 126,-235 126,-235 126,-229 132,-223 138,-223 138,-223 251,-223 251,-223 257,-223 263,-229 263,-235 263,-235 263,-294 263,-294 263,-300 257,-306 251,-306\"/>\n<text text-anchor=\"start\" x=\"134\" y=\"-290.8\" font-family=\"Helvetica,sans-Serif\" font-size=\"14.00\" fill=\"#000000\">U28386_at ≤ &#45;0.41</text>\n<text text-anchor=\"start\" x=\"161\" y=\"-275.8\" font-family=\"Helvetica,sans-Serif\" font-size=\"14.00\" fill=\"#000000\">gini = 0.34</text>\n<text text-anchor=\"start\" x=\"150.5\" y=\"-260.8\" font-family=\"Helvetica,sans-Serif\" font-size=\"14.00\" fill=\"#000000\">samples = 46</text>\n<text text-anchor=\"start\" x=\"144.5\" y=\"-245.8\" font-family=\"Helvetica,sans-Serif\" font-size=\"14.00\" fill=\"#000000\">value = [36, 10]</text>\n<text text-anchor=\"start\" x=\"146\" y=\"-230.8\" font-family=\"Helvetica,sans-Serif\" font-size=\"14.00\" fill=\"#000000\">class = DLBCL</text>\n</g>\n<!-- 1 -->\n<g id=\"node2\" class=\"node\">\n<title>1</title>\n<path fill=\"#fdf4ed\" stroke=\"#000000\" d=\"M182,-187C182,-187 61,-187 61,-187 55,-187 49,-181 49,-175 49,-175 49,-116 49,-116 49,-110 55,-104 61,-104 61,-104 182,-104 182,-104 188,-104 194,-110 194,-116 194,-116 194,-175 194,-175 194,-181 188,-187 182,-187\"/>\n<text text-anchor=\"start\" x=\"57\" y=\"-171.8\" font-family=\"Helvetica,sans-Serif\" font-size=\"14.00\" fill=\"#000000\">D86550_at ≤ &#45;0.619</text>\n<text text-anchor=\"start\" x=\"83.5\" y=\"-156.8\" font-family=\"Helvetica,sans-Serif\" font-size=\"14.00\" fill=\"#000000\">gini = 0.499</text>\n<text text-anchor=\"start\" x=\"77.5\" y=\"-141.8\" font-family=\"Helvetica,sans-Serif\" font-size=\"14.00\" fill=\"#000000\">samples = 21</text>\n<text text-anchor=\"start\" x=\"71.5\" y=\"-126.8\" font-family=\"Helvetica,sans-Serif\" font-size=\"14.00\" fill=\"#000000\">value = [11, 10]</text>\n<text text-anchor=\"start\" x=\"73\" y=\"-111.8\" font-family=\"Helvetica,sans-Serif\" font-size=\"14.00\" fill=\"#000000\">class = DLBCL</text>\n</g>\n<!-- 0&#45;&gt;1 -->\n<g id=\"edge1\" class=\"edge\">\n<title>0&#45;&gt;1</title>\n<path fill=\"none\" stroke=\"#000000\" d=\"M168.9681,-222.8796C163.609,-214.1434 157.9021,-204.8404 152.3718,-195.8253\"/>\n<polygon fill=\"#000000\" stroke=\"#000000\" points=\"155.3533,-193.9919 147.1408,-187.2981 149.3865,-197.6522 155.3533,-193.9919\"/>\n<text text-anchor=\"middle\" x=\"141.3161\" y=\"-207.9101\" font-family=\"Helvetica,sans-Serif\" font-size=\"14.00\" fill=\"#000000\">True</text>\n</g>\n<!-- 4 -->\n<g id=\"node5\" class=\"node\">\n<title>4</title>\n<path fill=\"#e58139\" stroke=\"#000000\" d=\"M313,-179.5C313,-179.5 224,-179.5 224,-179.5 218,-179.5 212,-173.5 212,-167.5 212,-167.5 212,-123.5 212,-123.5 212,-117.5 218,-111.5 224,-111.5 224,-111.5 313,-111.5 313,-111.5 319,-111.5 325,-117.5 325,-123.5 325,-123.5 325,-167.5 325,-167.5 325,-173.5 319,-179.5 313,-179.5\"/>\n<text text-anchor=\"start\" x=\"239\" y=\"-164.3\" font-family=\"Helvetica,sans-Serif\" font-size=\"14.00\" fill=\"#000000\">gini = 0.0</text>\n<text text-anchor=\"start\" x=\"224.5\" y=\"-149.3\" font-family=\"Helvetica,sans-Serif\" font-size=\"14.00\" fill=\"#000000\">samples = 25</text>\n<text text-anchor=\"start\" x=\"223\" y=\"-134.3\" font-family=\"Helvetica,sans-Serif\" font-size=\"14.00\" fill=\"#000000\">value = [25, 0]</text>\n<text text-anchor=\"start\" x=\"220\" y=\"-119.3\" font-family=\"Helvetica,sans-Serif\" font-size=\"14.00\" fill=\"#000000\">class = DLBCL</text>\n</g>\n<!-- 0&#45;&gt;4 -->\n<g id=\"edge4\" class=\"edge\">\n<title>0&#45;&gt;4</title>\n<path fill=\"none\" stroke=\"#000000\" d=\"M220.3816,-222.8796C227.2879,-211.7735 234.7639,-199.7513 241.7175,-188.5691\"/>\n<polygon fill=\"#000000\" stroke=\"#000000\" points=\"244.8527,-190.1552 247.1613,-179.8149 238.9083,-186.4587 244.8527,-190.1552\"/>\n<text text-anchor=\"middle\" x=\"252.8381\" y=\"-200.4619\" font-family=\"Helvetica,sans-Serif\" font-size=\"14.00\" fill=\"#000000\">False</text>\n</g>\n<!-- 2 -->\n<g id=\"node3\" class=\"node\">\n<title>2</title>\n<path fill=\"#e88e4d\" stroke=\"#000000\" d=\"M101,-68C101,-68 12,-68 12,-68 6,-68 0,-62 0,-56 0,-56 0,-12 0,-12 0,-6 6,0 12,0 12,0 101,0 101,0 107,0 113,-6 113,-12 113,-12 113,-56 113,-56 113,-62 107,-68 101,-68\"/>\n<text text-anchor=\"start\" x=\"18.5\" y=\"-52.8\" font-family=\"Helvetica,sans-Serif\" font-size=\"14.00\" fill=\"#000000\">gini = 0.165</text>\n<text text-anchor=\"start\" x=\"12.5\" y=\"-37.8\" font-family=\"Helvetica,sans-Serif\" font-size=\"14.00\" fill=\"#000000\">samples = 11</text>\n<text text-anchor=\"start\" x=\"11\" y=\"-22.8\" font-family=\"Helvetica,sans-Serif\" font-size=\"14.00\" fill=\"#000000\">value = [10, 1]</text>\n<text text-anchor=\"start\" x=\"8\" y=\"-7.8\" font-family=\"Helvetica,sans-Serif\" font-size=\"14.00\" fill=\"#000000\">class = DLBCL</text>\n</g>\n<!-- 1&#45;&gt;2 -->\n<g id=\"edge2\" class=\"edge\">\n<title>1&#45;&gt;2</title>\n<path fill=\"none\" stroke=\"#000000\" d=\"M97.2964,-103.9815C92.1529,-95.1585 86.7123,-85.8258 81.5384,-76.9506\"/>\n<polygon fill=\"#000000\" stroke=\"#000000\" points=\"84.5344,-75.1402 76.4743,-68.2637 78.487,-78.6656 84.5344,-75.1402\"/>\n</g>\n<!-- 3 -->\n<g id=\"node4\" class=\"node\">\n<title>3</title>\n<path fill=\"#4fa8e8\" stroke=\"#000000\" d=\"M232,-68C232,-68 143,-68 143,-68 137,-68 131,-62 131,-56 131,-56 131,-12 131,-12 131,-6 137,0 143,0 143,0 232,0 232,0 238,0 244,-6 244,-12 244,-12 244,-56 244,-56 244,-62 238,-68 232,-68\"/>\n<text text-anchor=\"start\" x=\"154\" y=\"-52.8\" font-family=\"Helvetica,sans-Serif\" font-size=\"14.00\" fill=\"#000000\">gini = 0.18</text>\n<text text-anchor=\"start\" x=\"143.5\" y=\"-37.8\" font-family=\"Helvetica,sans-Serif\" font-size=\"14.00\" fill=\"#000000\">samples = 10</text>\n<text text-anchor=\"start\" x=\"146\" y=\"-22.8\" font-family=\"Helvetica,sans-Serif\" font-size=\"14.00\" fill=\"#000000\">value = [1, 9]</text>\n<text text-anchor=\"start\" x=\"139\" y=\"-7.8\" font-family=\"Helvetica,sans-Serif\" font-size=\"14.00\" fill=\"#000000\">class = DLBCL</text>\n</g>\n<!-- 1&#45;&gt;3 -->\n<g id=\"edge3\" class=\"edge\">\n<title>1&#45;&gt;3</title>\n<path fill=\"none\" stroke=\"#000000\" d=\"M146.076,-103.9815C151.2986,-95.1585 156.8229,-85.8258 162.0763,-76.9506\"/>\n<polygon fill=\"#000000\" stroke=\"#000000\" points=\"165.1364,-78.652 167.2184,-68.2637 159.1126,-75.0863 165.1364,-78.652\"/>\n</g>\n</g>\n</svg>\n",
      "text/plain": [
       "<graphviz.files.Source at 0x7f6a22a77550>"
      ]
     },
     "metadata": {},
     "output_type": "display_data"
    }
   ],
   "source": [
    "\n",
    "dot_data = tree.export_graphviz(clf_gini, out_file=None, \n",
    "                              feature_names=X_train.columns,  \n",
    "                              class_names=y_train,  \n",
    "                              filled=True, rounded=True,  \n",
    "                              special_characters=True)\n",
    "\n",
    "graph = graphviz.Source(dot_data) \n",
    "\n",
    "graph "
   ]
  },
  {
   "cell_type": "code",
   "execution_count": null,
   "metadata": {
    "id": "JhZx6MVAHB6A"
   },
   "outputs": [],
   "source": [
    "y_pred_gini = clf_gini.predict(X_test)"
   ]
  },
  {
   "cell_type": "code",
   "execution_count": null,
   "metadata": {
    "colab": {
     "base_uri": "https://localhost:8080/"
    },
    "id": "DZYC3ZbwHJr9",
    "outputId": "76b63903-846c-4a1c-f994-68027e207696"
   },
   "outputs": [
    {
     "data": {
      "text/plain": [
       "0.8387096774193549"
      ]
     },
     "metadata": {},
     "output_type": "display_data"
    }
   ],
   "source": [
    "acc_score = accuracy_score(y_test, y_pred_gini)\n",
    "acc_score"
   ]
  },
  {
   "cell_type": "code",
   "execution_count": null,
   "metadata": {
    "colab": {
     "base_uri": "https://localhost:8080/"
    },
    "id": "0lf6GPndH9mC",
    "outputId": "5025d8d8-46e9-47ab-9962-3205a467a4e1"
   },
   "outputs": [
    {
     "name": "stdout",
     "output_type": "stream",
     "text": [
      "Training set score: 0.9565\n",
      "Test set score: 0.8387\n"
     ]
    }
   ],
   "source": [
    "print(f'Training set score: {clf_gini.score(X_train, y_train):.4f}')\n",
    "\n",
    "print(f'Test set score: {clf_gini.score(X_test, y_test):.4f}')"
   ]
  },
  {
   "cell_type": "code",
   "execution_count": null,
   "metadata": {
    "colab": {
     "base_uri": "https://localhost:8080/"
    },
    "id": "N5jefhUOIWlN",
    "outputId": "f563ca48-67f1-4bd7-8d38-1af46c90d602"
   },
   "outputs": [
    {
     "data": {
      "text/plain": [
       "array([[21,  1],\n",
       "       [ 4,  5]])"
      ]
     },
     "metadata": {},
     "output_type": "display_data"
    }
   ],
   "source": [
    "confusion_matrix(y_test, y_pred_gini)"
   ]
  },
  {
   "cell_type": "markdown",
   "metadata": {
    "id": "VpV6ijg_Q1Yz"
   },
   "source": [
    "## Decision Tree Classifier with Entropy"
   ]
  },
  {
   "cell_type": "code",
   "execution_count": null,
   "metadata": {
    "colab": {
     "base_uri": "https://localhost:8080/"
    },
    "id": "Nek8EZQjNY_s",
    "outputId": "9ce362ad-4cf0-43dd-bf90-a01abf04e0bd"
   },
   "outputs": [
    {
     "data": {
      "text/plain": [
       "DecisionTreeClassifier(criterion='entropy', max_depth=5, min_samples_leaf=6,\n",
       "                       random_state=10)"
      ]
     },
     "metadata": {},
     "output_type": "display_data"
    }
   ],
   "source": [
    "clf_en = DecisionTreeClassifier(criterion='entropy',\n",
    "                                max_depth=5,\n",
    "                                random_state=10,\n",
    "                                min_samples_leaf=6)\n",
    "\n",
    "\n",
    "# fit the model\n",
    "clf_en.fit(X_train, y_train)"
   ]
  },
  {
   "cell_type": "code",
   "execution_count": null,
   "metadata": {
    "colab": {
     "base_uri": "https://localhost:8080/",
     "height": 440
    },
    "id": "iVdPq-beOtQM",
    "outputId": "e4a6e3a7-083c-42e8-9fa1-fba1e3793cda"
   },
   "outputs": [
    {
     "data": {
      "image/svg+xml": "<?xml version=\"1.0\" encoding=\"UTF-8\" standalone=\"no\"?>\n<!DOCTYPE svg PUBLIC \"-//W3C//DTD SVG 1.1//EN\"\n \"http://www.w3.org/Graphics/SVG/1.1/DTD/svg11.dtd\">\n<!-- Generated by graphviz version 2.40.1 (20161225.0304)\n -->\n<!-- Title: Tree Pages: 1 -->\n<svg width=\"339pt\" height=\"314pt\"\n viewBox=\"0.00 0.00 338.50 314.00\" xmlns=\"http://www.w3.org/2000/svg\" xmlns:xlink=\"http://www.w3.org/1999/xlink\">\n<g id=\"graph0\" class=\"graph\" transform=\"scale(1 1) rotate(0) translate(4 310)\">\n<title>Tree</title>\n<polygon fill=\"#ffffff\" stroke=\"transparent\" points=\"-4,4 -4,-310 334.5,-310 334.5,4 -4,4\"/>\n<!-- 0 -->\n<g id=\"node1\" class=\"node\">\n<title>0</title>\n<path fill=\"#eca470\" stroke=\"#000000\" d=\"M256.5,-306C256.5,-306 143.5,-306 143.5,-306 137.5,-306 131.5,-300 131.5,-294 131.5,-294 131.5,-235 131.5,-235 131.5,-229 137.5,-223 143.5,-223 143.5,-223 256.5,-223 256.5,-223 262.5,-223 268.5,-229 268.5,-235 268.5,-235 268.5,-294 268.5,-294 268.5,-300 262.5,-306 256.5,-306\"/>\n<text text-anchor=\"start\" x=\"139.5\" y=\"-290.8\" font-family=\"Helvetica,sans-Serif\" font-size=\"14.00\" fill=\"#000000\">U28386_at ≤ &#45;0.41</text>\n<text text-anchor=\"start\" x=\"149\" y=\"-275.8\" font-family=\"Helvetica,sans-Serif\" font-size=\"14.00\" fill=\"#000000\">entropy = 0.755</text>\n<text text-anchor=\"start\" x=\"156\" y=\"-260.8\" font-family=\"Helvetica,sans-Serif\" font-size=\"14.00\" fill=\"#000000\">samples = 46</text>\n<text text-anchor=\"start\" x=\"150\" y=\"-245.8\" font-family=\"Helvetica,sans-Serif\" font-size=\"14.00\" fill=\"#000000\">value = [36, 10]</text>\n<text text-anchor=\"start\" x=\"151.5\" y=\"-230.8\" font-family=\"Helvetica,sans-Serif\" font-size=\"14.00\" fill=\"#000000\">class = DLBCL</text>\n</g>\n<!-- 1 -->\n<g id=\"node2\" class=\"node\">\n<title>1</title>\n<path fill=\"#fdf4ed\" stroke=\"#000000\" d=\"M187.5,-187C187.5,-187 66.5,-187 66.5,-187 60.5,-187 54.5,-181 54.5,-175 54.5,-175 54.5,-116 54.5,-116 54.5,-110 60.5,-104 66.5,-104 66.5,-104 187.5,-104 187.5,-104 193.5,-104 199.5,-110 199.5,-116 199.5,-116 199.5,-175 199.5,-175 199.5,-181 193.5,-187 187.5,-187\"/>\n<text text-anchor=\"start\" x=\"62.5\" y=\"-171.8\" font-family=\"Helvetica,sans-Serif\" font-size=\"14.00\" fill=\"#000000\">D86550_at ≤ &#45;0.619</text>\n<text text-anchor=\"start\" x=\"76\" y=\"-156.8\" font-family=\"Helvetica,sans-Serif\" font-size=\"14.00\" fill=\"#000000\">entropy = 0.998</text>\n<text text-anchor=\"start\" x=\"83\" y=\"-141.8\" font-family=\"Helvetica,sans-Serif\" font-size=\"14.00\" fill=\"#000000\">samples = 21</text>\n<text text-anchor=\"start\" x=\"77\" y=\"-126.8\" font-family=\"Helvetica,sans-Serif\" font-size=\"14.00\" fill=\"#000000\">value = [11, 10]</text>\n<text text-anchor=\"start\" x=\"78.5\" y=\"-111.8\" font-family=\"Helvetica,sans-Serif\" font-size=\"14.00\" fill=\"#000000\">class = DLBCL</text>\n</g>\n<!-- 0&#45;&gt;1 -->\n<g id=\"edge1\" class=\"edge\">\n<title>0&#45;&gt;1</title>\n<path fill=\"none\" stroke=\"#000000\" d=\"M174.4681,-222.8796C169.109,-214.1434 163.4021,-204.8404 157.8718,-195.8253\"/>\n<polygon fill=\"#000000\" stroke=\"#000000\" points=\"160.8533,-193.9919 152.6408,-187.2981 154.8865,-197.6522 160.8533,-193.9919\"/>\n<text text-anchor=\"middle\" x=\"146.8161\" y=\"-207.9101\" font-family=\"Helvetica,sans-Serif\" font-size=\"14.00\" fill=\"#000000\">True</text>\n</g>\n<!-- 4 -->\n<g id=\"node5\" class=\"node\">\n<title>4</title>\n<path fill=\"#e58139\" stroke=\"#000000\" d=\"M318.5,-179.5C318.5,-179.5 229.5,-179.5 229.5,-179.5 223.5,-179.5 217.5,-173.5 217.5,-167.5 217.5,-167.5 217.5,-123.5 217.5,-123.5 217.5,-117.5 223.5,-111.5 229.5,-111.5 229.5,-111.5 318.5,-111.5 318.5,-111.5 324.5,-111.5 330.5,-117.5 330.5,-123.5 330.5,-123.5 330.5,-167.5 330.5,-167.5 330.5,-173.5 324.5,-179.5 318.5,-179.5\"/>\n<text text-anchor=\"start\" x=\"231.5\" y=\"-164.3\" font-family=\"Helvetica,sans-Serif\" font-size=\"14.00\" fill=\"#000000\">entropy = 0.0</text>\n<text text-anchor=\"start\" x=\"230\" y=\"-149.3\" font-family=\"Helvetica,sans-Serif\" font-size=\"14.00\" fill=\"#000000\">samples = 25</text>\n<text text-anchor=\"start\" x=\"228.5\" y=\"-134.3\" font-family=\"Helvetica,sans-Serif\" font-size=\"14.00\" fill=\"#000000\">value = [25, 0]</text>\n<text text-anchor=\"start\" x=\"225.5\" y=\"-119.3\" font-family=\"Helvetica,sans-Serif\" font-size=\"14.00\" fill=\"#000000\">class = DLBCL</text>\n</g>\n<!-- 0&#45;&gt;4 -->\n<g id=\"edge4\" class=\"edge\">\n<title>0&#45;&gt;4</title>\n<path fill=\"none\" stroke=\"#000000\" d=\"M225.8816,-222.8796C232.7879,-211.7735 240.2639,-199.7513 247.2175,-188.5691\"/>\n<polygon fill=\"#000000\" stroke=\"#000000\" points=\"250.3527,-190.1552 252.6613,-179.8149 244.4083,-186.4587 250.3527,-190.1552\"/>\n<text text-anchor=\"middle\" x=\"258.3381\" y=\"-200.4619\" font-family=\"Helvetica,sans-Serif\" font-size=\"14.00\" fill=\"#000000\">False</text>\n</g>\n<!-- 2 -->\n<g id=\"node3\" class=\"node\">\n<title>2</title>\n<path fill=\"#e88e4d\" stroke=\"#000000\" d=\"M106,-68C106,-68 12,-68 12,-68 6,-68 0,-62 0,-56 0,-56 0,-12 0,-12 0,-6 6,0 12,0 12,0 106,0 106,0 112,0 118,-6 118,-12 118,-12 118,-56 118,-56 118,-62 112,-68 106,-68\"/>\n<text text-anchor=\"start\" x=\"8\" y=\"-52.8\" font-family=\"Helvetica,sans-Serif\" font-size=\"14.00\" fill=\"#000000\">entropy = 0.439</text>\n<text text-anchor=\"start\" x=\"15\" y=\"-37.8\" font-family=\"Helvetica,sans-Serif\" font-size=\"14.00\" fill=\"#000000\">samples = 11</text>\n<text text-anchor=\"start\" x=\"13.5\" y=\"-22.8\" font-family=\"Helvetica,sans-Serif\" font-size=\"14.00\" fill=\"#000000\">value = [10, 1]</text>\n<text text-anchor=\"start\" x=\"10.5\" y=\"-7.8\" font-family=\"Helvetica,sans-Serif\" font-size=\"14.00\" fill=\"#000000\">class = DLBCL</text>\n</g>\n<!-- 1&#45;&gt;2 -->\n<g id=\"edge2\" class=\"edge\">\n<title>1&#45;&gt;2</title>\n<path fill=\"none\" stroke=\"#000000\" d=\"M101.6793,-103.9815C96.2984,-95.1585 90.6068,-85.8258 85.1941,-76.9506\"/>\n<polygon fill=\"#000000\" stroke=\"#000000\" points=\"88.0912,-74.9789 79.8962,-68.2637 82.1149,-78.6236 88.0912,-74.9789\"/>\n</g>\n<!-- 3 -->\n<g id=\"node4\" class=\"node\">\n<title>3</title>\n<path fill=\"#4fa8e8\" stroke=\"#000000\" d=\"M242,-68C242,-68 148,-68 148,-68 142,-68 136,-62 136,-56 136,-56 136,-12 136,-12 136,-6 142,0 148,0 148,0 242,0 242,0 248,0 254,-6 254,-12 254,-12 254,-56 254,-56 254,-62 248,-68 242,-68\"/>\n<text text-anchor=\"start\" x=\"144\" y=\"-52.8\" font-family=\"Helvetica,sans-Serif\" font-size=\"14.00\" fill=\"#000000\">entropy = 0.469</text>\n<text text-anchor=\"start\" x=\"151\" y=\"-37.8\" font-family=\"Helvetica,sans-Serif\" font-size=\"14.00\" fill=\"#000000\">samples = 10</text>\n<text text-anchor=\"start\" x=\"153.5\" y=\"-22.8\" font-family=\"Helvetica,sans-Serif\" font-size=\"14.00\" fill=\"#000000\">value = [1, 9]</text>\n<text text-anchor=\"start\" x=\"146.5\" y=\"-7.8\" font-family=\"Helvetica,sans-Serif\" font-size=\"14.00\" fill=\"#000000\">class = DLBCL</text>\n</g>\n<!-- 1&#45;&gt;3 -->\n<g id=\"edge3\" class=\"edge\">\n<title>1&#45;&gt;3</title>\n<path fill=\"none\" stroke=\"#000000\" d=\"M152.3207,-103.9815C157.7016,-95.1585 163.3932,-85.8258 168.8059,-76.9506\"/>\n<polygon fill=\"#000000\" stroke=\"#000000\" points=\"171.8851,-78.6236 174.1038,-68.2637 165.9088,-74.9789 171.8851,-78.6236\"/>\n</g>\n</g>\n</svg>\n",
      "text/plain": [
       "<graphviz.files.Source at 0x7f6a22a891d0>"
      ]
     },
     "metadata": {},
     "output_type": "display_data"
    }
   ],
   "source": [
    "dot_data = tree.export_graphviz(clf_en, out_file=None, \n",
    "                              feature_names=X_train.columns,  \n",
    "                              class_names=y_train,  \n",
    "                              filled=True, rounded=True,  \n",
    "                              special_characters=True)\n",
    "\n",
    "graph = graphviz.Source(dot_data) \n",
    "\n",
    "graph "
   ]
  },
  {
   "cell_type": "code",
   "execution_count": null,
   "metadata": {
    "id": "ya5nH6LoOVmv"
   },
   "outputs": [],
   "source": [
    "y_pred_en = clf_en.predict(X_test)"
   ]
  },
  {
   "cell_type": "code",
   "execution_count": null,
   "metadata": {
    "colab": {
     "base_uri": "https://localhost:8080/"
    },
    "id": "jFdoHyQNOXmg",
    "outputId": "14dcce38-5088-491d-9b7c-bde41ffb3d7e"
   },
   "outputs": [
    {
     "data": {
      "text/plain": [
       "0.8387096774193549"
      ]
     },
     "metadata": {},
     "output_type": "display_data"
    }
   ],
   "source": [
    "acc_score = accuracy_score(y_test, y_pred_en)\n",
    "acc_score"
   ]
  },
  {
   "cell_type": "code",
   "execution_count": null,
   "metadata": {
    "colab": {
     "base_uri": "https://localhost:8080/"
    },
    "id": "aa6ATHQFOdWW",
    "outputId": "4e7bf1a5-6d1a-4a4d-a42f-797aad7301b9"
   },
   "outputs": [
    {
     "name": "stdout",
     "output_type": "stream",
     "text": [
      "Training set score: 0.9565\n",
      "Test set score: 0.8387\n"
     ]
    }
   ],
   "source": [
    "print(f'Training set score: {clf_en.score(X_train, y_train):.4f}')\n",
    "\n",
    "print(f'Test set score: {clf_en.score(X_test, y_test):.4f}')"
   ]
  },
  {
   "cell_type": "code",
   "execution_count": null,
   "metadata": {
    "colab": {
     "base_uri": "https://localhost:8080/"
    },
    "id": "qHGf8jLfPgNK",
    "outputId": "8cb35849-3821-4f6a-edc1-184290d259dd"
   },
   "outputs": [
    {
     "data": {
      "text/plain": [
       "array([[21,  1],\n",
       "       [ 4,  5]])"
      ]
     },
     "metadata": {},
     "output_type": "display_data"
    }
   ],
   "source": [
    "confusion_matrix(y_test, y_pred_en)"
   ]
  },
  {
   "cell_type": "markdown",
   "metadata": {},
   "source": [
    "## 2. SVM on the dataset"
   ]
  },
  {
   "cell_type": "code",
   "execution_count": null,
   "metadata": {
    "id": "MOLhyZhrPhP-"
   },
   "outputs": [],
   "source": [
    "df = pd.read_csv(dataset_url)\n",
    "df.head()\n",
    "\n",
    "\n",
    "X = df.drop(['class'], axis=1)\n",
    "\n",
    "y = df['class']"
   ]
  },
  {
   "cell_type": "code",
   "execution_count": null,
   "metadata": {
    "id": "krF-eLUxSNT1"
   },
   "outputs": [],
   "source": [
    "X_train, X_test, y_train, y_test = train_test_split(X, y, test_size = 0.4, random_state = 10)"
   ]
  },
  {
   "cell_type": "code",
   "execution_count": null,
   "metadata": {
    "id": "8gMNV-VPTV_D"
   },
   "outputs": [],
   "source": [
    "# import SVC classifier\n",
    "from sklearn.svm import SVC\n",
    "\n",
    "linear_svc=SVC(kernel='linear', C=1) \n",
    "\n",
    "linear_svc.fit(X_train,y_train)\n",
    "\n",
    "y_pred_svm = linear_svc.predict(X_test)\n",
    " "
   ]
  },
  {
   "cell_type": "code",
   "execution_count": null,
   "metadata": {
    "colab": {
     "base_uri": "https://localhost:8080/"
    },
    "id": "ONcH5_TkTr_5",
    "outputId": "c92ab192-5a59-49b9-d200-4c35876bc9d2"
   },
   "outputs": [
    {
     "data": {
      "text/plain": [
       "0.8709677419354839"
      ]
     },
     "metadata": {},
     "output_type": "display_data"
    }
   ],
   "source": [
    "accuracy_score(y_test, y_pred_svm)"
   ]
  },
  {
   "cell_type": "code",
   "execution_count": null,
   "metadata": {
    "colab": {
     "base_uri": "https://localhost:8080/"
    },
    "id": "ahJz1AbSTxjV",
    "outputId": "d4a55f34-cff1-4929-8e71-8057dc63da7a"
   },
   "outputs": [
    {
     "name": "stdout",
     "output_type": "stream",
     "text": [
      "Training set score: 1.0000\n",
      "Test set score: 0.8710\n"
     ]
    }
   ],
   "source": [
    "# check overfitting\n",
    "\n",
    "print(f'Training set score: {linear_svc.score(X_train, y_train):.4f}')\n",
    "\n",
    "print(f'Test set score: {linear_svc.score(X_test, y_test):.4f}')"
   ]
  },
  {
   "cell_type": "code",
   "execution_count": null,
   "metadata": {
    "colab": {
     "base_uri": "https://localhost:8080/"
    },
    "id": "U2o95uUHT8u1",
    "outputId": "ece2e562-7f2c-4882-877e-f39bdd6a50de"
   },
   "outputs": [
    {
     "data": {
      "text/plain": [
       "array([[20,  3],\n",
       "       [ 1,  7]])"
      ]
     },
     "metadata": {},
     "output_type": "display_data"
    }
   ],
   "source": [
    "confusion_matrix(y_test, y_pred_svm)"
   ]
  },
  {
   "cell_type": "markdown",
   "metadata": {},
   "source": [
    "# Assignment 5"
   ]
  },
  {
   "cell_type": "markdown",
   "metadata": {},
   "source": [
    "## Implement BFS and DFS"
   ]
  },
  {
   "cell_type": "code",
   "execution_count": 31,
   "metadata": {},
   "outputs": [],
   "source": [
    "from __future__ import annotations\n",
    "from abc import ABC, abstractmethod\n",
    "from collections import deque"
   ]
  },
  {
   "cell_type": "code",
   "execution_count": 32,
   "metadata": {},
   "outputs": [],
   "source": [
    "class Problem(ABC):\n",
    "    \"\"\"\n",
    "    Blueprint of the various problems i.e., Abstract class of the problems\n",
    "    \"\"\"\n",
    "\n",
    "    def __init__(self, initial: str, goal: str = None):\n",
    "        self.initial: str = initial  # initial state\n",
    "        self.goal: str = goal  # goal state\n",
    "\n",
    "    @abstractmethod\n",
    "    def actions(self, state: str):\n",
    "        \"\"\"\n",
    "        getting the children (list of child) of a node\n",
    "\n",
    "        :param state: current state\n",
    "        :raises ImplementationError: If not implemented in the extended class\n",
    "        \"\"\"\n",
    "        pass\n",
    "\n",
    "    def goal_test(self, state: str) -> bool:\n",
    "        \"\"\"\n",
    "        Test for the state is the goal state or not\n",
    "\n",
    "        :param state: current state\n",
    "        :returns: if the self.goal and current state are same then returns True ele False\n",
    "        \"\"\"\n",
    "        return state == self.goal"
   ]
  },
  {
   "cell_type": "code",
   "execution_count": 33,
   "metadata": {},
   "outputs": [],
   "source": [
    "class GraphProblem(Problem):\n",
    "    \"\"\"\n",
    "    Extends from the abstract class Problem, it represents the Graph related problems\n",
    "    like Travelling in Romania problem, etc.\n",
    "    \"\"\"\n",
    "\n",
    "    def __init__(self, initial: str, goal: str, graph: Graph):\n",
    "        \"\"\"\n",
    "        constructor of the GraphProblem\n",
    "\n",
    "        :param initial: initial state of the proble\n",
    "        :param goal: goal state of the problem\n",
    "        :param graph: Graph instance of the problem\n",
    "        \"\"\"\n",
    "        super().__init__(initial, goal)\n",
    "        self.graph = graph\n",
    "\n",
    "    def actions(self, A: str) -> list:\n",
    "        \"\"\"\n",
    "        neighbor or child of the parent\n",
    "\n",
    "        :param A: the node to be expanded to get the list of the children\n",
    "        :returns: list of the children\n",
    "        \"\"\"\n",
    "        return list(self.graph.get(A))"
   ]
  },
  {
   "cell_type": "code",
   "execution_count": 34,
   "metadata": {},
   "outputs": [],
   "source": [
    "class Graph:\n",
    "    \"\"\"\n",
    "    Graph class\n",
    "\n",
    "    \"\"\"\n",
    "\n",
    "    def __init__(self, graph_dict: dict = None, directed: bool = True):\n",
    "        \"\"\"\n",
    "        constructor of the Graph\n",
    "\n",
    "        :param graph_dict: dictionary representation of the problem\n",
    "        :param directed: if the dictionary is directed or not\n",
    "        \"\"\"\n",
    "        self.graph_dict: dict = graph_dict or {}\n",
    "        self.directed: bool = directed\n",
    "\n",
    "        # convert the directed graph into the undirected one\n",
    "        if not directed:\n",
    "            self.make_undirected()\n",
    "\n",
    "    def make_undirected(self):\n",
    "        \"\"\"\n",
    "        Algorithm to converts the directed graph into an undirected one.\n",
    "\n",
    "        \"\"\"\n",
    "        for parent in list(self.graph_dict.keys()):  # parent: keys of the dict\n",
    "            for child in self.graph_dict[parent]:  # each child of the parent\n",
    "\n",
    "                # if the child is in the dict i.e., there exists a key in the dict named as the current child\n",
    "                if child in self.graph_dict:\n",
    "                    # if the parent of which the current child is generated\n",
    "                    # is not the list of the child's value\n",
    "                    if parent not in self.graph_dict[child]:\n",
    "                        # update the list of child's value\n",
    "                        # add the parent in the child's value list\n",
    "                        self.connect(child, parent)\n",
    "\n",
    "                # if the child doesn't exist in the dict\n",
    "                else:\n",
    "                    # create the child key with a empty list in the dict\n",
    "                    # and append the parent in the list\n",
    "                    self.connect(child, parent)\n",
    "\n",
    "    def connect(self, A: str, B: str):\n",
    "        \"\"\"\n",
    "        Create a key if not in the dict OR Update the list of the existing key's value\n",
    "\n",
    "        :param A: key of the dict to be craeted or selected for update\n",
    "        :param B: value to be inserted in the list of the key's value\n",
    "        \"\"\"\n",
    "        self.graph_dict.setdefault(A, []).append(B)\n",
    "\n",
    "    def get(self, a: str):\n",
    "        \"\"\"\n",
    "        Class method to get the value of a key of the dict\n",
    "\n",
    "        :param a: the key to get the value from it\n",
    "        :returns: if key a not exists then returns empty dict or the a's values\n",
    "        \"\"\"\n",
    "        return self.graph_dict.setdefault(a, {})\n",
    "\n",
    "\n",
    "def UndirectedGraph(graph_dict: dict = None) -> Graph:\n",
    "    \"\"\"\n",
    "    Creating the undirected graph\n",
    "\n",
    "    :param graph_dict: dictionary of the problem\n",
    "    :returns: undirected representation of the graph as a Graph instance\n",
    "    \"\"\"\n",
    "    return Graph(graph_dict=graph_dict, directed=False)"
   ]
  },
  {
   "cell_type": "code",
   "execution_count": 35,
   "metadata": {},
   "outputs": [],
   "source": [
    "class Node:\n",
    "    \"\"\"\n",
    "    Node class\n",
    "\n",
    "    \"\"\"\n",
    "\n",
    "    def __init__(self, state: str, parent: Node = None):\n",
    "        \"\"\"\n",
    "        constructor of the Node class\n",
    "\n",
    "        :param state: current state\n",
    "        :param parent: previous node from which the current node is expanded, default None\n",
    "         \"\"\"\n",
    "        self.state: str = state\n",
    "        self.parent: Node = parent\n",
    "\n",
    "    def __repr__(self):\n",
    "        \"\"\" Overrides the 'repr' method \"\"\"\n",
    "\n",
    "        return f\"<Node {self.state}>\"\n",
    "\n",
    "    def expand(self, problem: GraphProblem) -> list[Node]:\n",
    "        \"\"\"\n",
    "        Expand the current node or state\n",
    "\n",
    "        :param problem: Problem instance\n",
    "        :returns: the list of the child nodes\n",
    "         \"\"\"\n",
    "        return [self.child_node(action) for action in problem.actions(self.state)]\n",
    "\n",
    "    def child_node(self, action: str) -> Node:\n",
    "        \"\"\"\n",
    "        Create child node instance\n",
    "\n",
    "        :param action: child state\n",
    "        :returns: child Node instance\n",
    "         \"\"\"\n",
    "\n",
    "        # create a child node with the\n",
    "        # state: child state\n",
    "        # parent: current Node\n",
    "        next_node = Node(action, self)\n",
    "\n",
    "        return next_node\n",
    "\n",
    "    def path(self) -> list[Node]:\n",
    "        \"\"\"\n",
    "        Gives the path from start to goal node\n",
    "\n",
    "        \"\"\"\n",
    "        node: Node = self  # node: current Node\n",
    "        path_back: list = list()  # path_back: empty list\n",
    "\n",
    "        while node:\n",
    "            # append the node in the path_back\n",
    "            path_back.append(node)\n",
    "\n",
    "            # now the current node is the parent of the current node\n",
    "            node = node.parent\n",
    "\n",
    "            # returns the reversed list of the path\n",
    "        return path_back[::-1]"
   ]
  },
  {
   "cell_type": "code",
   "execution_count": 43,
   "metadata": {},
   "outputs": [],
   "source": [
    "# bredth-first search: tree search algorithm\n",
    "def bfs_tree(problem: GraphProblem) -> list | None:\n",
    "    \"\"\"\n",
    "    Breadth First Search using Tree Search. Does not Record the visited states\n",
    "\n",
    "    :param problem: GraphProblem instance of the problem\n",
    "    :returns: path of the start to goal or None at the failure to find the path\n",
    "    \"\"\"\n",
    "\n",
    "    # queue\n",
    "    frontier: deque = deque([Node(problem.initial)])\n",
    "\n",
    "    while frontier:\n",
    "        node: Node = frontier.popleft()  # current node selected from the queue\n",
    "\n",
    "        # checks the node after it is expanded\n",
    "        if problem.goal_test(node.state):\n",
    "            return node.path()\n",
    "\n",
    "        # append all the children of the current node at the end of the queue\n",
    "        frontier.extend(node.expand(problem))\n",
    "\n",
    "    # if the path is not found then returns None\n",
    "    return None"
   ]
  },
  {
   "cell_type": "code",
   "execution_count": 44,
   "metadata": {},
   "outputs": [],
   "source": [
    "# breadth-first serach graph search algorithm\n",
    "def bfs_graph(problem: GraphProblem) -> list | None:\n",
    "    \"\"\"\n",
    "    Breadth First Search using Graph Search. Records the visited states\n",
    "\n",
    "    :param problem: GraphProblem instance of the problem\n",
    "    :returns: path of the start to goal or None at the failure to find the path\n",
    "    \"\"\"\n",
    "    # initial node\n",
    "    node: Node = Node(problem.initial)\n",
    "\n",
    "    # checks if the initial state is the goal state\n",
    "    if problem.goal_test(node.state):\n",
    "        return node\n",
    "\n",
    "    # queue\n",
    "    frontier: deque = deque([node])\n",
    "\n",
    "    # storing the visited nodes in a set\n",
    "    explored: set = set()\n",
    "\n",
    "    while frontier:\n",
    "        node = frontier.popleft()  # select the first element from the queue\n",
    "        explored.add(node.state)  # add the node to the visited set\n",
    "\n",
    "        for child in node.expand(problem):\n",
    "            # if the child not in explored and not in the queue \n",
    "            if child.state not in explored and child not in frontier:\n",
    "                if problem.goal_test(child.state):\n",
    "                    return child.path()\n",
    "                frontier.append(child)\n",
    "\n",
    "    # if the path is not found then returns None\n",
    "    return None"
   ]
  },
  {
   "cell_type": "code",
   "execution_count": 47,
   "metadata": {},
   "outputs": [],
   "source": [
    "# depth first tree search\n",
    "def dfs_tree(problem: GraphProblem) -> list | None:\n",
    "    frontier = [Node(problem.initial)]  # Stack\n",
    "\n",
    "    while frontier:\n",
    "        node = frontier.pop()\n",
    "        if problem.goal_test(node.state):\n",
    "            return node\n",
    "        frontier.extend(node.expand(problem))\n",
    "    return None"
   ]
  },
  {
   "cell_type": "code",
   "execution_count": 48,
   "metadata": {},
   "outputs": [],
   "source": [
    "# depth first search\n",
    "def dfs_graph(problem: GraphProblem) -> list | None:\n",
    "    frontier: list = [(Node(problem.initial))]\n",
    "    explored = set()\n",
    "\n",
    "    while frontier:\n",
    "        node = frontier.pop()\n",
    "\n",
    "        if problem.goal_test(node.state):\n",
    "            return node.path()\n",
    "\n",
    "        explored.add(node.state)\n",
    "        frontier.extend(child for child in node.expand(problem)\n",
    "                        if child.state not in explored and child not in frontier)\n",
    "\n",
    "    return None"
   ]
  },
  {
   "cell_type": "code",
   "execution_count": 38,
   "metadata": {},
   "outputs": [],
   "source": [
    "# print the path\n",
    "def print_path(path: list):\n",
    "    [print(p.state, end=\" => \") if i != len(path) - 1 else print(p.state) for i, p in enumerate(path)]"
   ]
  },
  {
   "cell_type": "code",
   "execution_count": 41,
   "metadata": {},
   "outputs": [],
   "source": [
    "# data for the problem of travelling Romania\n",
    "romania_map_graph: dict['str', list['str', ...]] = dict(\n",
    "    Arad=['Zerind', 'Sibiu', 'Timisoara'],\n",
    "    Bucharest=[\"Urziceni\", \"Pitesti\", \"Giurgiu\", \"Fagaras\"],\n",
    "    Craiova=[\"Drobeta\", \"Rimnicu\", \"Pitesti\"],\n",
    "    Drobeta=[\"Mehadia\"],\n",
    "    Eforie=[\"Hirsova\"],\n",
    "    Fagaras=[\"Sibiu\"],\n",
    "    Hirsova=[\"Urziceni\"],\n",
    "    Iasi=[\"Vaslui\", \"Neamt\"],\n",
    "    Lugoj=[\"Timisoara\", \"Mehadia\"],\n",
    "    Oradea=[\"Zerind\", \"Sibiu\"],\n",
    "    Pitesti=[\"Rimnicu\"],\n",
    "    Rimnicu=[\"Sibiu\"],\n",
    "    Urziceni=[\"Vaslui\"]\n",
    ")\n",
    "\n",
    "graph: Graph = UndirectedGraph(romania_map_graph.copy())\n",
    "\n",
    "romania_problem: GraphProblem = GraphProblem('Arad', 'Bucharest', graph)"
   ]
  },
  {
   "cell_type": "code",
   "execution_count": 45,
   "metadata": {},
   "outputs": [
    {
     "name": "stdout",
     "output_type": "stream",
     "text": [
      "Arad => Sibiu => Fagaras => Bucharest\n"
     ]
    }
   ],
   "source": [
    "print_path(bfs_graph(romania_problem))"
   ]
  },
  {
   "cell_type": "code",
   "execution_count": 46,
   "metadata": {},
   "outputs": [
    {
     "name": "stdout",
     "output_type": "stream",
     "text": [
      "Arad => Sibiu => Fagaras => Bucharest\n"
     ]
    }
   ],
   "source": [
    "print_path(bfs_tree(romania_problem))"
   ]
  },
  {
   "cell_type": "code",
   "execution_count": 49,
   "metadata": {},
   "outputs": [
    {
     "name": "stdout",
     "output_type": "stream",
     "text": [
      "Arad => Timisoara => Lugoj => Mehadia => Drobeta => Craiova => Pitesti => Bucharest\n"
     ]
    }
   ],
   "source": [
    "print_path(dfs_graph(romania_problem))  "
   ]
  },
  {
   "cell_type": "code",
   "execution_count": null,
   "metadata": {},
   "outputs": [],
   "source": [
    "# It gives an infinite loop\n",
    "\n",
    "\n",
    "print_path(dfs_tree(romania_problem))  "
   ]
  },
  {
   "cell_type": "markdown",
   "metadata": {},
   "source": [
    "# Assignment 6"
   ]
  },
  {
   "cell_type": "markdown",
   "metadata": {},
   "source": [
    "## Implement the following\n",
    "\n",
    "- Create a chromosome of any length of number (say 100) of randomly generated '0' or '1'\n",
    "- Take two chromosomes (take length = 100), and divide them in the middle point and perform crossover.\n",
    "- Perform mutation over the chromosomes"
   ]
  },
  {
   "cell_type": "code",
   "execution_count": 60,
   "metadata": {},
   "outputs": [],
   "source": [
    "import numpy as np"
   ]
  },
  {
   "cell_type": "code",
   "execution_count": 61,
   "metadata": {},
   "outputs": [],
   "source": [
    "def make_chromosome(size: int) -> str:\n",
    "    return ''.join(map(str, np.random.randint(2, size=size)))"
   ]
  },
  {
   "cell_type": "code",
   "execution_count": 62,
   "metadata": {},
   "outputs": [],
   "source": [
    "def single_point_crossover(parent_1, parent_2):\n",
    "    \"\"\" Middle point split \"\"\"\n",
    "\n",
    "    assert len(chrom_1) == len(chrom_2), \"Different sizes of chromosomes\"\n",
    "\n",
    "    # middle point\n",
    "    mp = len(chrom_1) // 2\n",
    "\n",
    "    child_1 = parent_1[:mp] + parent_2[mp:]\n",
    "    child_2 = parent_2[:mp] + parent_1[mp:]\n",
    "\n",
    "    return child_1, child_2"
   ]
  },
  {
   "cell_type": "code",
   "execution_count": 63,
   "metadata": {},
   "outputs": [],
   "source": [
    "def mutate(chrom: str, mp: float) -> str:\n",
    "    \"\"\"Mutation\"\"\"\n",
    "    c = list(map(int, chrom))\n",
    "    for pos in range(len(c)):\n",
    "        if np.random.random() < mp:\n",
    "            c[pos] = int(not c[pos])\n",
    "\n",
    "    return ''.join(map(str, c))"
   ]
  },
  {
   "cell_type": "markdown",
   "metadata": {},
   "source": [
    "### 1. Make a chromosome"
   ]
  },
  {
   "cell_type": "code",
   "execution_count": 66,
   "metadata": {},
   "outputs": [
    {
     "data": {
      "text/plain": [
       "'1110000000'"
      ]
     },
     "execution_count": 66,
     "metadata": {},
     "output_type": "execute_result"
    }
   ],
   "source": [
    "size = 10\n",
    "chromosome = make_chromosome(size)\n",
    "chromosome"
   ]
  },
  {
   "cell_type": "markdown",
   "metadata": {},
   "source": [
    "### 2. Crossover"
   ]
  },
  {
   "cell_type": "code",
   "execution_count": 67,
   "metadata": {},
   "outputs": [
    {
     "name": "stdout",
     "output_type": "stream",
     "text": [
      "0100011000010110111000101110010111010011100110000000001010101100110001011001101110101000100110010100\n",
      "0000001100111010110110100001010001111100111000101110011010010000011010111000111001011011110010111101\n"
     ]
    }
   ],
   "source": [
    "size = 100\n",
    "\n",
    "chrom_1 = make_chromosome(size)\n",
    "chrom_2 = make_chromosome(size)\n",
    "\n",
    "print(chrom_1)\n",
    "print(chrom_2)"
   ]
  },
  {
   "cell_type": "code",
   "execution_count": 68,
   "metadata": {},
   "outputs": [
    {
     "name": "stdout",
     "output_type": "stream",
     "text": [
      "0100011000010110111000101110010111010011100110000010011010010000011010111000111001011011110010111101\n",
      "0000001100111010110110100001010001111100111000101100001010101100110001011001101110101000100110010100\n"
     ]
    }
   ],
   "source": [
    "# crossover\n",
    "child_1, child_2 = single_point_crossover(chrom_1, chrom_2)\n",
    "\n",
    "print(child_1)\n",
    "print(child_2)"
   ]
  },
  {
   "cell_type": "code",
   "execution_count": 70,
   "metadata": {},
   "outputs": [
    {
     "data": {
      "text/plain": [
       "'0110011010010011111010101110010111001111001010010000001010000100001010111010101001110111111010110101'"
      ]
     },
     "execution_count": 70,
     "metadata": {},
     "output_type": "execute_result"
    }
   ],
   "source": [
    "mutation_probability = 0.2\n",
    "\n",
    "mutate(child_1, mutation_probability)"
   ]
  },
  {
   "cell_type": "code",
   "execution_count": 71,
   "metadata": {},
   "outputs": [
    {
     "data": {
      "text/plain": [
       "'0000100000011010110100110001001001011001100000100100001100101100110011011001101111111001100110011100'"
      ]
     },
     "execution_count": 71,
     "metadata": {},
     "output_type": "execute_result"
    }
   ],
   "source": [
    "mutate(child_2, mutation_probability)\n"
   ]
  }
 ],
 "metadata": {
  "kernelspec": {
   "display_name": "Python 3.10.4 64-bit",
   "language": "python",
   "name": "python3"
  },
  "language_info": {
   "codemirror_mode": {
    "name": "ipython",
    "version": 3
   },
   "file_extension": ".py",
   "mimetype": "text/x-python",
   "name": "python",
   "nbconvert_exporter": "python",
   "pygments_lexer": "ipython3",
   "version": "3.10.4"
  },
  "orig_nbformat": 4,
  "vscode": {
   "interpreter": {
    "hash": "8cd2d8d0f717c285aebeea7a022921ec2e4a5c93fafb569ea2c63ee6e5a722b1"
   }
  }
 },
 "nbformat": 4,
 "nbformat_minor": 2
}
